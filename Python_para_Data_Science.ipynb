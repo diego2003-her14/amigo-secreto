{
  "nbformat": 4,
  "nbformat_minor": 0,
  "metadata": {
    "colab": {
      "provenance": [],
      "toc_visible": true,
      "include_colab_link": true
    },
    "kernelspec": {
      "name": "python3",
      "display_name": "Python 3"
    },
    "language_info": {
      "name": "python"
    }
  },
  "cells": [
    {
      "cell_type": "markdown",
      "metadata": {
        "id": "view-in-github",
        "colab_type": "text"
      },
      "source": [
        "<a href=\"https://colab.research.google.com/github/diego2003-her14/amigo-secreto/blob/main/Python_para_Data_Science.ipynb\" target=\"_parent\"><img src=\"https://colab.research.google.com/assets/colab-badge.svg\" alt=\"Open In Colab\"/></a>"
      ]
    },
    {
      "cell_type": "markdown",
      "source": [
        "# <font color=green> **PYTHON PARA DATA SCIENCE**\n",
        "---"
      ],
      "metadata": {
        "id": "AGc2Cf4cBwd7"
      }
    },
    {
      "cell_type": "markdown",
      "source": [
        "## <font color=green> 1. BIBLIOTECAS\n",
        "---"
      ],
      "metadata": {
        "id": "fH2br9y9CYZ8"
      }
    },
    {
      "cell_type": "markdown",
      "source": [
        "## 1.1 Instalación e importación de bibliotecas\n",
        "\n",
        "En el lenguaje Python se utiliza bastante el concepto de bibliotecas como un conjunto de módulos y funciones útiles para el usuario. Estas favorecen la reducción del uso de códigos en el proyecto, manteniendo únicamente los recursos necesarios para la tarea que deseamos realizar."
      ],
      "metadata": {
        "id": "jjEKgfiuFzHz"
      }
    },
    {
      "cell_type": "markdown",
      "source": [
        "### Instalando una biblioteca"
      ],
      "metadata": {
        "id": "JjpazCgqDRfZ"
      }
    },
    {
      "cell_type": "markdown",
      "source": [
        "Para instalar o actualizar una biblioteca en Python, podemos acudir a `pip` que es un gestor de bibliotecas en Python."
      ],
      "metadata": {
        "id": "_qnuIo7oIQYx"
      }
    },
    {
      "cell_type": "markdown",
      "source": [
        "Existe también PYPI que es un repositorio de bibliotecas Python que contiene las bibliotecas más utilizadas por la comunidad junto a su respectiva documentación.\n",
        "\n",
        "- PYPI ([https://pypi.org/](https://pypi.org/))"
      ],
      "metadata": {
        "id": "IHTmQnlXInD1"
      }
    },
    {
      "cell_type": "code",
      "source": [
        "!pip install matplotlib"
      ],
      "metadata": {
        "id": "Rv5sIo7NM5VS",
        "outputId": "196e1883-1dee-464e-e2c7-f854d7c629d4",
        "colab": {
          "base_uri": "https://localhost:8080/"
        }
      },
      "execution_count": 7,
      "outputs": [
        {
          "output_type": "stream",
          "name": "stdout",
          "text": [
            "Requirement already satisfied: matplotlib in /usr/local/lib/python3.11/dist-packages (3.10.0)\n",
            "Requirement already satisfied: contourpy>=1.0.1 in /usr/local/lib/python3.11/dist-packages (from matplotlib) (1.3.2)\n",
            "Requirement already satisfied: cycler>=0.10 in /usr/local/lib/python3.11/dist-packages (from matplotlib) (0.12.1)\n",
            "Requirement already satisfied: fonttools>=4.22.0 in /usr/local/lib/python3.11/dist-packages (from matplotlib) (4.57.0)\n",
            "Requirement already satisfied: kiwisolver>=1.3.1 in /usr/local/lib/python3.11/dist-packages (from matplotlib) (1.4.8)\n",
            "Requirement already satisfied: numpy>=1.23 in /usr/local/lib/python3.11/dist-packages (from matplotlib) (2.0.2)\n",
            "Requirement already satisfied: packaging>=20.0 in /usr/local/lib/python3.11/dist-packages (from matplotlib) (24.2)\n",
            "Requirement already satisfied: pillow>=8 in /usr/local/lib/python3.11/dist-packages (from matplotlib) (11.1.0)\n",
            "Requirement already satisfied: pyparsing>=2.3.1 in /usr/local/lib/python3.11/dist-packages (from matplotlib) (3.2.3)\n",
            "Requirement already satisfied: python-dateutil>=2.7 in /usr/local/lib/python3.11/dist-packages (from matplotlib) (2.8.2)\n",
            "Requirement already satisfied: six>=1.5 in /usr/local/lib/python3.11/dist-packages (from python-dateutil>=2.7->matplotlib) (1.17.0)\n"
          ]
        }
      ]
    },
    {
      "cell_type": "markdown",
      "source": [
        "### Importando una biblioteca"
      ],
      "metadata": {
        "id": "A76TbnDbDehe"
      }
    },
    {
      "cell_type": "code",
      "source": [
        "import matplotlib"
      ],
      "metadata": {
        "id": "_xUxLlZFM728"
      },
      "execution_count": 6,
      "outputs": []
    },
    {
      "cell_type": "code",
      "source": [
        "import matplotlib\n",
        "matplotlib.__version__"
      ],
      "metadata": {
        "id": "xy035zQzM75b",
        "outputId": "6ee9fa61-35e2-435f-84de-82fb32ef1f73",
        "colab": {
          "base_uri": "https://localhost:8080/",
          "height": 35
        }
      },
      "execution_count": 4,
      "outputs": [
        {
          "output_type": "execute_result",
          "data": {
            "text/plain": [
              "'3.10.0'"
            ],
            "application/vnd.google.colaboratory.intrinsic+json": {
              "type": "string"
            }
          },
          "metadata": {},
          "execution_count": 4
        }
      ]
    },
    {
      "cell_type": "code",
      "source": [
        "matplotlib.__version__"
      ],
      "metadata": {
        "id": "HjeevCLaouHy",
        "outputId": "1fdb2a85-6129-4bc0-ee07-2bb60f615595",
        "colab": {
          "base_uri": "https://localhost:8080/",
          "height": 35
        }
      },
      "execution_count": 8,
      "outputs": [
        {
          "output_type": "execute_result",
          "data": {
            "text/plain": [
              "'3.10.0'"
            ],
            "application/vnd.google.colaboratory.intrinsic+json": {
              "type": "string"
            }
          },
          "metadata": {},
          "execution_count": 8
        }
      ]
    },
    {
      "cell_type": "code",
      "source": [
        "#!pip install matplotlib==3.10.1"
      ],
      "metadata": {
        "id": "9N67tU3SpRnP",
        "outputId": "7ca3da7e-a7ff-477c-9fd2-4b417adff29f",
        "colab": {
          "base_uri": "https://localhost:8080/"
        }
      },
      "execution_count": 9,
      "outputs": [
        {
          "output_type": "stream",
          "name": "stdout",
          "text": [
            "Collecting matplotlib==3.10.1\n",
            "  Downloading matplotlib-3.10.1-cp311-cp311-manylinux_2_17_x86_64.manylinux2014_x86_64.whl.metadata (11 kB)\n",
            "Requirement already satisfied: contourpy>=1.0.1 in /usr/local/lib/python3.11/dist-packages (from matplotlib==3.10.1) (1.3.2)\n",
            "Requirement already satisfied: cycler>=0.10 in /usr/local/lib/python3.11/dist-packages (from matplotlib==3.10.1) (0.12.1)\n",
            "Requirement already satisfied: fonttools>=4.22.0 in /usr/local/lib/python3.11/dist-packages (from matplotlib==3.10.1) (4.57.0)\n",
            "Requirement already satisfied: kiwisolver>=1.3.1 in /usr/local/lib/python3.11/dist-packages (from matplotlib==3.10.1) (1.4.8)\n",
            "Requirement already satisfied: numpy>=1.23 in /usr/local/lib/python3.11/dist-packages (from matplotlib==3.10.1) (2.0.2)\n",
            "Requirement already satisfied: packaging>=20.0 in /usr/local/lib/python3.11/dist-packages (from matplotlib==3.10.1) (24.2)\n",
            "Requirement already satisfied: pillow>=8 in /usr/local/lib/python3.11/dist-packages (from matplotlib==3.10.1) (11.1.0)\n",
            "Requirement already satisfied: pyparsing>=2.3.1 in /usr/local/lib/python3.11/dist-packages (from matplotlib==3.10.1) (3.2.3)\n",
            "Requirement already satisfied: python-dateutil>=2.7 in /usr/local/lib/python3.11/dist-packages (from matplotlib==3.10.1) (2.8.2)\n",
            "Requirement already satisfied: six>=1.5 in /usr/local/lib/python3.11/dist-packages (from python-dateutil>=2.7->matplotlib==3.10.1) (1.17.0)\n",
            "Downloading matplotlib-3.10.1-cp311-cp311-manylinux_2_17_x86_64.manylinux2014_x86_64.whl (8.6 MB)\n",
            "\u001b[2K   \u001b[90m━━━━━━━━━━━━━━━━━━━━━━━━━━━━━━━━━━━━━━━━\u001b[0m \u001b[32m8.6/8.6 MB\u001b[0m \u001b[31m72.7 MB/s\u001b[0m eta \u001b[36m0:00:00\u001b[0m\n",
            "\u001b[?25hInstalling collected packages: matplotlib\n",
            "  Attempting uninstall: matplotlib\n",
            "    Found existing installation: matplotlib 3.10.0\n",
            "    Uninstalling matplotlib-3.10.0:\n",
            "      Successfully uninstalled matplotlib-3.10.0\n",
            "Successfully installed matplotlib-3.10.1\n"
          ]
        }
      ]
    },
    {
      "cell_type": "code",
      "source": [
        "import matplotlib.pyplot as plt\n"
      ],
      "metadata": {
        "id": "kaXdrafRpRvA"
      },
      "execution_count": 10,
      "outputs": []
    },
    {
      "cell_type": "code",
      "source": [
        "plt.show()"
      ],
      "metadata": {
        "id": "u5qwYFx4qZn6"
      },
      "execution_count": 11,
      "outputs": []
    },
    {
      "cell_type": "code",
      "source": [
        "# Imprimir todos los paquetes instalados en el entorno y sus versiones\n",
        "!pip list"
      ],
      "metadata": {
        "id": "NIGZL3Qzv_dW",
        "outputId": "8e0e491d-d26d-496a-b2e0-0e6d007a9811",
        "colab": {
          "base_uri": "https://localhost:8080/"
        }
      },
      "execution_count": 12,
      "outputs": [
        {
          "output_type": "stream",
          "name": "stdout",
          "text": [
            "Package                               Version\n",
            "------------------------------------- -------------------\n",
            "absl-py                               1.4.0\n",
            "accelerate                            1.5.2\n",
            "aiohappyeyeballs                      2.6.1\n",
            "aiohttp                               3.11.15\n",
            "aiosignal                             1.3.2\n",
            "alabaster                             1.0.0\n",
            "albucore                              0.0.23\n",
            "albumentations                        2.0.5\n",
            "ale-py                                0.10.2\n",
            "altair                                5.5.0\n",
            "annotated-types                       0.7.0\n",
            "anyio                                 4.9.0\n",
            "argon2-cffi                           23.1.0\n",
            "argon2-cffi-bindings                  21.2.0\n",
            "array_record                          0.7.1\n",
            "arviz                                 0.21.0\n",
            "astropy                               7.0.1\n",
            "astropy-iers-data                     0.2025.4.14.0.37.22\n",
            "astunparse                            1.6.3\n",
            "atpublic                              5.1\n",
            "attrs                                 25.3.0\n",
            "audioread                             3.0.1\n",
            "autograd                              1.7.0\n",
            "babel                                 2.17.0\n",
            "backcall                              0.2.0\n",
            "backports.tarfile                     1.2.0\n",
            "beautifulsoup4                        4.13.4\n",
            "betterproto                           2.0.0b6\n",
            "bigframes                             1.42.0\n",
            "bigquery-magics                       0.9.0\n",
            "bleach                                6.2.0\n",
            "blinker                               1.9.0\n",
            "blis                                  1.3.0\n",
            "blosc2                                3.3.0\n",
            "bokeh                                 3.6.3\n",
            "Bottleneck                            1.4.2\n",
            "bqplot                                0.12.44\n",
            "branca                                0.8.1\n",
            "CacheControl                          0.14.2\n",
            "cachetools                            5.5.2\n",
            "catalogue                             2.0.10\n",
            "certifi                               2025.1.31\n",
            "cffi                                  1.17.1\n",
            "chardet                               5.2.0\n",
            "charset-normalizer                    3.4.1\n",
            "chex                                  0.1.89\n",
            "clarabel                              0.10.0\n",
            "click                                 8.1.8\n",
            "cloudpathlib                          0.21.0\n",
            "cloudpickle                           3.1.1\n",
            "cmake                                 3.31.6\n",
            "cmdstanpy                             1.2.5\n",
            "colorcet                              3.1.0\n",
            "colorlover                            0.3.0\n",
            "colour                                0.1.5\n",
            "community                             1.0.0b1\n",
            "confection                            0.1.5\n",
            "cons                                  0.4.6\n",
            "contourpy                             1.3.2\n",
            "cramjam                               2.10.0\n",
            "cryptography                          43.0.3\n",
            "cuda-python                           12.6.2.post1\n",
            "cudf-cu12                             25.2.1\n",
            "cudf-polars-cu12                      25.2.2\n",
            "cufflinks                             0.17.3\n",
            "cuml-cu12                             25.2.1\n",
            "cupy-cuda12x                          13.3.0\n",
            "cuvs-cu12                             25.2.1\n",
            "cvxopt                                1.3.2\n",
            "cvxpy                                 1.6.5\n",
            "cycler                                0.12.1\n",
            "cyipopt                               1.5.0\n",
            "cymem                                 2.0.11\n",
            "Cython                                3.0.12\n",
            "dask                                  2024.12.1\n",
            "dask-cuda                             25.2.0\n",
            "dask-cudf-cu12                        25.2.2\n",
            "dask-expr                             1.1.21\n",
            "datascience                           0.17.6\n",
            "db-dtypes                             1.4.2\n",
            "dbus-python                           1.2.18\n",
            "debugpy                               1.8.0\n",
            "decorator                             4.4.2\n",
            "defusedxml                            0.7.1\n",
            "Deprecated                            1.2.18\n",
            "diffusers                             0.32.2\n",
            "distributed                           2024.12.1\n",
            "distributed-ucxx-cu12                 0.42.0\n",
            "distro                                1.9.0\n",
            "dlib                                  19.24.6\n",
            "dm-tree                               0.1.9\n",
            "docker-pycreds                        0.4.0\n",
            "docstring_parser                      0.16\n",
            "docutils                              0.21.2\n",
            "dopamine_rl                           4.1.2\n",
            "duckdb                                1.2.2\n",
            "earthengine-api                       1.5.11\n",
            "easydict                              1.13\n",
            "editdistance                          0.8.1\n",
            "eerepr                                0.1.1\n",
            "einops                                0.8.1\n",
            "en_core_web_sm                        3.8.0\n",
            "entrypoints                           0.4\n",
            "et_xmlfile                            2.0.0\n",
            "etils                                 1.12.2\n",
            "etuples                               0.3.9\n",
            "Farama-Notifications                  0.0.4\n",
            "fastai                                2.7.19\n",
            "fastcore                              1.7.29\n",
            "fastdownload                          0.0.7\n",
            "fastjsonschema                        2.21.1\n",
            "fastprogress                          1.0.3\n",
            "fastrlock                             0.8.3\n",
            "filelock                              3.18.0\n",
            "firebase-admin                        6.7.0\n",
            "Flask                                 3.1.0\n",
            "flatbuffers                           25.2.10\n",
            "flax                                  0.10.5\n",
            "folium                                0.19.5\n",
            "fonttools                             4.57.0\n",
            "frozendict                            2.4.6\n",
            "frozenlist                            1.5.0\n",
            "fsspec                                2025.3.2\n",
            "future                                1.0.0\n",
            "gast                                  0.6.0\n",
            "gcsfs                                 2025.3.2\n",
            "GDAL                                  3.6.4\n",
            "gdown                                 5.2.0\n",
            "geemap                                0.35.3\n",
            "geocoder                              1.38.1\n",
            "geographiclib                         2.0\n",
            "geopandas                             1.0.1\n",
            "geopy                                 2.4.1\n",
            "gin-config                            0.5.0\n",
            "gitdb                                 4.0.12\n",
            "GitPython                             3.1.44\n",
            "glob2                                 0.7\n",
            "google                                2.0.3\n",
            "google-ai-generativelanguage          0.6.15\n",
            "google-api-core                       2.24.2\n",
            "google-api-python-client              2.164.0\n",
            "google-auth                           2.38.0\n",
            "google-auth-httplib2                  0.2.0\n",
            "google-auth-oauthlib                  1.2.1\n",
            "google-cloud-aiplatform               1.88.0\n",
            "google-cloud-bigquery                 3.31.0\n",
            "google-cloud-bigquery-connection      1.18.2\n",
            "google-cloud-bigquery-storage         2.30.0\n",
            "google-cloud-bigtable                 2.30.0\n",
            "google-cloud-core                     2.4.3\n",
            "google-cloud-dataproc                 5.18.1\n",
            "google-cloud-datastore                2.21.0\n",
            "google-cloud-firestore                2.20.1\n",
            "google-cloud-functions                1.20.3\n",
            "google-cloud-iam                      2.19.0\n",
            "google-cloud-language                 2.17.1\n",
            "google-cloud-pubsub                   2.29.0\n",
            "google-cloud-resource-manager         1.14.2\n",
            "google-cloud-spanner                  3.53.0\n",
            "google-cloud-storage                  2.19.0\n",
            "google-cloud-translate                3.20.2\n",
            "google-colab                          1.0.0\n",
            "google-crc32c                         1.7.1\n",
            "google-genai                          1.10.0\n",
            "google-generativeai                   0.8.4\n",
            "google-pasta                          0.2.0\n",
            "google-resumable-media                2.7.2\n",
            "google-spark-connect                  0.5.2\n",
            "googleapis-common-protos              1.70.0\n",
            "googledrivedownloader                 1.1.0\n",
            "graphviz                              0.20.3\n",
            "greenlet                              3.2.0\n",
            "grpc-google-iam-v1                    0.14.2\n",
            "grpc-interceptor                      0.15.4\n",
            "grpcio                                1.71.0\n",
            "grpcio-status                         1.71.0\n",
            "grpclib                               0.4.7\n",
            "gspread                               6.2.0\n",
            "gspread-dataframe                     4.0.0\n",
            "gym                                   0.25.2\n",
            "gym-notices                           0.0.8\n",
            "gymnasium                             1.1.1\n",
            "h11                                   0.14.0\n",
            "h2                                    4.2.0\n",
            "h5netcdf                              1.6.1\n",
            "h5py                                  3.13.0\n",
            "hdbscan                               0.8.40\n",
            "highspy                               1.9.0\n",
            "holidays                              0.70\n",
            "holoviews                             1.20.2\n",
            "hpack                                 4.1.0\n",
            "html5lib                              1.1\n",
            "httpcore                              1.0.8\n",
            "httpimport                            1.4.1\n",
            "httplib2                              0.22.0\n",
            "httpx                                 0.28.1\n",
            "huggingface-hub                       0.30.2\n",
            "humanize                              4.12.2\n",
            "hyperframe                            6.1.0\n",
            "hyperopt                              0.2.7\n",
            "ibis-framework                        9.5.0\n",
            "idna                                  3.10\n",
            "imageio                               2.37.0\n",
            "imageio-ffmpeg                        0.6.0\n",
            "imagesize                             1.4.1\n",
            "imbalanced-learn                      0.13.0\n",
            "immutabledict                         4.2.1\n",
            "importlib_metadata                    8.6.1\n",
            "importlib_resources                   6.5.2\n",
            "imutils                               0.5.4\n",
            "inflect                               7.5.0\n",
            "iniconfig                             2.1.0\n",
            "intel-cmplr-lib-ur                    2025.1.0\n",
            "intel-openmp                          2025.1.0\n",
            "ipyevents                             2.0.2\n",
            "ipyfilechooser                        0.6.0\n",
            "ipykernel                             6.17.1\n",
            "ipyleaflet                            0.19.2\n",
            "ipyparallel                           8.8.0\n",
            "ipython                               7.34.0\n",
            "ipython-genutils                      0.2.0\n",
            "ipython-sql                           0.5.0\n",
            "ipytree                               0.2.2\n",
            "ipywidgets                            7.7.1\n",
            "itsdangerous                          2.2.0\n",
            "jaraco.classes                        3.4.0\n",
            "jaraco.context                        6.0.1\n",
            "jaraco.functools                      4.1.0\n",
            "jax                                   0.5.2\n",
            "jax-cuda12-pjrt                       0.5.1\n",
            "jax-cuda12-plugin                     0.5.1\n",
            "jaxlib                                0.5.1\n",
            "jeepney                               0.9.0\n",
            "jellyfish                             1.1.0\n",
            "jieba                                 0.42.1\n",
            "Jinja2                                3.1.6\n",
            "jiter                                 0.9.0\n",
            "joblib                                1.4.2\n",
            "jsonpatch                             1.33\n",
            "jsonpickle                            4.0.5\n",
            "jsonpointer                           3.0.0\n",
            "jsonschema                            4.23.0\n",
            "jsonschema-specifications             2024.10.1\n",
            "jupyter-client                        6.1.12\n",
            "jupyter-console                       6.1.0\n",
            "jupyter_core                          5.7.2\n",
            "jupyter-leaflet                       0.19.2\n",
            "jupyter-server                        1.16.0\n",
            "jupyterlab_pygments                   0.3.0\n",
            "jupyterlab_widgets                    3.0.14\n",
            "kaggle                                1.7.4.2\n",
            "kagglehub                             0.3.11\n",
            "keras                                 3.8.0\n",
            "keras-hub                             0.18.1\n",
            "keras-nlp                             0.18.1\n",
            "keyring                               25.6.0\n",
            "keyrings.google-artifactregistry-auth 1.1.2\n",
            "kiwisolver                            1.4.8\n",
            "langchain                             0.3.23\n",
            "langchain-core                        0.3.52\n",
            "langchain-text-splitters              0.3.8\n",
            "langcodes                             3.5.0\n",
            "langsmith                             0.3.31\n",
            "language_data                         1.3.0\n",
            "launchpadlib                          1.10.16\n",
            "lazr.restfulclient                    0.14.4\n",
            "lazr.uri                              1.0.6\n",
            "lazy_loader                           0.4\n",
            "libclang                              18.1.1\n",
            "libcudf-cu12                          25.2.1\n",
            "libcugraph-cu12                       25.2.0\n",
            "libcuml-cu12                          25.2.1\n",
            "libcuvs-cu12                          25.2.1\n",
            "libkvikio-cu12                        25.2.1\n",
            "libraft-cu12                          25.2.0\n",
            "librosa                               0.11.0\n",
            "libucx-cu12                           1.18.0\n",
            "libucxx-cu12                          0.42.0\n",
            "lightgbm                              4.5.0\n",
            "linkify-it-py                         2.0.3\n",
            "llvmlite                              0.43.0\n",
            "locket                                1.0.0\n",
            "logical-unification                   0.4.6\n",
            "lxml                                  5.3.2\n",
            "Mako                                  1.1.3\n",
            "marisa-trie                           1.2.1\n",
            "Markdown                              3.8\n",
            "markdown-it-py                        3.0.0\n",
            "MarkupSafe                            3.0.2\n",
            "matplotlib                            3.10.1\n",
            "matplotlib-inline                     0.1.7\n",
            "matplotlib-venn                       1.1.2\n",
            "mdit-py-plugins                       0.4.2\n",
            "mdurl                                 0.1.2\n",
            "miniKanren                            1.0.3\n",
            "missingno                             0.5.2\n",
            "mistune                               3.1.3\n",
            "mizani                                0.13.3\n",
            "mkl                                   2025.0.1\n",
            "ml-dtypes                             0.4.1\n",
            "mlxtend                               0.23.4\n",
            "more-itertools                        10.6.0\n",
            "moviepy                               1.0.3\n",
            "mpmath                                1.3.0\n",
            "msgpack                               1.1.0\n",
            "multidict                             6.4.3\n",
            "multipledispatch                      1.0.0\n",
            "multitasking                          0.0.11\n",
            "murmurhash                            1.0.12\n",
            "music21                               9.3.0\n",
            "namex                                 0.0.8\n",
            "narwhals                              1.35.0\n",
            "natsort                               8.4.0\n",
            "nbclassic                             1.2.0\n",
            "nbclient                              0.10.2\n",
            "nbconvert                             7.16.6\n",
            "nbformat                              5.10.4\n",
            "ndindex                               1.9.2\n",
            "nest-asyncio                          1.6.0\n",
            "networkx                              3.4.2\n",
            "nibabel                               5.3.2\n",
            "nltk                                  3.9.1\n",
            "notebook                              6.5.7\n",
            "notebook_shim                         0.2.4\n",
            "numba                                 0.60.0\n",
            "numba-cuda                            0.2.0\n",
            "numexpr                               2.10.2\n",
            "numpy                                 2.0.2\n",
            "nvidia-cublas-cu12                    12.5.3.2\n",
            "nvidia-cuda-cupti-cu12                12.5.82\n",
            "nvidia-cuda-nvcc-cu12                 12.5.82\n",
            "nvidia-cuda-nvrtc-cu12                12.5.82\n",
            "nvidia-cuda-runtime-cu12              12.5.82\n",
            "nvidia-cudnn-cu12                     9.3.0.75\n",
            "nvidia-cufft-cu12                     11.2.3.61\n",
            "nvidia-curand-cu12                    10.3.6.82\n",
            "nvidia-cusolver-cu12                  11.6.3.83\n",
            "nvidia-cusparse-cu12                  12.5.1.3\n",
            "nvidia-cusparselt-cu12                0.6.2\n",
            "nvidia-ml-py                          12.570.86\n",
            "nvidia-nccl-cu12                      2.21.5\n",
            "nvidia-nvcomp-cu12                    4.2.0.11\n",
            "nvidia-nvjitlink-cu12                 12.5.82\n",
            "nvidia-nvtx-cu12                      12.4.127\n",
            "nvtx                                  0.2.11\n",
            "nx-cugraph-cu12                       25.2.0\n",
            "oauth2client                          4.1.3\n",
            "oauthlib                              3.2.2\n",
            "openai                                1.75.0\n",
            "opencv-contrib-python                 4.11.0.86\n",
            "opencv-python                         4.11.0.86\n",
            "opencv-python-headless                4.11.0.86\n",
            "openpyxl                              3.1.5\n",
            "opentelemetry-api                     1.32.1\n",
            "opentelemetry-sdk                     1.32.1\n",
            "opentelemetry-semantic-conventions    0.53b1\n",
            "opt_einsum                            3.4.0\n",
            "optax                                 0.2.4\n",
            "optree                                0.15.0\n",
            "orbax-checkpoint                      0.11.12\n",
            "orjson                                3.10.16\n",
            "osqp                                  1.0.3\n",
            "packaging                             24.2\n",
            "pandas                                2.2.2\n",
            "pandas-datareader                     0.10.0\n",
            "pandas-gbq                            0.28.0\n",
            "pandas-stubs                          2.2.2.240909\n",
            "pandocfilters                         1.5.1\n",
            "panel                                 1.6.2\n",
            "param                                 2.2.0\n",
            "parso                                 0.8.4\n",
            "parsy                                 2.1\n",
            "partd                                 1.4.2\n",
            "pathlib                               1.0.1\n",
            "patsy                                 1.0.1\n",
            "peewee                                3.17.9\n",
            "peft                                  0.14.0\n",
            "pexpect                               4.9.0\n",
            "pickleshare                           0.7.5\n",
            "pillow                                11.1.0\n",
            "pip                                   24.1.2\n",
            "platformdirs                          4.3.7\n",
            "plotly                                5.24.1\n",
            "plotnine                              0.14.5\n",
            "pluggy                                1.5.0\n",
            "ply                                   3.11\n",
            "polars                                1.21.0\n",
            "pooch                                 1.8.2\n",
            "portpicker                            1.5.2\n",
            "preshed                               3.0.9\n",
            "prettytable                           3.16.0\n",
            "proglog                               0.1.11\n",
            "progressbar2                          4.5.0\n",
            "prometheus_client                     0.21.1\n",
            "promise                               2.3\n",
            "prompt_toolkit                        3.0.51\n",
            "propcache                             0.3.1\n",
            "prophet                               1.1.6\n",
            "proto-plus                            1.26.1\n",
            "protobuf                              5.29.4\n",
            "psutil                                5.9.5\n",
            "psycopg2                              2.9.10\n",
            "ptyprocess                            0.7.0\n",
            "py-cpuinfo                            9.0.0\n",
            "py4j                                  0.10.9.7\n",
            "pyarrow                               18.1.0\n",
            "pyasn1                                0.6.1\n",
            "pyasn1_modules                        0.4.2\n",
            "pycairo                               1.28.0\n",
            "pycocotools                           2.0.8\n",
            "pycparser                             2.22\n",
            "pydantic                              2.11.3\n",
            "pydantic_core                         2.33.1\n",
            "pydata-google-auth                    1.9.1\n",
            "pydot                                 3.0.4\n",
            "pydotplus                             2.0.2\n",
            "PyDrive                               1.3.1\n",
            "PyDrive2                              1.21.3\n",
            "pyerfa                                2.0.1.5\n",
            "pygame                                2.6.1\n",
            "pygit2                                1.17.0\n",
            "Pygments                              2.18.0\n",
            "PyGObject                             3.42.0\n",
            "PyJWT                                 2.10.1\n",
            "pylibcudf-cu12                        25.2.1\n",
            "pylibcugraph-cu12                     25.2.0\n",
            "pylibraft-cu12                        25.2.0\n",
            "pymc                                  5.21.2\n",
            "pymystem3                             0.2.0\n",
            "pynndescent                           0.5.13\n",
            "pynvjitlink-cu12                      0.5.2\n",
            "pynvml                                12.0.0\n",
            "pyogrio                               0.10.0\n",
            "Pyomo                                 6.8.2\n",
            "PyOpenGL                              3.1.9\n",
            "pyOpenSSL                             24.2.1\n",
            "pyparsing                             3.2.3\n",
            "pyperclip                             1.9.0\n",
            "pyproj                                3.7.1\n",
            "pyshp                                 2.3.1\n",
            "PySocks                               1.7.1\n",
            "pyspark                               3.5.5\n",
            "pytensor                              2.30.3\n",
            "pytest                                8.3.5\n",
            "python-apt                            0.0.0\n",
            "python-box                            7.3.2\n",
            "python-dateutil                       2.8.2\n",
            "python-louvain                        0.16\n",
            "python-slugify                        8.0.4\n",
            "python-snappy                         0.7.3\n",
            "python-utils                          3.9.1\n",
            "pytz                                  2025.2\n",
            "pyviz_comms                           3.0.4\n",
            "PyYAML                                6.0.2\n",
            "pyzmq                                 24.0.1\n",
            "raft-dask-cu12                        25.2.0\n",
            "rapids-dask-dependency                25.2.0\n",
            "ratelim                               0.1.6\n",
            "referencing                           0.36.2\n",
            "regex                                 2024.11.6\n",
            "requests                              2.32.3\n",
            "requests-oauthlib                     2.0.0\n",
            "requests-toolbelt                     1.0.0\n",
            "requirements-parser                   0.9.0\n",
            "rich                                  13.9.4\n",
            "rmm-cu12                              25.2.0\n",
            "roman-numerals-py                     3.1.0\n",
            "rpds-py                               0.24.0\n",
            "rpy2                                  3.5.17\n",
            "rsa                                   4.9.1\n",
            "safetensors                           0.5.3\n",
            "scikit-image                          0.25.2\n",
            "scikit-learn                          1.6.1\n",
            "scipy                                 1.14.1\n",
            "scooby                                0.10.0\n",
            "scs                                   3.2.7.post2\n",
            "seaborn                               0.13.2\n",
            "SecretStorage                         3.3.3\n",
            "Send2Trash                            1.8.3\n",
            "sentence-transformers                 3.4.1\n",
            "sentencepiece                         0.2.0\n",
            "sentry-sdk                            2.26.1\n",
            "setproctitle                          1.3.5\n",
            "setuptools                            75.2.0\n",
            "shap                                  0.47.1\n",
            "shapely                               2.1.0\n",
            "shellingham                           1.5.4\n",
            "simple-parsing                        0.1.7\n",
            "simplejson                            3.20.1\n",
            "simsimd                               6.2.1\n",
            "six                                   1.17.0\n",
            "sklearn-compat                        0.1.3\n",
            "sklearn-pandas                        2.2.0\n",
            "slicer                                0.0.8\n",
            "smart-open                            7.1.0\n",
            "smmap                                 5.0.2\n",
            "sniffio                               1.3.1\n",
            "snowballstemmer                       2.2.0\n",
            "sortedcontainers                      2.4.0\n",
            "soundfile                             0.13.1\n",
            "soupsieve                             2.6\n",
            "soxr                                  0.5.0.post1\n",
            "spacy                                 3.8.5\n",
            "spacy-legacy                          3.0.12\n",
            "spacy-loggers                         1.0.5\n",
            "spanner-graph-notebook                1.1.6\n",
            "Sphinx                                8.2.3\n",
            "sphinxcontrib-applehelp               2.0.0\n",
            "sphinxcontrib-devhelp                 2.0.0\n",
            "sphinxcontrib-htmlhelp                2.1.0\n",
            "sphinxcontrib-jsmath                  1.0.1\n",
            "sphinxcontrib-qthelp                  2.0.0\n",
            "sphinxcontrib-serializinghtml         2.0.0\n",
            "SQLAlchemy                            2.0.40\n",
            "sqlglot                               25.20.2\n",
            "sqlparse                              0.5.3\n",
            "srsly                                 2.5.1\n",
            "stanio                                0.5.1\n",
            "statsmodels                           0.14.4\n",
            "stringzilla                           3.12.4\n",
            "sympy                                 1.13.1\n",
            "tables                                3.10.2\n",
            "tabulate                              0.9.0\n",
            "tbb                                   2022.1.0\n",
            "tblib                                 3.1.0\n",
            "tcmlib                                1.3.0\n",
            "tenacity                              9.1.2\n",
            "tensorboard                           2.18.0\n",
            "tensorboard-data-server               0.7.2\n",
            "tensorflow                            2.18.0\n",
            "tensorflow-datasets                   4.9.8\n",
            "tensorflow_decision_forests           1.11.0\n",
            "tensorflow-hub                        0.16.1\n",
            "tensorflow-io-gcs-filesystem          0.37.1\n",
            "tensorflow-metadata                   1.17.1\n",
            "tensorflow-probability                0.25.0\n",
            "tensorflow-text                       2.18.1\n",
            "tensorstore                           0.1.73\n",
            "termcolor                             3.0.1\n",
            "terminado                             0.18.1\n",
            "text-unidecode                        1.3\n",
            "textblob                              0.19.0\n",
            "tf_keras                              2.18.0\n",
            "tf-slim                               1.1.0\n",
            "thinc                                 8.3.6\n",
            "threadpoolctl                         3.6.0\n",
            "tifffile                              2025.3.30\n",
            "timm                                  1.0.15\n",
            "tinycss2                              1.4.0\n",
            "tokenizers                            0.21.1\n",
            "toml                                  0.10.2\n",
            "toolz                                 0.12.1\n",
            "torch                                 2.6.0+cu124\n",
            "torchaudio                            2.6.0+cu124\n",
            "torchsummary                          1.5.1\n",
            "torchvision                           0.21.0+cu124\n",
            "tornado                               6.4.2\n",
            "tqdm                                  4.67.1\n",
            "traitlets                             5.7.1\n",
            "traittypes                            0.2.1\n",
            "transformers                          4.51.3\n",
            "treelite                              4.4.1\n",
            "treescope                             0.1.9\n",
            "triton                                3.2.0\n",
            "tweepy                                4.15.0\n",
            "typeguard                             4.4.2\n",
            "typer                                 0.15.2\n",
            "types-pytz                            2025.2.0.20250326\n",
            "types-setuptools                      79.0.0.20250422\n",
            "typing_extensions                     4.13.2\n",
            "typing-inspection                     0.4.0\n",
            "tzdata                                2025.2\n",
            "tzlocal                               5.3.1\n",
            "uc-micro-py                           1.0.3\n",
            "ucx-py-cu12                           0.42.0\n",
            "ucxx-cu12                             0.42.0\n",
            "umap-learn                            0.5.7\n",
            "umf                                   0.10.0\n",
            "uritemplate                           4.1.1\n",
            "urllib3                               2.3.0\n",
            "vega-datasets                         0.9.0\n",
            "wadllib                               1.3.6\n",
            "wandb                                 0.19.9\n",
            "wasabi                                1.1.3\n",
            "wcwidth                               0.2.13\n",
            "weasel                                0.4.1\n",
            "webcolors                             24.11.1\n",
            "webencodings                          0.5.1\n",
            "websocket-client                      1.8.0\n",
            "websockets                            15.0.1\n",
            "Werkzeug                              3.1.3\n",
            "wheel                                 0.45.1\n",
            "widgetsnbextension                    3.6.10\n",
            "wordcloud                             1.9.4\n",
            "wrapt                                 1.17.2\n",
            "wurlitzer                             3.1.1\n",
            "xarray                                2025.1.2\n",
            "xarray-einstats                       0.8.0\n",
            "xgboost                               2.1.4\n",
            "xlrd                                  2.0.1\n",
            "xyzservices                           2025.1.0\n",
            "yarl                                  1.19.0\n",
            "ydf                                   0.11.0\n",
            "yellowbrick                           1.5\n",
            "yfinance                              0.2.55\n",
            "zict                                  3.0.0\n",
            "zipp                                  3.21.0\n",
            "zstandard                             0.23.0\n"
          ]
        }
      ]
    },
    {
      "cell_type": "markdown",
      "source": [
        "## 1.2 Utilizando módulos/bibliotecas\n",
        "\n",
        "- Documentación de Python (https://docs.python.org/es/3/)"
      ],
      "metadata": {
        "id": "oMxkV9-6GXwH"
      }
    },
    {
      "cell_type": "markdown",
      "source": [
        "#### Ejemplo 1: Vamos a probar la biblioteca Matplotlib para un ejemplo sobre el cálculo de los promedios de notas de los estudiantes de una clase.\n",
        "\n",
        "(https://matplotlib.org/stable/tutorials/introductory/pyplot.html)"
      ],
      "metadata": {
        "id": "W1MHaXB2Q7tT"
      }
    },
    {
      "cell_type": "code",
      "source": [
        "from matplotlib import pyplot as plt"
      ],
      "metadata": {
        "id": "hme-WlDYM-Od"
      },
      "execution_count": 13,
      "outputs": []
    },
    {
      "cell_type": "code",
      "source": [
        "estudiante = ['Juan', 'Maria', 'José', 'Claudia', 'Ana']\n",
        "notas = [8.0, 9.0, 10.0, 5.5, 8.0]"
      ],
      "metadata": {
        "id": "mv1h3vJsM-RK"
      },
      "execution_count": 14,
      "outputs": []
    },
    {
      "cell_type": "code",
      "source": [
        "plt.bar(x=estudiante, height=notas)\n",
        "plt.show()"
      ],
      "metadata": {
        "id": "GK77H828M-Zk",
        "outputId": "667eb183-787f-49d5-9123-f5207895e430",
        "colab": {
          "base_uri": "https://localhost:8080/",
          "height": 430
        }
      },
      "execution_count": 15,
      "outputs": [
        {
          "output_type": "display_data",
          "data": {
            "text/plain": [
              "<Figure size 640x480 with 1 Axes>"
            ],
            "image/png": "[encoded data removed]"
          },
          "metadata": {}
        }
      ]
    },
    {
      "cell_type": "code",
      "source": [
        "plt.bar(x=estudiante, height=notas, color='yellow')\n",
        "plt.show()"
      ],
      "metadata": {
        "colab": {
          "base_uri": "https://localhost:8080/",
          "height": 430
        },
        "id": "vhDPz6Nt1gTQ",
        "outputId": "47940096-c8f2-49b6-dbab-0ad8ee0d04e5"
      },
      "execution_count": 20,
      "outputs": [
        {
          "output_type": "display_data",
          "data": {
            "text/plain": [
              "<Figure size 640x480 with 1 Axes>"
            ],
            "image/png": "[encoded data removed]"
          },
          "metadata": {}
        }
      ]
    },
    {
      "cell_type": "markdown",
      "source": [
        "#### Ejemplo 2: Vamos a seleccionar aleatoriamente a un alumno para presentar su trabajo de ciencia de datos usando la biblioteca `random`.\n",
        "\n",
        "(https://docs.python.org/es/3/library/random.html)"
      ],
      "metadata": {
        "id": "5G6u4ZRYRIFZ"
      }
    },
    {
      "cell_type": "code",
      "source": [
        "estudiante_2 = ['Juan', 'Maria', 'José', 'Claudia', 'Ana', 'Diego']"
      ],
      "metadata": {
        "id": "Y4o2AvhWNBdM"
      },
      "execution_count": 21,
      "outputs": []
    },
    {
      "cell_type": "code",
      "source": [
        "import random"
      ],
      "metadata": {
        "id": "9fXfsVnANBiG"
      },
      "execution_count": 22,
      "outputs": []
    },
    {
      "cell_type": "markdown",
      "source": [
        "<font color=green>**Tip:**</font> Podrás notar a medida que avanzas en los ejercicios la importancia de acudir a la documentación para aprender cómo utilizar un método de algún módulo en el lenguaje Python.\n",
        "\n",
        "El método `help()`, por ejemplo, retorna una descripción sobre una variable, método o clase.\n",
        "\n",
        "https://docs.python.org/es/3/library/functions.html?#help"
      ],
      "metadata": {
        "id": "N-XJrnISGpTN"
      }
    },
    {
      "cell_type": "code",
      "source": [
        "from random import choice"
      ],
      "metadata": {
        "id": "a2zJCXNUND9X"
      },
      "execution_count": 25,
      "outputs": []
    },
    {
      "cell_type": "code",
      "source": [
        "Estudiante = choice(estudiante_2)\n",
        "Estudiante"
      ],
      "metadata": {
        "id": "2Yvr71PIND_r",
        "outputId": "59e414d6-96be-49fd-c083-8f359d065829",
        "colab": {
          "base_uri": "https://localhost:8080/",
          "height": 35
        }
      },
      "execution_count": 52,
      "outputs": [
        {
          "output_type": "execute_result",
          "data": {
            "text/plain": [
              "'Diego'"
            ],
            "application/vnd.google.colaboratory.intrinsic+json": {
              "type": "string"
            }
          },
          "metadata": {},
          "execution_count": 52
        }
      ]
    },
    {
      "cell_type": "code",
      "source": [
        "help(choice)"
      ],
      "metadata": {
        "id": "UFfZz4CxNGjU",
        "outputId": "e2f32fe0-8b98-4315-ab7f-788eab514617",
        "colab": {
          "base_uri": "https://localhost:8080/"
        }
      },
      "execution_count": 53,
      "outputs": [
        {
          "output_type": "stream",
          "name": "stdout",
          "text": [
            "Help on method choice in module random:\n",
            "\n",
            "choice(seq) method of random.Random instance\n",
            "    Choose a random element from a non-empty sequence.\n",
            "\n"
          ]
        }
      ]
    },
    {
      "cell_type": "markdown",
      "source": [
        "# Practica"
      ],
      "metadata": {
        "id": "O6cafhDd5Fru"
      }
    },
    {
      "cell_type": "markdown",
      "source": [
        "**Calentamiento**"
      ],
      "metadata": {
        "id": "5mUYVh6m8x_A"
      }
    },
    {
      "cell_type": "markdown",
      "source": [
        "1 - Escribe un código para instalar la versión 3.7.1 de la biblioteca matplotlib."
      ],
      "metadata": {
        "id": "qnkG0sFv81mi"
      }
    },
    {
      "cell_type": "code",
      "source": [
        "#!pip install matplotlib==3.7.1"
      ],
      "metadata": {
        "id": "9POq1ZM5A5Br"
      },
      "execution_count": 55,
      "outputs": []
    },
    {
      "cell_type": "markdown",
      "source": [
        "2 - Escribe un código para importar la biblioteca numpy con el alias np."
      ],
      "metadata": {
        "id": "QXnEbowP9Kfp"
      }
    },
    {
      "cell_type": "code",
      "source": [
        "import numpy as np"
      ],
      "metadata": {
        "id": "THQmRTgQA66f"
      },
      "execution_count": 56,
      "outputs": []
    },
    {
      "cell_type": "markdown",
      "source": [
        "3 - Crea un programa que lea la siguiente lista de números y elija uno al azar.\n",
        "\n",
        "lista = [8, 12, 54, 23, 43, 1, 90, 87, 105, 77]"
      ],
      "metadata": {
        "id": "aBunnqv09iBa"
      }
    },
    {
      "cell_type": "code",
      "source": [
        "lista = [8, 12, 54, 23, 43, 1, 90, 87, 105, 77]\n",
        "\n",
        "Hoja = choice(lista)\n",
        "Hoja"
      ],
      "metadata": {
        "id": "LJxgK-w3B8Z0",
        "colab": {
          "base_uri": "https://localhost:8080/"
        },
        "outputId": "2668cc94-47bf-4cbf-93a6-2bf7a13a2c2b"
      },
      "execution_count": 88,
      "outputs": [
        {
          "output_type": "execute_result",
          "data": {
            "text/plain": [
              "1"
            ]
          },
          "metadata": {},
          "execution_count": 88
        }
      ]
    },
    {
      "cell_type": "markdown",
      "source": [
        "4 - Crea un programa que genere aleatoriamente un número entero menor que 100.\n",
        "\n"
      ],
      "metadata": {
        "id": "5zDYe4Wk-NE1"
      }
    },
    {
      "cell_type": "code",
      "source": [
        "entero = random.randint(0, 100)\n",
        "entero"
      ],
      "metadata": {
        "id": "C4MVGF1_CKqw",
        "outputId": "a3ddb718-d065-40bd-e9df-9c4c5c3aa7f2",
        "colab": {
          "base_uri": "https://localhost:8080/"
        }
      },
      "execution_count": 93,
      "outputs": [
        {
          "output_type": "execute_result",
          "data": {
            "text/plain": [
              "68"
            ]
          },
          "metadata": {},
          "execution_count": 93
        }
      ]
    },
    {
      "cell_type": "code",
      "source": [
        "help(random.randint)"
      ],
      "metadata": {
        "colab": {
          "base_uri": "https://localhost:8080/"
        },
        "id": "TE-1Y5DmEKic",
        "outputId": "2d24cde6-c431-44d5-f060-0c5be3393a23"
      },
      "execution_count": 94,
      "outputs": [
        {
          "output_type": "stream",
          "name": "stdout",
          "text": [
            "Help on method randint in module random:\n",
            "\n",
            "randint(a, b) method of random.Random instance\n",
            "    Return random integer in range [a, b], including both end points.\n",
            "\n"
          ]
        }
      ]
    },
    {
      "cell_type": "markdown",
      "source": [
        "5 - Crea un programa que solicite a la persona usuaria ingresar dos números enteros y calcule la potencia del primer número elevado al segundo.\n",
        "\n"
      ],
      "metadata": {
        "id": "yUTTVzow-TUX"
      }
    },
    {
      "cell_type": "code",
      "source": [
        "ingrese = int(input('Ingrese el primer número entero: '))\n",
        "ingrese_2 = int(input('Ingrese el segundo número entero: '))\n",
        "\n",
        "potencia =  ingrese_2 ** ingrese\n",
        "potencia"
      ],
      "metadata": {
        "id": "TRUFz-R6CWDe",
        "colab": {
          "base_uri": "https://localhost:8080/"
        },
        "outputId": "ae89f203-bae4-452b-d1dc-5b6fba9d71d6"
      },
      "execution_count": 91,
      "outputs": [
        {
          "name": "stdout",
          "output_type": "stream",
          "text": [
            "Ingrese el primer número entero: 5\n",
            "Ingrese el segundo número entero: 6\n"
          ]
        },
        {
          "output_type": "execute_result",
          "data": {
            "text/plain": [
              "7776"
            ]
          },
          "metadata": {},
          "execution_count": 91
        }
      ]
    },
    {
      "cell_type": "markdown",
      "source": [
        "**Aplicando a proyectos**"
      ],
      "metadata": {
        "id": "ON3k4_PT-X1f"
      }
    },
    {
      "cell_type": "markdown",
      "source": [
        "6 - Se debe escribir un programa para sortear a un seguidor de una red social para ganar un premio. La lista de participantes está numerada y debemos elegir aleatoriamente un número según la cantidad de participantes. Pide a la persona usuaria que proporcione el número de participantes del sorteo y devuelve el número sorteado."
      ],
      "metadata": {
        "id": "mC8Veo98-snt"
      }
    },
    {
      "cell_type": "code",
      "source": [
        "lista = [1, 2, 3, 4, 5, 6, 7, 8, 9, 10, 11, 12, 13, 14, 15, 16, 17]\n",
        "\n",
        "participante = input('Ingrese tu nombre: ')\n",
        "\n",
        "numero_participante = input('Ingrese el número: ')\n",
        "\n",
        "sorteo = random.choice(lista)\n",
        "sorteo"
      ],
      "metadata": {
        "id": "QBUcucLeCXKh",
        "outputId": "7ed62bdc-2d58-4bb7-e3f2-ed151826fbcc",
        "colab": {
          "base_uri": "https://localhost:8080/"
        }
      },
      "execution_count": 118,
      "outputs": [
        {
          "name": "stdout",
          "output_type": "stream",
          "text": [
            "Ingrese tu nombre: Diego\n",
            "Ingrese el número: 6\n"
          ]
        },
        {
          "output_type": "execute_result",
          "data": {
            "text/plain": [
              "14"
            ]
          },
          "metadata": {},
          "execution_count": 118
        }
      ]
    },
    {
      "cell_type": "markdown",
      "source": [
        "7 - Has recibido una solicitud para generar números de token para acceder a la aplicación de una empresa. El token debe ser par y variar de 1000 a 9998. Escribe un código que solicite el nombre de la persona usuaria y muestre un mensaje junto a este token generado aleatoriamente.\n",
        "\n",
        "print(f\"Hola, {nombre_usuario}, tu token de acceso es {token_generado} ¡Bienvenido/a!\")"
      ],
      "metadata": {
        "id": "tIK8-e3z-zes"
      }
    },
    {
      "cell_type": "code",
      "source": [
        "nombre_USUARIO = input('Ingrese su nombre: ')\n",
        "\n",
        "token = random.randrange(1000, 9998, 2)\n",
        "\n",
        "print(f\"Hola, {nombre_USUARIO}, tu token de acceso es {token} ¡Bienvenido/a!\")"
      ],
      "metadata": {
        "id": "uRzDDZxXD4pK",
        "colab": {
          "base_uri": "https://localhost:8080/"
        },
        "outputId": "e35be6f1-5720-4c36-95f7-c10085879609"
      },
      "execution_count": 112,
      "outputs": [
        {
          "output_type": "stream",
          "name": "stdout",
          "text": [
            "Ingrese su nombre: Diego\n",
            "Hola, Diego, tu token de acceso es 7182 ¡Bienvenido/a!\n"
          ]
        }
      ]
    },
    {
      "cell_type": "markdown",
      "source": [
        "8 - Para diversificar y atraer nuevos clientes, una lanchonete creó un ítem misterioso en su menú llamado \"ensalada de frutas sorpresa\". En este ítem, se eligen aleatoriamente 3 frutas de una lista de 12 para componer la ensalada de frutas del cliente. Crea el código que realice esta selección aleatoria según la lista dada.\n",
        "\n",
        "frutas = [\"manzana\", \"banana\", \"uva\", \"pera\", \"mango\", \"coco\", \"sandia\", \"fresa\", \"naranja\", \"maracuya\", \"kiwi\", \"cereza\"]"
      ],
      "metadata": {
        "id": "NENWYHe0_E6Z"
      }
    },
    {
      "cell_type": "code",
      "source": [
        "frutas = [\"manzana\",\n",
        "          \"banana\",\n",
        "          \"uva\",\n",
        "          \"pera\",\n",
        "          \"mango\",\n",
        "          \"coco\",\n",
        "          \"sandia\", \"fresa\", \"naranja\", \"maracuya\", \"kiwi\", \"cereza\"]\n",
        "\n",
        "eleccion = random.sample(frutas, 3)\n",
        "\n",
        "print(f'La ensalada de frutas es: {eleccion}')"
      ],
      "metadata": {
        "id": "y8r5CSZoEwCr",
        "outputId": "a13ed745-6a41-4dd2-918c-8280ec04013e",
        "colab": {
          "base_uri": "https://localhost:8080/"
        }
      },
      "execution_count": 115,
      "outputs": [
        {
          "output_type": "stream",
          "name": "stdout",
          "text": [
            "La ensalada de frutas es: ['maracuya', 'uva', 'cereza']\n"
          ]
        }
      ]
    },
    {
      "cell_type": "markdown",
      "source": [
        "9 - Has recibido un desafío para calcular la raíz cuadrada de una lista de números, identificando cuáles resultan en un número entero. La lista es la siguiente:\n",
        "\n",
        "numeros = [2, 8, 15, 23, 91, 112, 256]"
      ],
      "metadata": {
        "id": "uErGw_f8_Rd9"
      }
    },
    {
      "cell_type": "code",
      "source": [
        "import math\n",
        "\n",
        "numeros = [2, 8, 15, 23, 91, 112, 256]\n",
        "\n",
        "for numero in numeros:\n",
        "    raiz = math.sqrt(numero)\n",
        "    if raiz.is_integer():\n",
        "        print(f\"La raíz cuadrada de {numero} es un número entero: {int(raiz)}\")\n",
        "    else:\n",
        "        print(f\"La raíz cuadrada de {numero} no es un número entero\")"
      ],
      "metadata": {
        "colab": {
          "base_uri": "https://localhost:8080/"
        },
        "id": "cH7JW945AZOt",
        "outputId": "21c8e930-ca3a-40f6-d799-af9cb67d1926"
      },
      "execution_count": 71,
      "outputs": [
        {
          "output_type": "stream",
          "name": "stdout",
          "text": [
            "La raíz cuadrada de 2 no es un número entero\n",
            "La raíz cuadrada de 8 no es un número entero\n",
            "La raíz cuadrada de 15 no es un número entero\n",
            "La raíz cuadrada de 23 no es un número entero\n",
            "La raíz cuadrada de 91 no es un número entero\n",
            "La raíz cuadrada de 112 no es un número entero\n",
            "La raíz cuadrada de 256 es un número entero: 16\n"
          ]
        }
      ]
    },
    {
      "cell_type": "markdown",
      "source": [
        "10 - Haz un programa para una tienda que vende césped para jardines. Esta tienda trabaja con jardines circulares y el precio del metro cuadrado de césped es de R$ 25,00. Pide a la persona usuaria el radio del área circular y devuelve el valor en reales de cuánto tendrá que pagar."
      ],
      "metadata": {
        "id": "z6eQsD-Y_Yr7"
      }
    },
    {
      "cell_type": "code",
      "source": [
        "radio_circular = float(input('Ingrese el radio del área circular: '))\n",
        "\n",
        "precio_metro_cuadrado = 25.00 * radio_circular\n",
        "\n",
        "presio = 'R$' + str(precio_metro_cuadrado)\n",
        "\n",
        "print(f'El valor a pagar por el área circular es: {presio}')"
      ],
      "metadata": {
        "id": "kZvi_i2_GPZi",
        "outputId": "63ede5e2-042f-4085-8d48-aa0860e2be92",
        "colab": {
          "base_uri": "https://localhost:8080/"
        }
      },
      "execution_count": 106,
      "outputs": [
        {
          "output_type": "stream",
          "name": "stdout",
          "text": [
            "Ingrese el radio del área circular: 4.56\n",
            "El valor a pagar por el área circular es: R$113.99999999999999\n"
          ]
        }
      ]
    },
    {
      "cell_type": "markdown",
      "source": [
        "## <font color=green> 2. FUNCIONES\n",
        "---"
      ],
      "metadata": {
        "id": "2hrSPmlcBwWS"
      }
    },
    {
      "cell_type": "markdown",
      "source": [
        "En Python, las **funciones** son secuencias de instrucciones que ejecutan tareas específicas, permitiendo su reutilización en diferentes partes del código. Estas pueden recibir parámetros de entrada (que también los conocemos como *inputs*) y también retornar resultados."
      ],
      "metadata": {
        "id": "gC4lHsW-DREY"
      }
    },
    {
      "cell_type": "markdown",
      "source": [
        "## 2.1 Built-in function (Función Incorporada)\n",
        "\n",
        "El interpretador de Python contiene una serie de funciones incorporadas que pueden ser invocadas es cualquier momento. Algunas que vamos a utilizar a lo largo de este curso son: `type()`, `print()`, `list()`, `zip()`, `sum()`, `map()`, etc.\n",
        "\n",
        "***Documentación:***\n",
        "https://docs.python.org/es/3/library/functions.html\n"
      ],
      "metadata": {
        "id": "Qr_h1_UNEzHZ"
      }
    },
    {
      "cell_type": "code",
      "source": [],
      "metadata": {
        "id": "ThA0d1myGORn"
      },
      "execution_count": null,
      "outputs": []
    },
    {
      "cell_type": "markdown",
      "source": [
        "#### **Situación 1:**\n",
        "\n",
        "La institución educativa para la cual nos encontramos trabajando compartió los datos de las notas de un estudiante para que pudiesemos calcular su promedio con una casilla decimal.\n",
        "\n",
        "Los datos recibidos corresponden a un diccionario cuyas llaves indican el trimestre en cuestión y sus valores corresponden a las notas de cada trimestre del estudiante en una respectiva materia."
      ],
      "metadata": {
        "id": "MMOJIW3TyLIB"
      }
    },
    {
      "cell_type": "code",
      "source": [
        "notas = {'1º Trimestre': 9.5, '2º trimestre': 8, '2º trimestre': 7}"
      ],
      "metadata": {
        "id": "WQ-pCgdaMOlc"
      },
      "execution_count": null,
      "outputs": []
    },
    {
      "cell_type": "code",
      "source": [
        "suma = 0\n",
        "\n",
        "for i in notas.values():\n",
        "  suma += i\n",
        "\n",
        "print(suma)"
      ],
      "metadata": {
        "id": "GU-HvC-QMOoS",
        "outputId": "e08a385c-e8db-4339-f16b-68f0f45391cf",
        "colab": {
          "base_uri": "https://localhost:8080/"
        }
      },
      "execution_count": null,
      "outputs": [
        {
          "output_type": "stream",
          "name": "stdout",
          "text": [
            "16.5\n"
          ]
        }
      ]
    },
    {
      "cell_type": "code",
      "source": [
        "import builtins\n",
        "\n",
        "promedio = builtins.sum(notas.values()) / len(notas)\n",
        "\n",
        "promedio"
      ],
      "metadata": {
        "id": "qKEyjY2bMOqj",
        "outputId": "7196955f-ae47-4532-8a19-104b9cf24594",
        "colab": {
          "base_uri": "https://localhost:8080/"
        }
      },
      "execution_count": null,
      "outputs": [
        {
          "output_type": "execute_result",
          "data": {
            "text/plain": [
              "8.25"
            ]
          },
          "metadata": {},
          "execution_count": 23
        }
      ]
    },
    {
      "cell_type": "markdown",
      "source": [
        "*Redondear el promedio usando round():*\n",
        "\n",
        "https://docs.python.org/es/3/library/functions.html#round"
      ],
      "metadata": {
        "id": "JD2z3LW8312E"
      }
    },
    {
      "cell_type": "code",
      "source": [
        "help(round)"
      ],
      "metadata": {
        "id": "c7Cn5XFfMP5E",
        "outputId": "4f01ac2b-74f6-43d6-88e2-ed7dfc0dc371",
        "colab": {
          "base_uri": "https://localhost:8080/"
        }
      },
      "execution_count": null,
      "outputs": [
        {
          "output_type": "stream",
          "name": "stdout",
          "text": [
            "Help on built-in function round in module builtins:\n",
            "\n",
            "round(number, ndigits=None)\n",
            "    Round a number to a given precision in decimal digits.\n",
            "    \n",
            "    The return value is an integer if ndigits is omitted or None.  Otherwise\n",
            "    the return value has the same type as the number.  ndigits may be negative.\n",
            "\n"
          ]
        }
      ]
    },
    {
      "cell_type": "code",
      "source": [
        "round(promedio, 1)"
      ],
      "metadata": {
        "id": "eVNPFr0pMRWl",
        "outputId": "8ae34335-4777-42a4-dd52-d2d020c177f5",
        "colab": {
          "base_uri": "https://localhost:8080/"
        }
      },
      "execution_count": null,
      "outputs": [
        {
          "output_type": "execute_result",
          "data": {
            "text/plain": [
              "8.2"
            ]
          },
          "metadata": {},
          "execution_count": 25
        }
      ]
    },
    {
      "cell_type": "code",
      "source": [
        "help(pow)"
      ],
      "metadata": {
        "id": "i55eZSa2qRP9",
        "outputId": "223df986-0082-4e35-8e27-1d942a2d4188",
        "colab": {
          "base_uri": "https://localhost:8080/"
        }
      },
      "execution_count": null,
      "outputs": [
        {
          "output_type": "stream",
          "name": "stdout",
          "text": [
            "Help on built-in function pow in module builtins:\n",
            "\n",
            "pow(base, exp, mod=None)\n",
            "    Equivalent to base**exp with 2 arguments or base**exp % mod with 3 arguments\n",
            "    \n",
            "    Some types, such as ints, are able to use a more efficient algorithm when\n",
            "    invoked using the three argument form.\n",
            "\n"
          ]
        }
      ]
    },
    {
      "cell_type": "code",
      "source": [
        "potencia = pow(2, 3)\n",
        "potencia"
      ],
      "metadata": {
        "id": "LSd0GOahqW-K",
        "outputId": "55e1f6a3-0766-4805-ea35-b5843914df45",
        "colab": {
          "base_uri": "https://localhost:8080/"
        }
      },
      "execution_count": null,
      "outputs": [
        {
          "output_type": "execute_result",
          "data": {
            "text/plain": [
              "8"
            ]
          },
          "metadata": {},
          "execution_count": 27
        }
      ]
    },
    {
      "cell_type": "code",
      "source": [
        "peso = float(input(\"Digita el peso, en kilogramos: \"))\n",
        "altura = float(input(\"Digita la altura, en metros: \"))\n",
        "\n",
        "imc = round(peso / pow(altura, 2), 2)\n",
        "\n",
        "print(f\"El IMC de la persona es: {imc}\")"
      ],
      "metadata": {
        "id": "D3SP0Vdbq25f",
        "outputId": "a907649f-5e2c-40cc-90f7-ddc47751a630",
        "colab": {
          "base_uri": "https://localhost:8080/"
        }
      },
      "execution_count": null,
      "outputs": [
        {
          "output_type": "stream",
          "name": "stdout",
          "text": [
            "Digita el peso, en kilogramos: 120\n",
            "Digita la altura, en metros: 1.90\n",
            "El IMC de la persona es: 33.24\n"
          ]
        }
      ]
    },
    {
      "cell_type": "code",
      "source": [],
      "metadata": {
        "id": "IJSw1cJ9rA66"
      },
      "execution_count": null,
      "outputs": []
    },
    {
      "cell_type": "markdown",
      "source": [
        "## 2.2 Creando funciones"
      ],
      "metadata": {
        "id": "NCUSezOJIdfy"
      }
    },
    {
      "cell_type": "markdown",
      "source": [
        "Tras explorar las funciones incorporadas y aprender cómo utilizar algunas de ellas, es posible que tengas la necesidad de resolver un problema específico y estas no sean suficientes.\n",
        "\n",
        "Por este motivo, necesitaremos crear nuestras propias funciones, y aún más, si necesitamos aplicarlas en varias partes de nuestros códigos."
      ],
      "metadata": {
        "id": "QrTAXwghsg6s"
      }
    },
    {
      "cell_type": "markdown",
      "source": [
        "### Funciones sin parámetros\n",
        "\n",
        "#### Formato estándar:\n",
        "\n",
        "```python\n",
        "def <nombre>():\n",
        "  <instrucciones>\n",
        "```"
      ],
      "metadata": {
        "id": "zxyXiX462A_X"
      }
    },
    {
      "cell_type": "code",
      "source": [
        "def promedio():\n",
        "  calculo = (10+8+7)/3\n",
        "  print(calculo)\n"
      ],
      "metadata": {
        "id": "WgWoULpnMSrT"
      },
      "execution_count": null,
      "outputs": []
    },
    {
      "cell_type": "code",
      "source": [
        "promedio()"
      ],
      "metadata": {
        "id": "VKfg0zkDMStp",
        "outputId": "6f52c6cc-3bed-4220-8c8a-b0b39e8bb666",
        "colab": {
          "base_uri": "https://localhost:8080/"
        }
      },
      "execution_count": null,
      "outputs": [
        {
          "output_type": "stream",
          "name": "stdout",
          "text": [
            "8.375\n"
          ]
        }
      ]
    },
    {
      "cell_type": "code",
      "source": [],
      "metadata": {
        "id": "04YIHBu-MTNB"
      },
      "execution_count": null,
      "outputs": []
    },
    {
      "cell_type": "markdown",
      "source": [
        "### Funciones con parámetros\n",
        "\n",
        "#### Formato estándar:\n",
        "\n",
        "```python\n",
        "def <nombre>(<param_1>, <param_2>, ..., <param_n>):\n",
        "  <instrucciones>\n",
        "```"
      ],
      "metadata": {
        "id": "o9AR_DNDFKSD"
      }
    },
    {
      "cell_type": "code",
      "source": [
        "def promedio(nota_1,nota_2,nota_3):\n",
        "  calculo = (nota_1+nota_2+nota_3)/3\n",
        "  print(calculo)\n"
      ],
      "metadata": {
        "id": "1QHJXCYsMUx3"
      },
      "execution_count": null,
      "outputs": []
    },
    {
      "cell_type": "code",
      "source": [
        "promedio(10,9,7)"
      ],
      "metadata": {
        "id": "txkkIwheMU0n",
        "outputId": "bef85ef8-7901-4ffb-c659-05c3bb49ab10",
        "colab": {
          "base_uri": "https://localhost:8080/"
        }
      },
      "execution_count": null,
      "outputs": [
        {
          "output_type": "stream",
          "name": "stdout",
          "text": [
            "8.666666666666666\n"
          ]
        }
      ]
    },
    {
      "cell_type": "code",
      "source": [],
      "metadata": {
        "id": "Pq88ApQEMWK9"
      },
      "execution_count": null,
      "outputs": []
    },
    {
      "cell_type": "markdown",
      "source": [
        "#### **Situación 2:**\n",
        "\n",
        "Recibimos una solicitud para crear una función que calcule el promedio de notas de un estudiante a partir de una lista; que permita alterar la cantidad de notas, y que no implique tener que modificar la función.\n",
        "\n",
        "Los datos recibidos, en esta ocasión, corresponden a una lista que contiene las notas de un mismo estudiante en una determinada materia.\n",
        "\n",
        "notas = 8.5, 9.0, 6.0, 10.0\n",
        "\n",
        "**¿Vamos a resolver este desafío?**\n",
        "\n",
        "Para facilitar nuestra comprensión del proceso, vamos a aplicar las notas de un único estudiante; sin embargo, puedes probar otros casos para practicar."
      ],
      "metadata": {
        "id": "-Umx7n134suz"
      }
    },
    {
      "cell_type": "code",
      "source": [
        "notas = [8.5, 9.0, 6.0, 10.0]"
      ],
      "metadata": {
        "id": "U4MlTO9ucAKc"
      },
      "execution_count": null,
      "outputs": []
    },
    {
      "cell_type": "code",
      "source": [
        "def promedio():\n",
        "  calculo = (8.5+9.0+6.0+10.0)/4\n",
        "  print(calculo)"
      ],
      "metadata": {
        "id": "ZrqyDBNFMYOK"
      },
      "execution_count": null,
      "outputs": []
    },
    {
      "cell_type": "code",
      "source": [
        "promedio()"
      ],
      "metadata": {
        "id": "wEkixagwMY2E",
        "outputId": "d83c6c57-e560-4357-e272-8772ff050e59",
        "colab": {
          "base_uri": "https://localhost:8080/"
        }
      },
      "execution_count": null,
      "outputs": [
        {
          "output_type": "stream",
          "name": "stdout",
          "text": [
            "8.375\n"
          ]
        }
      ]
    },
    {
      "cell_type": "code",
      "source": [
        "notas = [8.5, 9.0, 6.0, 10.0]"
      ],
      "metadata": {
        "id": "60Gvxd9tMa5d"
      },
      "execution_count": null,
      "outputs": []
    },
    {
      "cell_type": "code",
      "source": [
        "def cacular_promedio(lista):\n",
        "  calculo = builtins.sum(lista) / len(lista)\n",
        "  print(calculo)\n",
        "\n",
        "import builtins"
      ],
      "metadata": {
        "id": "MKoCQDRcy_uX"
      },
      "execution_count": null,
      "outputs": []
    },
    {
      "cell_type": "code",
      "source": [
        "cacular_promedio(notas)"
      ],
      "metadata": {
        "id": "IdVS21yA0fAV",
        "outputId": "d5567411-7b41-4279-d9b6-721dadabe4c2",
        "colab": {
          "base_uri": "https://localhost:8080/"
        }
      },
      "execution_count": null,
      "outputs": [
        {
          "output_type": "stream",
          "name": "stdout",
          "text": [
            "8.375\n"
          ]
        }
      ]
    },
    {
      "cell_type": "code",
      "source": [
        "media = cacular_promedio(notas)"
      ],
      "metadata": {
        "id": "MxiRfJsj1RrY",
        "outputId": "1106bea7-329d-411b-afa2-268a47335d03",
        "colab": {
          "base_uri": "https://localhost:8080/"
        }
      },
      "execution_count": null,
      "outputs": [
        {
          "output_type": "stream",
          "name": "stdout",
          "text": [
            "8.375\n"
          ]
        }
      ]
    },
    {
      "cell_type": "code",
      "source": [
        "type(media)"
      ],
      "metadata": {
        "id": "GKlTfT0v1V_0",
        "outputId": "8ae362d4-10e7-4e1b-b916-9a95d3151d53",
        "colab": {
          "base_uri": "https://localhost:8080/"
        }
      },
      "execution_count": null,
      "outputs": [
        {
          "output_type": "execute_result",
          "data": {
            "text/plain": [
              "NoneType"
            ]
          },
          "metadata": {},
          "execution_count": 74
        }
      ]
    },
    {
      "cell_type": "markdown",
      "source": [
        "<font color=red>**Atención!**</font>\n",
        "Cuando utilizamos funciones, necesitamos prestar atención a una propiedad llamada **Alcance de una función**. Esta propiedad determina dónde una variable puede ser utilizada dentro del código. Por ejemplo, una variable creada dentro de una función existirá únicamente dentro de esta función. O sea, cuando finaliza la ejecución de una función, la variable no estará disponible para el usuario en el resto del código."
      ],
      "metadata": {
        "id": "skMq7d0_xHND"
      }
    },
    {
      "cell_type": "code",
      "source": [],
      "metadata": {
        "id": "yTOqJSgsMbdJ"
      },
      "execution_count": null,
      "outputs": []
    },
    {
      "cell_type": "markdown",
      "source": [
        "## 2.3 Funciones que retornan valores\n",
        "\n",
        "#### Formato estándar:\n",
        "\n",
        "```python\n",
        "def <nombre>(<param_1>, <param_2>, ..., <param_n>):\n",
        "  <instrucciones>\n",
        "  return resultado\n",
        "```"
      ],
      "metadata": {
        "id": "-oDFGKcA52kG"
      }
    },
    {
      "cell_type": "markdown",
      "source": [
        "Retomando la actividad anterior, podemos retornar y guardar el valor del promedio de la siguiente forma:"
      ],
      "metadata": {
        "id": "DxvT_uItbQ-q"
      }
    },
    {
      "cell_type": "code",
      "source": [
        "# Notas del estudiante\n",
        "notas = [8.5, 9.0, 6.0, 10.0]"
      ],
      "metadata": {
        "id": "GlWdnX7Ubgl3"
      },
      "execution_count": null,
      "outputs": []
    },
    {
      "cell_type": "code",
      "source": [
        "def promedio(lista):\n",
        "  resultado = builtins.sum(lista) / len(lista)\n",
        "  return resultado\n"
      ],
      "metadata": {
        "id": "JdMFsT9GMgI6"
      },
      "execution_count": null,
      "outputs": []
    },
    {
      "cell_type": "code",
      "source": [
        "promedio(notas)\n"
      ],
      "metadata": {
        "id": "p7AwNnTCMgLf",
        "outputId": "85e0a8f9-7657-4522-c60f-e4478e5c2f78",
        "colab": {
          "base_uri": "https://localhost:8080/"
        }
      },
      "execution_count": null,
      "outputs": [
        {
          "output_type": "execute_result",
          "data": {
            "text/plain": [
              "8.375"
            ]
          },
          "metadata": {},
          "execution_count": 79
        }
      ]
    },
    {
      "cell_type": "code",
      "source": [
        "resultado = promedio(notas)"
      ],
      "metadata": {
        "id": "35zC247QMgRP"
      },
      "execution_count": null,
      "outputs": []
    },
    {
      "cell_type": "code",
      "source": [
        "type(resultado)"
      ],
      "metadata": {
        "id": "TjmB8IWpMgV4",
        "outputId": "9c4bc424-a7e1-449e-be9e-e52da2669f70",
        "colab": {
          "base_uri": "https://localhost:8080/"
        }
      },
      "execution_count": null,
      "outputs": [
        {
          "output_type": "execute_result",
          "data": {
            "text/plain": [
              "float"
            ]
          },
          "metadata": {},
          "execution_count": 81
        }
      ]
    },
    {
      "cell_type": "code",
      "source": [
        "resultado"
      ],
      "metadata": {
        "id": "kAb1XYGiLRKe",
        "outputId": "90490ce3-3336-44cb-97de-040abb79aa4b",
        "colab": {
          "base_uri": "https://localhost:8080/"
        }
      },
      "execution_count": null,
      "outputs": [
        {
          "output_type": "execute_result",
          "data": {
            "text/plain": [
              "8.375"
            ]
          },
          "metadata": {},
          "execution_count": 83
        }
      ]
    },
    {
      "cell_type": "markdown",
      "source": [
        "#### **Situación 3:**\n",
        "\n",
        "Recibimos una nueva solicitud. Debemos calcular el promedio de un estudiante a partir de una lista y retornar tanto el promedio como la situación del estudiante (\"Aprobado(a)\" si la nota es mayor o igual a 7.0, en caso contrario, será \"Reprobado(a)\").\n",
        "\n",
        "Además de ello, necesitamos exhibir un pequeño texto para indicar el promedio del estudiante y cuál es su situación. Los datos recibidos corresponden a una lista que contiene apenas las notas de un estudiante en una materia determinada.\n",
        "\n",
        "**¿Vamos a resolver este desafío?**\n",
        "\n",
        "Para facilitar nuestra comprensión del proceso, vamos a aplicar las notas de un único estudiante; sin embargo, puedes probar otros casos para practicar."
      ],
      "metadata": {
        "id": "_awyOKOH8OOi"
      }
    },
    {
      "cell_type": "code",
      "source": [
        "# Notas del estudiante\n",
        "notas = [8.5, 9.0, 6.0, 10.0]"
      ],
      "metadata": {
        "id": "3saGo2kDf0BY"
      },
      "execution_count": null,
      "outputs": []
    },
    {
      "cell_type": "markdown",
      "source": [],
      "metadata": {
        "id": "s_Fmp6t-LnB4"
      }
    },
    {
      "cell_type": "code",
      "source": [
        "def boletin(lista):\n",
        "  resultado = builtins.sum(lista) / len(lista)\n",
        "  if resultado >=7:\n",
        "     situacion = \"Aprobado(a)\"\n",
        "  else:\n",
        "     situacion = \"Reprobado(a)\"\n",
        "  return (resultado, situacion)"
      ],
      "metadata": {
        "id": "unNLrdFjMjbv"
      },
      "execution_count": null,
      "outputs": []
    },
    {
      "cell_type": "code",
      "source": [
        "boletin(notas)"
      ],
      "metadata": {
        "id": "F5vyGaf6MdL1",
        "outputId": "6b236082-66ba-4edf-dd67-4798b7d6d711",
        "colab": {
          "base_uri": "https://localhost:8080/"
        }
      },
      "execution_count": null,
      "outputs": [
        {
          "output_type": "execute_result",
          "data": {
            "text/plain": [
              "(8.375, 'Aprobado(a)')"
            ]
          },
          "metadata": {},
          "execution_count": 94
        }
      ]
    },
    {
      "cell_type": "code",
      "source": [
        "resultado, situacion = boletin(notas)"
      ],
      "metadata": {
        "id": "Rmvg4hNeMjeD"
      },
      "execution_count": null,
      "outputs": []
    },
    {
      "cell_type": "code",
      "source": [
        "print(f'EL/la estudiante obtuvo un puntaje de: {resultado} y su situacion es: {situacion}')"
      ],
      "metadata": {
        "id": "jCYuFpmeMji6",
        "outputId": "8e302e11-559a-49f2-e735-e7b16e85d94b",
        "colab": {
          "base_uri": "https://localhost:8080/"
        }
      },
      "execution_count": null,
      "outputs": [
        {
          "output_type": "stream",
          "name": "stdout",
          "text": [
            "EL/la estudiante obtuvo un puntaje de: 8.375 y su situacion es: Aprobado(a)\n"
          ]
        }
      ]
    },
    {
      "cell_type": "code",
      "source": [
        "def boletin_2(lista):\n",
        "  resultado = builtins.sum(lista) / len(lista)\n",
        "  if resultado >=7:\n",
        "     situacion = \"Aprobado(a)\"\n",
        "  else:\n",
        "     situacion = \"Reprobado(a)\"\n",
        "  return f'El/la estudiante obtuvo un puntaje de: {resultado} y su situacion es: {situacion}'"
      ],
      "metadata": {
        "id": "hSht0Z2cMjlT"
      },
      "execution_count": null,
      "outputs": []
    },
    {
      "cell_type": "code",
      "source": [
        "notas = [7.5, 4.0, 3.0, 10.0]"
      ],
      "metadata": {
        "id": "tLdjCulMMjnD"
      },
      "execution_count": null,
      "outputs": []
    },
    {
      "cell_type": "code",
      "source": [
        "boletin_2(notas)"
      ],
      "metadata": {
        "id": "B9QZXB1TSnFr",
        "outputId": "442e30fa-6869-47a9-9f7f-2a4a8ef10d54",
        "colab": {
          "base_uri": "https://localhost:8080/",
          "height": 35
        }
      },
      "execution_count": null,
      "outputs": [
        {
          "output_type": "execute_result",
          "data": {
            "text/plain": [
              "'El/la estudiante obtuvo un puntaje de: 6.125 y su situacion es: Reprobado(a)'"
            ],
            "application/vnd.google.colaboratory.intrinsic+json": {
              "type": "string"
            }
          },
          "metadata": {},
          "execution_count": 105
        }
      ]
    },
    {
      "cell_type": "code",
      "source": [
        "x = 7\n",
        "\n",
        "def suma():\n",
        "  y = 9\n",
        "  return print(x + y)"
      ],
      "metadata": {
        "id": "TnvHG0daTuP8"
      },
      "execution_count": null,
      "outputs": []
    },
    {
      "cell_type": "markdown",
      "source": [
        "## 2.4 Funciones lambda\n",
        "\n",
        "También se conocen como funciones anónimas, son funciones que no necesitan ser definidas, o sea, no poseen un nombre, y describen en una única fila los comandos que deseamos aplicar.\n",
        "\n",
        "https://docs.python.org/es/3/reference/expressions.html?#lambda\n",
        "\n",
        "#### Formato estándar:\n",
        "\n",
        "```python\n",
        "lambda <variable>: <expresion>\n",
        "```"
      ],
      "metadata": {
        "id": "hwYYRpkZMft5"
      }
    },
    {
      "cell_type": "code",
      "source": [
        "nota_ = float(input(\"Digite la nota del estudiante: \"))\n",
        "\n",
        "def cualitativa(nota):\n",
        "  return nota + 0.5\n",
        "\n",
        "cualitativa(nota_)"
      ],
      "metadata": {
        "id": "wcNxDJoPMmTJ",
        "outputId": "272ca742-b968-4387-d1f3-2ef6a874e879",
        "colab": {
          "base_uri": "https://localhost:8080/"
        }
      },
      "execution_count": null,
      "outputs": [
        {
          "name": "stdout",
          "output_type": "stream",
          "text": [
            "Digite la nota del estudiante: 7\n"
          ]
        },
        {
          "output_type": "execute_result",
          "data": {
            "text/plain": [
              "7.5"
            ]
          },
          "metadata": {},
          "execution_count": 109
        }
      ]
    },
    {
      "cell_type": "code",
      "source": [
        "nota_ = float(input(\"Digite la nota del estudiante: \"))\n",
        "\n",
        "cualitativa = lambda x: x + 0.5\n",
        "\n",
        "cualitativa(nota_)"
      ],
      "metadata": {
        "id": "S-baAoaQMmVy",
        "outputId": "8e7c39c4-f999-4bfc-b832-f168eefca47d",
        "colab": {
          "base_uri": "https://localhost:8080/"
        }
      },
      "execution_count": null,
      "outputs": [
        {
          "name": "stdout",
          "output_type": "stream",
          "text": [
            "Digite la nota del estudiante: 7\n"
          ]
        },
        {
          "output_type": "execute_result",
          "data": {
            "text/plain": [
              "7.5"
            ]
          },
          "metadata": {},
          "execution_count": 110
        }
      ]
    },
    {
      "cell_type": "markdown",
      "source": [
        "#### **Situación 4:**\n",
        "\n",
        "En esta nueva solicitud, necesitamos crear una calculadora simple para obtener el promedio ponderado de notas de una materia determinada. Vamos a pedir que el usuario introduzca 3 notas (N1, N2, N3) del estudiante y devuelva el promedio ponderado de este estudiante. Los pesos de las notas son de, respectivamente 3, 2 y 5.\n",
        "\n",
        "Necesitamos exhibir un pequeño texto para poder indicar el promedio del estudiante.\n",
        "**¿Vamos a resolver este desafío?**\n"
      ],
      "metadata": {
        "id": "AuRWyNXYgD_b"
      }
    },
    {
      "cell_type": "markdown",
      "source": [
        "**Resolviendo nuestro problema:**"
      ],
      "metadata": {
        "id": "vdKk3DRBmtUE"
      }
    },
    {
      "cell_type": "code",
      "source": [
        "n1 = float(input(\"Digite la primera nota: \"))\n",
        "n2 = float(input(\"Digite la segunda nota: \"))\n",
        "n3 = float(input(\"Digite la tercera nota: \"))\n",
        "\n",
        "\n",
        "ponderado = lambda x,y,z: (x*3 + y*2 + z*5)/10\n",
        "\n",
        "nota_final = ponderado(n1,n2,n3)"
      ],
      "metadata": {
        "id": "6YxEn9aiMnYJ",
        "outputId": "3d9dee5f-e49f-4836-eeb4-146389b42b23",
        "colab": {
          "base_uri": "https://localhost:8080/"
        }
      },
      "execution_count": null,
      "outputs": [
        {
          "name": "stdout",
          "output_type": "stream",
          "text": [
            "Digite la primera nota: 8\n",
            "Digite la segunda nota: 7\n",
            "Digite la tercera nota: 9.6\n"
          ]
        }
      ]
    },
    {
      "cell_type": "code",
      "source": [
        "print(f'El promedio ponderado del estudiante es: {nota_final}')\n"
      ],
      "metadata": {
        "id": "Ptn9gQaPMnaz",
        "outputId": "6cb44934-98a5-4453-86f4-106b000f8309",
        "colab": {
          "base_uri": "https://localhost:8080/"
        }
      },
      "execution_count": null,
      "outputs": [
        {
          "output_type": "stream",
          "name": "stdout",
          "text": [
            "El promedio ponderado del estudiante es: 8.6\n"
          ]
        }
      ]
    },
    {
      "cell_type": "markdown",
      "source": [
        "#### **Situación 5:**\n",
        "\n",
        "Ahora, debemos crear una pequeña función que permita dar una nota cualitativa (puntaje extra) a las notas del trimestre de los estudiantes del grupo que ganó el concurso de programación realizado en la institución. Cada estudiante recibirá el cualitativo de 0.5 añadido al promedio.\n",
        "\n",
        "Los datos recibidos corresponden a una lista que contiene las notas de algunos estudiantes y una variable con el cualitativo recibido.\n",
        "\n",
        "**¿Vamos a resolver este desafío?**\n",
        "\n",
        "Para facilitar nuestra comprensión del proceso, vamos a aplicar las notas de 5 estudiantes; sin embargo, puedes probar otros casos para practicar."
      ],
      "metadata": {
        "id": "1qk0gLdfFcbf"
      }
    },
    {
      "cell_type": "code",
      "source": [
        "# Notas del estudiante\n",
        "notas = [6.0, 7.0, 9.0, 5.5, 8.0]\n",
        "cualitativo = 0.5"
      ],
      "metadata": {
        "id": "RdoaWhuVI_OB"
      },
      "execution_count": null,
      "outputs": []
    },
    {
      "cell_type": "code",
      "source": [
        "notas_actualizadas = lambda x: x + 0.5\n"
      ],
      "metadata": {
        "id": "PzDfbv-kMq2t"
      },
      "execution_count": null,
      "outputs": []
    },
    {
      "cell_type": "code",
      "source": [],
      "metadata": {
        "id": "3YDQ39wFMq5u"
      },
      "execution_count": null,
      "outputs": []
    },
    {
      "cell_type": "markdown",
      "source": [
        "### Mapeando valores\n",
        "\n",
        "#### Formato estándar:\n",
        "\n",
        "```python\n",
        "map(<lambda function>, <iterador>)\n",
        "```"
      ],
      "metadata": {
        "id": "SOK4BC4mmKbG"
      }
    },
    {
      "cell_type": "code",
      "source": [
        "notas_actualizadas = map(lambda x: x + 0.5, notas)"
      ],
      "metadata": {
        "id": "ZbfpvfWJMsjv"
      },
      "execution_count": null,
      "outputs": []
    },
    {
      "cell_type": "code",
      "source": [
        "notas_actualizadas"
      ],
      "metadata": {
        "id": "TA-zGLJfMseA",
        "outputId": "fa86ff20-d850-4d2e-c240-9d6028c8be85",
        "colab": {
          "base_uri": "https://localhost:8080/"
        }
      },
      "execution_count": null,
      "outputs": [
        {
          "output_type": "execute_result",
          "data": {
            "text/plain": [
              "<map at 0x79e8f6687ee0>"
            ]
          },
          "metadata": {},
          "execution_count": 122
        }
      ]
    },
    {
      "cell_type": "code",
      "source": [
        "notas_actualizadas = list(notas_actualizadas)\n",
        "print(notas_actualizadas)\n",
        "print(notas)"
      ],
      "metadata": {
        "id": "PrAppvR6MuKm",
        "outputId": "9da4ae22-5f4b-497e-836c-b338c048ffba",
        "colab": {
          "base_uri": "https://localhost:8080/"
        }
      },
      "execution_count": null,
      "outputs": [
        {
          "output_type": "stream",
          "name": "stdout",
          "text": [
            "[6.5, 7.5, 9.5, 6.0, 8.5]\n",
            "[6.0, 7.0, 9.0, 5.5, 8.0]\n"
          ]
        }
      ]
    },
    {
      "cell_type": "markdown",
      "source": [
        "## <font color=green> 3. ESTRUCTURAS DE DATOS COMPUESTAS\n",
        "---"
      ],
      "metadata": {
        "id": "DoB6wf2JCYf7"
      }
    },
    {
      "cell_type": "markdown",
      "source": [
        "## 3.1 Estructuras anidadas\n",
        "\n",
        "Previamente, aprendimos a manipular las listas, tuplas y diccionarios para trabajar con una secuencia o colección de valores sean numéricos, categóricos, etc. En esta aula, vamos a profundizar en otra situación común para la persona científica de datos que es trabajar con estos tipos de estructuras anidadas, o sea, cuando, por ejemplo, tenemos listas dentro de una lista."
      ],
      "metadata": {
        "id": "3or6MbnZDW_b"
      }
    },
    {
      "cell_type": "markdown",
      "source": [
        "### **Lista de listas**\n",
        "\n",
        "#### Formato estándar:\n",
        "\n",
        "```python\n",
        "[[a1, a2,...,an], [b1, b2,...,bn], ..., [n1, n2,...,nn]]\n",
        "```"
      ],
      "metadata": {
        "id": "fddus1G9HqB3"
      }
    },
    {
      "cell_type": "markdown",
      "source": [
        "#### **Situación 6:**\n",
        "\n",
        "Recibimos la demanda de transformar una lista con el nombre y las notas de tres trimestres de algunos estudiantes en una lista simple, con los nombres separados de las notas, y una lista de listas con las tres notas de cada estudiante separadas entre sí. Los datos recibidos corresponden a una lista con los nombres y las respectivas notas de cada estudiante.\n",
        "\n",
        "**¿Vamos a resolver este desafío?**\n",
        "\n",
        "Para facilitar nuestra comprensión del proceso, vamos a trabajar con un grupo de 5 estudiantes; sin embargo, puedes probar otros casos para practicar.\n"
      ],
      "metadata": {
        "id": "32K5LA11tFpz"
      }
    },
    {
      "cell_type": "code",
      "source": [
        "notas_grupo = ['Juan', 8.0, 9.0, 10.0, 'Maria', 9.0, 7.0, 6.0, 'José', 3.4, 7.0, 7.0, 'Claudia', 5.5, 6.6, 8.0, 'Ana', 6.0, 10.0, 9.5]"
      ],
      "metadata": {
        "id": "jlEP-c2YthpB"
      },
      "execution_count": null,
      "outputs": []
    },
    {
      "cell_type": "code",
      "source": [
        "nombres = []\n",
        "\n",
        "notas = []\n",
        "\n",
        "for i in range(len(notas_grupo)):\n",
        "  if i % 4 == 0:\n",
        "    nombres.append(notas_grupo[i])\n",
        "  else:\n",
        "    notas.append(notas_grupo[i])\n"
      ],
      "metadata": {
        "id": "azR_cX-ILghB"
      },
      "execution_count": null,
      "outputs": []
    },
    {
      "cell_type": "code",
      "source": [
        "nombres"
      ],
      "metadata": {
        "id": "GhfsJvs9LgjY",
        "outputId": "8d0e425e-9456-469b-ea75-076c5d1dd0b2",
        "colab": {
          "base_uri": "https://localhost:8080/"
        }
      },
      "execution_count": null,
      "outputs": [
        {
          "output_type": "execute_result",
          "data": {
            "text/plain": [
              "['Juan', 'Maria', 'José', 'Claudia', 'Ana']"
            ]
          },
          "metadata": {},
          "execution_count": 7
        }
      ]
    },
    {
      "cell_type": "code",
      "source": [
        "notas"
      ],
      "metadata": {
        "id": "tB8FA20gLiog",
        "outputId": "a872e545-23c5-4870-d648-e6dc707b93b1",
        "colab": {
          "base_uri": "https://localhost:8080/"
        }
      },
      "execution_count": null,
      "outputs": [
        {
          "output_type": "execute_result",
          "data": {
            "text/plain": [
              "[8.0, 9.0, 10.0, 9.0, 7.0, 6.0, 3.4, 7.0, 7.0, 5.5, 6.6, 8.0, 6.0, 10.0, 9.5]"
            ]
          },
          "metadata": {},
          "execution_count": 8
        }
      ]
    },
    {
      "cell_type": "code",
      "source": [
        "notas_separadas = []\n",
        "for i in range(0, len(notas), 3):\n",
        "  notas_separadas.append(notas[i:i+3])\n",
        "\n",
        "notas_separadas\n"
      ],
      "metadata": {
        "id": "SCi8Jl82Liqo",
        "outputId": "441c5ec3-19b4-4f12-afc1-873254847d39",
        "colab": {
          "base_uri": "https://localhost:8080/"
        }
      },
      "execution_count": null,
      "outputs": [
        {
          "output_type": "execute_result",
          "data": {
            "text/plain": [
              "[[8.0, 9.0, 10.0],\n",
              " [9.0, 7.0, 6.0],\n",
              " [3.4, 7.0, 7.0],\n",
              " [5.5, 6.6, 8.0],\n",
              " [6.0, 10.0, 9.5]]"
            ]
          },
          "metadata": {},
          "execution_count": 14
        }
      ]
    },
    {
      "cell_type": "markdown",
      "source": [
        "### **Lista de tuplas**\n",
        "\n",
        "#### Formato estándar:\n",
        "\n",
        "```python\n",
        "[(a1, a2,...,an), (b1, b2,...,bn), ..., (n1, n2,...,nn)]\n",
        "```"
      ],
      "metadata": {
        "id": "SW0sVg68sK_z"
      }
    },
    {
      "cell_type": "markdown",
      "source": [
        "#### **Situación 7:**\n",
        "\n",
        "Necesitamos generar una lista de tuplas con los nombres de los estudiantes y el código ID de cada uno de ellos para la plataforma de análisis de datos. La creación del código consiste en concatenar la primera letra del nombre del estudiante con un número aleatorio de 0 a 999. Los datos recibidos corresponden a una lista con los nombres de cada estudiante.\n",
        "\n",
        "**¿Vamos a resolver este desafío?**\n",
        "\n",
        "Para facilitar nuestra comprensión del proceso, vamos a trabajar con un grupo de 5 estudiantes; sin embargo, puedes probar otros casos para practicar.\n"
      ],
      "metadata": {
        "id": "OId6jAZz5x2m"
      }
    },
    {
      "cell_type": "code",
      "source": [
        "nombres"
      ],
      "metadata": {
        "id": "YA1zJ0G6LkTy",
        "outputId": "3976c443-4a3f-4f95-dccd-9434139e45dd",
        "colab": {
          "base_uri": "https://localhost:8080/"
        }
      },
      "execution_count": null,
      "outputs": [
        {
          "output_type": "execute_result",
          "data": {
            "text/plain": [
              "['Juan', 'Maria', 'José', 'Claudia', 'Ana']"
            ]
          },
          "metadata": {},
          "execution_count": 39
        }
      ]
    },
    {
      "cell_type": "code",
      "source": [
        "from random import randint\n",
        "\n",
        "def genera_numero():\n",
        "     return  randint(0, 999)"
      ],
      "metadata": {
        "id": "yBzPwhGiLkWa"
      },
      "execution_count": null,
      "outputs": []
    },
    {
      "cell_type": "code",
      "source": [
        "genera_numero()"
      ],
      "metadata": {
        "id": "9qgGAjSyLndK",
        "outputId": "4f3fad0b-b775-4411-c136-4158b8383b49",
        "colab": {
          "base_uri": "https://localhost:8080/"
        }
      },
      "execution_count": null,
      "outputs": [
        {
          "output_type": "execute_result",
          "data": {
            "text/plain": [
              "68"
            ]
          },
          "metadata": {},
          "execution_count": 53
        }
      ]
    },
    {
      "cell_type": "code",
      "source": [
        "nombres[0][0]"
      ],
      "metadata": {
        "id": "iPcmrrhiODnj",
        "outputId": "8b1f2698-fc19-488f-aa67-d5cfa45818d5",
        "colab": {
          "base_uri": "https://localhost:8080/",
          "height": 35
        }
      },
      "execution_count": null,
      "outputs": [
        {
          "output_type": "execute_result",
          "data": {
            "text/plain": [
              "'J'"
            ],
            "application/vnd.google.colaboratory.intrinsic+json": {
              "type": "string"
            }
          },
          "metadata": {},
          "execution_count": 55
        }
      ]
    },
    {
      "cell_type": "code",
      "source": [
        "codigos_estudiante = []\n",
        "\n",
        "for i in range(len(nombres)):\n",
        "  codigos_estudiante.append((nombres[i], nombres[i][0] + str(genera_numero())))\n",
        "\n",
        "codigos_estudiante"
      ],
      "metadata": {
        "id": "jVRxtOyeLngM",
        "outputId": "c784769b-ab20-49e8-9fbf-05888f54cb11",
        "colab": {
          "base_uri": "https://localhost:8080/"
        }
      },
      "execution_count": null,
      "outputs": [
        {
          "output_type": "execute_result",
          "data": {
            "text/plain": [
              "[('Juan', 'J673'),\n",
              " ('Maria', 'M929'),\n",
              " ('José', 'J527'),\n",
              " ('Claudia', 'C781'),\n",
              " ('Ana', 'A123')]"
            ]
          },
          "metadata": {},
          "execution_count": 58
        }
      ]
    },
    {
      "cell_type": "code",
      "source": [],
      "metadata": {
        "id": "nFS8ltdPKSt4"
      },
      "execution_count": null,
      "outputs": []
    },
    {
      "cell_type": "markdown",
      "source": [
        "## 3.2 List comprehension\n",
        "\n",
        "Es una forma simple y concisa de crear una lista. Podemos aplicar condicionales y lazos para crear diversos tipos de listas a partir de patrones que deseamos para nuestra estructura de datos.\n",
        "\n",
        "https://docs.python.org/es/3/tutorial/datastructures.html?#list-comprehensions\n",
        "\n",
        "#### Formato estándar:\n",
        "\n",
        "```python\n",
        "[expresion for item in lista]\n",
        "```"
      ],
      "metadata": {
        "id": "srHAov19QCdb"
      }
    },
    {
      "cell_type": "markdown",
      "source": [
        "#### **Situación 8:**\n",
        "\n",
        "Recibimos la demanda de crear una lista con el promedio de los estudiantes de la lista de listas que creamos en la Situación 6, redondeando el promedio a una casilla decimal. Recordando que cada lista de la lista de listas contiene las tres notas de cada estudiante.\n",
        "\n",
        "**¿Vamos a resolver este desafío?**\n",
        "\n",
        "**Tip:** Utiliza el formato:\n",
        "```python\n",
        "[expresion for item in lista]\n",
        "```"
      ],
      "metadata": {
        "id": "l4HW0gDqecgM"
      }
    },
    {
      "cell_type": "code",
      "source": [
        "def promedio(lista: list=[0]) -> float:\n",
        "  ''' Función para calcular el promedio de notas en una lista\n",
        "\n",
        "  lista: list, default [0]\n",
        "    Lista con las notas para calcular el promedio\n",
        "  return = calculo: float\n",
        "    Promedio calculado\n",
        "  '''\n",
        "\n",
        "  calculo = sum(lista) / len(lista)\n",
        "\n",
        "  return calculo"
      ],
      "metadata": {
        "id": "J_atQRQdlpNe"
      },
      "execution_count": null,
      "outputs": []
    },
    {
      "cell_type": "code",
      "source": [
        "notas = [[8.0, 9.0, 10.0], [9.0, 7.0, 6.0], [3.4, 7.0, 7.0], [5.5, 6.6, 8.0], [6.0, 10.0, 9.5]]"
      ],
      "metadata": {
        "id": "h7LeBrgnLAG6"
      },
      "execution_count": null,
      "outputs": []
    },
    {
      "cell_type": "code",
      "source": [
        "promedios = [round(promedio(i), 1) for i in notas]\n",
        "\n",
        "promedios"
      ],
      "metadata": {
        "id": "3j8_H7e8LAJZ",
        "outputId": "85ded7f6-af67-4212-af12-1898604f3aa5",
        "colab": {
          "base_uri": "https://localhost:8080/"
        }
      },
      "execution_count": null,
      "outputs": [
        {
          "output_type": "execute_result",
          "data": {
            "text/plain": [
              "[9.0, 7.3, 5.8, 6.7, 8.5]"
            ]
          },
          "metadata": {},
          "execution_count": 69
        }
      ]
    },
    {
      "cell_type": "markdown",
      "source": [
        "#### **Situación 9:**\n",
        "\n",
        "Ahora, necesitamos utilizar los promedios calculados en el ejemplo anterior, y agruparlos con el nombre de los respectivos estudiantes. Esto será necesario para generar una lista que seleccione a aquellos estudiantes que posean un promedio final mayor o igual a 8 para concursar por una beca de estudios para el próximo año lectivo. Los datos recibidos corresponden a una lista de tuplas con los nombres y los códigos de los estudiantes junto a la lista de promedios calculados previamente.\n",
        "\n",
        "**Nota: El número de código será diferente cada vez que se ejecute la celda que los genera, por lo tanto, es completamente normal que estos códigos sean diferentes.**\n",
        "\n",
        "**¿Vamos a resolver este desafío?**\n",
        "\n",
        "Para facilitar nuestra comprensión del proceso vamos a trabajar con un grupo de 5 estudiantes.\n",
        "\n",
        "**Tip:** Utiliza el formato:\n",
        "\n",
        "```python\n",
        "[expresion for item in lista if condicion]\n",
        "```"
      ],
      "metadata": {
        "id": "ApLjXlAdhJKd"
      }
    },
    {
      "cell_type": "code",
      "source": [
        "nombres = [('Juan', 'J673'), ('Maria', 'M929'), ('José', 'J527'), ('Claudia', 'C781'), ('Ana', 'A123')]\n",
        "promedios = [9.0, 7.3, 5.8, 6.7, 8.5]"
      ],
      "metadata": {
        "id": "QK-ubmmrLC7I"
      },
      "execution_count": null,
      "outputs": []
    },
    {
      "cell_type": "code",
      "source": [
        "nombres = [nombre[0] for nombre in nombres]\n",
        "\n",
        "nombres"
      ],
      "metadata": {
        "id": "df1Q8GGELC9b",
        "outputId": "0cc1a4ec-7ca2-40b3-d894-82c5b3d7375f",
        "colab": {
          "base_uri": "https://localhost:8080/"
        }
      },
      "execution_count": null,
      "outputs": [
        {
          "output_type": "execute_result",
          "data": {
            "text/plain": [
              "['Juan', 'Maria', 'José', 'Claudia', 'Ana']"
            ]
          },
          "metadata": {},
          "execution_count": 74
        }
      ]
    },
    {
      "cell_type": "markdown",
      "source": [
        "<font color=green>**Tip:**</font> Para lograr parear los promedios y\n",
        "los nombres fácilmente, podemos acudir a otra  built-in function: `zip()`\n",
        "\n",
        "Esta recibe uno o más iterables (lista, string, dict, etc.) y los retorna como un iterador de tuplas donde cada elemento de los iterables es pareado."
      ],
      "metadata": {
        "id": "U6KAABs7Dfpe"
      }
    },
    {
      "cell_type": "code",
      "source": [
        "estudiantes = list(zip(nombres, promedios))\n"
      ],
      "metadata": {
        "id": "841v92WvLEol"
      },
      "execution_count": null,
      "outputs": []
    },
    {
      "cell_type": "code",
      "source": [
        "estudiantes"
      ],
      "metadata": {
        "id": "U8b4G_2oLErp",
        "outputId": "246b2462-357f-42a0-cd0e-41f46acc055a",
        "colab": {
          "base_uri": "https://localhost:8080/"
        }
      },
      "execution_count": null,
      "outputs": [
        {
          "output_type": "execute_result",
          "data": {
            "text/plain": [
              "[('Juan', 9.0), ('Maria', 7.3), ('José', 5.8), ('Claudia', 6.7), ('Ana', 8.5)]"
            ]
          },
          "metadata": {},
          "execution_count": 77
        }
      ]
    },
    {
      "cell_type": "code",
      "source": [
        "candidato = [estudiante[0] for estudiante in estudiantes if estudiante[1] >= 8]\n",
        "candidato"
      ],
      "metadata": {
        "id": "aLamhdLUZSIU",
        "outputId": "828d9885-3742-41aa-df4e-7f7cddef18ea",
        "colab": {
          "base_uri": "https://localhost:8080/"
        }
      },
      "execution_count": null,
      "outputs": [
        {
          "output_type": "execute_result",
          "data": {
            "text/plain": [
              "['Juan', 'Ana']"
            ]
          },
          "metadata": {},
          "execution_count": 78
        }
      ]
    },
    {
      "cell_type": "markdown",
      "source": [
        "#### **Situación 10:**\n",
        "\n",
        "Recibimos dos demandas sobre este proyecto con las notas de los estudiantes:\n",
        "- Crear una lista de la situación de los estudiantes considerando los siguientes casos: Si su promedio es mayor o igual a 7, recibirá el valor \"Aprobado\" y en caso contrario recibirá el valor \"Reprobado\".\n",
        "- Generar una lista de listas con:\n",
        "  - Lista de tuplas con el nombre de los estudiantes y sus códigos\n",
        "  - Lista de listas con las notas de cada estudiante\n",
        "  - Lista con los promedios de cada estudiante\n",
        "  - Lista de la situación de los estudiantes de acuerdo con los promedios\n",
        "\n",
        "Los datos que utilizaremos son los mismos que generamos en las situaciones anteriores (`nombres`, `notas`, `promedios`).\n",
        "\n",
        "**¿Vamos a resolver este desafío?**\n",
        "\n",
        "Para avanzar en el proceso, vamos a dejar escritas las estructuras de datos que ya produjimos.\n",
        "\n",
        "**Tip:** Para la lista de las situaciones utiliza el formato:\n",
        "```python\n",
        "[resultado_if if condicion else resultado_else for item in lista]\n",
        "```"
      ],
      "metadata": {
        "id": "9yzRDIB0fkeF"
      }
    },
    {
      "cell_type": "code",
      "source": [
        "nombres = [('Juan', 'J673'), ('Maria', 'M929'), ('José', 'J527'), ('Claudia', 'C781'), ('Ana', 'A123')]\n",
        "promedios = [9.0, 7.3, 5.8, 6.7, 8.5]\n",
        "notas = [[8.0, 9.0, 10.0], [9.0, 7.0, 6.0], [3.4, 7.0, 7.0], [5.5, 6.6, 8.0], [6.0, 10.0, 9.5]]"
      ],
      "metadata": {
        "id": "YGQIaCzkLGqd"
      },
      "execution_count": null,
      "outputs": []
    },
    {
      "cell_type": "code",
      "source": [
        "situacion = ['Aprobado(a)' if promedio >= 7 else 'Reprobado(a)'  for promedio in promedios]\n",
        "situacion"
      ],
      "metadata": {
        "id": "2F6BQRZhdPl7",
        "outputId": "5b9c3d2c-fc97-429c-e9de-c33c83beb4d0",
        "colab": {
          "base_uri": "https://localhost:8080/"
        }
      },
      "execution_count": null,
      "outputs": [
        {
          "output_type": "execute_result",
          "data": {
            "text/plain": [
              "['Aprobado(a)', 'Aprobado(a)', 'Reprobado', 'Reprobado', 'Aprobado(a)']"
            ]
          },
          "metadata": {},
          "execution_count": 80
        }
      ]
    },
    {
      "cell_type": "markdown",
      "source": [
        "**Tip:** Para generar la lista de listas del enunciado podemos utilizar el siguiente formato:\n",
        "```python\n",
        "[expresion for item in lista de listas]\n",
        "```"
      ],
      "metadata": {
        "id": "0XsAi49IF9Ta"
      }
    },
    {
      "cell_type": "code",
      "source": [
        "registro = [x for x in[nombres, notas, promedios, situacion]]\n",
        "registro"
      ],
      "metadata": {
        "id": "1Dj6R1vTLIbI",
        "outputId": "47feb2be-8624-46c3-d081-ab556e37f701",
        "colab": {
          "base_uri": "https://localhost:8080/"
        }
      },
      "execution_count": null,
      "outputs": [
        {
          "output_type": "execute_result",
          "data": {
            "text/plain": [
              "[[('Juan', 'J673'),\n",
              "  ('Maria', 'M929'),\n",
              "  ('José', 'J527'),\n",
              "  ('Claudia', 'C781'),\n",
              "  ('Ana', 'A123')],\n",
              " [[8.0, 9.0, 10.0],\n",
              "  [9.0, 7.0, 6.0],\n",
              "  [3.4, 7.0, 7.0],\n",
              "  [5.5, 6.6, 8.0],\n",
              "  [6.0, 10.0, 9.5]],\n",
              " [9.0, 7.3, 5.8, 6.7, 8.5],\n",
              " ['Aprobado(a)', 'Aprobado(a)', 'Reprobado', 'Reprobado', 'Aprobado(a)']]"
            ]
          },
          "metadata": {},
          "execution_count": 82
        }
      ]
    },
    {
      "cell_type": "code",
      "source": [],
      "metadata": {
        "id": "cTLEQQ2eLIqc"
      },
      "execution_count": null,
      "outputs": []
    },
    {
      "cell_type": "markdown",
      "source": [
        "<font color=green>**Tip:**</font> Podemos acudir a la forma más simple de generación de lista de listas con el uso directo de los corchetes sin la necesidad de utilizar las expresiones y el lazo `for` que se emplea en la comprensión de listas."
      ],
      "metadata": {
        "id": "4hkHEZGbGH7X"
      }
    },
    {
      "cell_type": "code",
      "source": [
        "lista_completa = [nombres, notas, promedios, situacion]\n",
        "lista_completa"
      ],
      "metadata": {
        "id": "1tEtWzSoLKKg",
        "outputId": "e0841f2c-9e87-4500-a091-7775ae9569bc",
        "colab": {
          "base_uri": "https://localhost:8080/"
        }
      },
      "execution_count": null,
      "outputs": [
        {
          "output_type": "execute_result",
          "data": {
            "text/plain": [
              "[[('Juan', 'J673'),\n",
              "  ('Maria', 'M929'),\n",
              "  ('José', 'J527'),\n",
              "  ('Claudia', 'C781'),\n",
              "  ('Ana', 'A123')],\n",
              " [[8.0, 9.0, 10.0],\n",
              "  [9.0, 7.0, 6.0],\n",
              "  [3.4, 7.0, 7.0],\n",
              "  [5.5, 6.6, 8.0],\n",
              "  [6.0, 10.0, 9.5]],\n",
              " [9.0, 7.3, 5.8, 6.7, 8.5],\n",
              " ['Aprobado(a)', 'Aprobado(a)', 'Reprobado', 'Reprobado', 'Aprobado(a)']]"
            ]
          },
          "metadata": {},
          "execution_count": 83
        }
      ]
    },
    {
      "cell_type": "code",
      "source": [
        "alturas = [1.70, 1.80, 1.65, 1.75, 1.90]\n",
        "pesos = [65, 80, 58, 70, 95]\n",
        "\n",
        "imc = [round((peso / altura**2), 1) for altura, peso in zip(alturas, pesos)]\n",
        "print(imc)"
      ],
      "metadata": {
        "id": "lRk02Bm5LMB3",
        "outputId": "4034b274-5db4-4edb-dc58-f3a26cdce0fc",
        "colab": {
          "base_uri": "https://localhost:8080/"
        }
      },
      "execution_count": null,
      "outputs": [
        {
          "output_type": "stream",
          "name": "stdout",
          "text": [
            "[22.5, 24.7, 21.3, 22.9, 26.3]\n"
          ]
        }
      ]
    },
    {
      "cell_type": "markdown",
      "source": [
        "## 3.3 Dict comprehension\n",
        "\n",
        "Es una forma simple y concisa de crear o modificar un diccionario. Podemos aplicar condicionales y lazos para crear diversos tipos de diccionarios a partir de los patrones que buscamos para nuestra estructura de datos y con el soporte de iterables como listas o sets.\n",
        "\n",
        "https://peps.python.org/pep-0274/\n",
        "\n",
        "#### Formato estándar:\n",
        "\n",
        "```python\n",
        "{llave: valor for item in lista}\n",
        "```"
      ],
      "metadata": {
        "id": "NmohhDl-QRpx"
      }
    },
    {
      "cell_type": "markdown",
      "source": [
        "#### **Situación 11:**\n",
        "\n",
        "Ahora, nuestra demanda consiste en generar un diccionario a partir de la lista de listas que creamos en la Situación 10 para entregar a la persona responsable por construir las tablas para el análisis de los datos.\n",
        "- Las llaves de nuestro diccionario serán las columnas identificando el tipo de dato\n",
        "- Los valores serán las listas con los datos correspondientes a aquella llave.\n",
        "\n",
        "**¿Vamos a resolver este desafío?**\n",
        "\n",
        "Para facilitar nuestra comprensión del proceso vamos a trabajar con un grupo de 5 estudiantes.\n",
        "\n",
        "**Tip:** Utiliza el formato\n",
        "\n",
        "```python\n",
        "{llave: valor for item in lista}\n",
        "```"
      ],
      "metadata": {
        "id": "kGt8hQXOKeIt"
      }
    },
    {
      "cell_type": "code",
      "source": [
        "lista_completa = [[('Juan', 'J673'), ('Maria', 'M929'), ('José', 'J527'), ('Claudia', 'C781'), ('Ana', 'A123')],\n",
        "                 [[8.0, 9.0, 10.0], [9.0, 7.0, 6.0], [3.4, 7.0, 7.0], [5.5, 6.6, 8.0], [6.0, 10.0, 9.5]],\n",
        "                 [9.0, 7.3, 5.8, 6.7, 8.5],\n",
        "                 ['Aprobado(a)', 'Aprobado(a)', 'Reprobado', 'Reprobado', 'Aprobado(a)']]"
      ],
      "metadata": {
        "id": "sMe83t_MlxWl"
      },
      "execution_count": null,
      "outputs": []
    },
    {
      "cell_type": "code",
      "source": [
        "columnas = ['Notas', 'Promedio Final', 'Situacion']\n",
        "\n",
        "registro = {columnas[i]: lista_completa[i+1] for i in range(len(columnas))}\n",
        "registro"
      ],
      "metadata": {
        "id": "y-zW-YPmlz7l",
        "outputId": "f608ac27-6502-4749-fec6-212c06ea6c27",
        "colab": {
          "base_uri": "https://localhost:8080/"
        }
      },
      "execution_count": null,
      "outputs": [
        {
          "output_type": "execute_result",
          "data": {
            "text/plain": [
              "{'Notas': [[8.0, 9.0, 10.0],\n",
              "  [9.0, 7.0, 6.0],\n",
              "  [3.4, 7.0, 7.0],\n",
              "  [5.5, 6.6, 8.0],\n",
              "  [6.0, 10.0, 9.5]],\n",
              " 'Promedio Final': [9.0, 7.3, 5.8, 6.7, 8.5],\n",
              " 'Situacion': ['Aprobado(a)',\n",
              "  'Aprobado(a)',\n",
              "  'Reprobado',\n",
              "  'Reprobado',\n",
              "  'Aprobado(a)']}"
            ]
          },
          "metadata": {},
          "execution_count": 89
        }
      ]
    },
    {
      "cell_type": "code",
      "source": [
        "registro['Estudiante'] = [lista_completa[0][i][0] for i in range(len(lista_completa[0]))]\n",
        "registro"
      ],
      "metadata": {
        "id": "4GhlzfLbLP8L",
        "outputId": "15b97116-0734-4641-fad6-e564a7c0f5db",
        "colab": {
          "base_uri": "https://localhost:8080/"
        }
      },
      "execution_count": null,
      "outputs": [
        {
          "output_type": "execute_result",
          "data": {
            "text/plain": [
              "{'Notas': [[8.0, 9.0, 10.0],\n",
              "  [9.0, 7.0, 6.0],\n",
              "  [3.4, 7.0, 7.0],\n",
              "  [5.5, 6.6, 8.0],\n",
              "  [6.0, 10.0, 9.5]],\n",
              " 'Promedio Final': [9.0, 7.3, 5.8, 6.7, 8.5],\n",
              " 'Situacion': ['Aprobado(a)',\n",
              "  'Aprobado(a)',\n",
              "  'Reprobado',\n",
              "  'Reprobado',\n",
              "  'Aprobado(a)'],\n",
              " 'Estudiante': ['Juan', 'Maria', 'José', 'Claudia', 'Ana']}"
            ]
          },
          "metadata": {},
          "execution_count": 92
        }
      ]
    },
    {
      "cell_type": "code",
      "source": [
        "nombres_estudiantes = [\"Enrique Montero\", \"Luna Pereira\", \"Anthony Silva\", \"Leticia Fernandez\", \"Juan González\", \"Maira Caldera\", \"Diana Carvajo\", \"Mariana Rosas\", \"Camila Fernandez\", \"Levi Alves\", \"Nicolás Rocha\", \"Amanda Navas\",  \"Lara Morales\", \"Leticia Olivera\", \"Lucas Navas\", \"Lara Arteaga\", \"Beatriz Martinez\", \"Victor Acevedo\", \"Stephany Hernández\", \"Gustavo Lima\"]\n",
        "\n",
        "medias_estudiantes = [5.4, 4.1, 9.1, 5.3, 6.9, 3.1, 9.0, 5.0, 8.2, 5.5,\n",
        "                    8.1, 7.4, 5.0, 3.7, 8.1, 6.2, 6.1, 5.6, 10.0, 8.2]"
      ],
      "metadata": {
        "id": "ua4wzJzoo5vm"
      },
      "execution_count": null,
      "outputs": []
    },
    {
      "cell_type": "code",
      "source": [
        "becados = {nombres_estudiantes[i]: medias_estudiantes[i] for i in range(len(medias_estudiantes)) if medias_estudiantes[i] >= 9}\n",
        "becados"
      ],
      "metadata": {
        "id": "e9TJsKmno8Fy",
        "outputId": "4cf51e8c-0ff4-491e-fe00-968cfac858e4",
        "colab": {
          "base_uri": "https://localhost:8080/"
        }
      },
      "execution_count": null,
      "outputs": [
        {
          "output_type": "execute_result",
          "data": {
            "text/plain": [
              "{'Anthony Silva': 9.1, 'Diana Carvajo': 9.0, 'Stephany Hernández': 10.0}"
            ]
          },
          "metadata": {},
          "execution_count": 94
        }
      ]
    },
    {
      "cell_type": "code",
      "source": [
        "practica"
      ],
      "metadata": {
        "id": "czDKPG9Wr8dv"
      },
      "execution_count": null,
      "outputs": []
    },
    {
      "cell_type": "code",
      "source": [
        "lista_de_listas = [[4, 6, 5, 9], [1, 0, 7, 2], [3, 4, 1, 8]]"
      ],
      "metadata": {
        "id": "SOFaEwpQr8ne"
      },
      "execution_count": null,
      "outputs": []
    },
    {
      "cell_type": "code",
      "source": [
        "suma_de_elementos =[elemento for numero in lista_de_listas for elemento in numero]\n",
        "total_suma = sum(suma_de_elementos)\n",
        "total_suma"
      ],
      "metadata": {
        "id": "3Blo6aDcr81m",
        "outputId": "b3138d58-55a1-4505-8ebe-8ca4d1d29bd7",
        "colab": {
          "base_uri": "https://localhost:8080/"
        }
      },
      "execution_count": null,
      "outputs": [
        {
          "output_type": "execute_result",
          "data": {
            "text/plain": [
              "50"
            ]
          },
          "metadata": {},
          "execution_count": 108
        }
      ]
    },
    {
      "cell_type": "code",
      "source": [
        "for lista in lista_de_listas:\n",
        "    print(sum(lista))"
      ],
      "metadata": {
        "id": "kb0qxT53r9Ga",
        "outputId": "d63fc896-5d7c-4e03-f0ff-9022adbd6f17",
        "colab": {
          "base_uri": "https://localhost:8080/"
        }
      },
      "execution_count": null,
      "outputs": [
        {
          "output_type": "stream",
          "name": "stdout",
          "text": [
            "24\n",
            "10\n",
            "16\n"
          ]
        }
      ]
    },
    {
      "cell_type": "markdown",
      "source": [
        "## <font color=green> 4. LIDIANDO CON EXCEPCIONES\n",
        "---"
      ],
      "metadata": {
        "id": "RxKC5WVoCYp3"
      }
    },
    {
      "cell_type": "code",
      "source": [],
      "metadata": {
        "id": "Ka1JPCuvLP4x"
      },
      "execution_count": null,
      "outputs": []
    },
    {
      "cell_type": "markdown",
      "source": [
        "Hemos podido evidenciar hasta aquí la existencia de algunos errores y excepciones en la ejecución de algún comando. Como científico/a de datos o programador, necesitarás estar atento a estas situaciones para evitar bugs o problemas en tus códigos y análisis que puedan afectar la experiencia tanto del usuario como la eficiencia de su análisis.\n",
        "\n",
        "Existen básicamente dos formas distintas de errores: Los **errores de sintáxis** y las **excepciones**.\n",
        "\n",
        "Las excepciones son errores detectados durante la ejecución e interrumpen el flujo del programa cerrándolo en caso de que no sean tratadas.  \n",
        "\n",
        "Vamos a aprender a identificar y tratar algunas de las excepciones aquí, pero es siempre importante consultar la documentación para investigar y verificar cuáles se ajustan a sus proyectos.\n",
        "\n",
        "**Documentación sobre errores y excepciones:** https://docs.python.org/es/3/tutorial/errors.html"
      ],
      "metadata": {
        "id": "MzOZ_0M3CU1x"
      }
    },
    {
      "cell_type": "markdown",
      "source": [
        "## 4.1 Tratando las Excepciones\n",
        "\n",
        "El tratamiento de las excepciones contribuye a establecer un flujo alternativo para la ejecución del código evitando la interrupción de los procesos inesperadamente.\n",
        "\n",
        "Existe una serie de excepciones, y a partir del comportamiento que queremos, y de los errores que queremos tratar, es posible construir un camino para el usuario, o también, proveer más detalles sobre aquella excepción.\n",
        "\n",
        "- Jerarquía de las excepciones (https://docs.python.org/es/3/library/exceptions.html#exception-hierarchy)"
      ],
      "metadata": {
        "id": "x3E66krBST7K"
      }
    },
    {
      "cell_type": "markdown",
      "source": [
        "### Try ... Except\n",
        "\n",
        "```python\n",
        "try:\n",
        "  # código que será ejecutado. En caso de que surja una excepción, para inmediatamente\n",
        "except <nombre_de_la_excepcion as e>:\n",
        "  # Si surje una excepción en el try, ejecuta este código, si no, salta esta etapa\n",
        "```"
      ],
      "metadata": {
        "id": "h9lj8Wfk__cl"
      }
    },
    {
      "cell_type": "markdown",
      "source": [
        "#### **Situación 12:**\n",
        "\n",
        "Creaste un código que lee un diccionario con las notas de los estudiantes y querías retornar la lista de notas de un estudiante.\n",
        "\n",
        "En caso que el/la estudiante no esté matriculado(a) en el grupo debemos tratar la excepción para presentar el mensaje \"Estudiante no matriculado(a) en el grupo\".\n",
        "\n",
        "Vamos a trabajar en este ejemplo con la excepción **Key Error** que interrumpirá el processo de este trecho de código.\n",
        "\n",
        "**¿Vamos a probar este primer tratamiento?**\n",
        "\n"
      ],
      "metadata": {
        "id": "miwzhPNdD8Ty"
      }
    },
    {
      "cell_type": "code",
      "source": [
        "notas = {'Juan': [8.0, 9.0, 10.0], 'Maria': [9.0, 7.0, 6.0], 'José': [3.4, 7.0, 8.0], 'Claudia': [5.5, 6.6, 8.0],\n",
        "         'Ana': [6.0, 10.0, 9.5], 'Jorge': [5.5, 7.5, 9.0], 'Julia': [6.0, 8.0, 7.0], 'Pedro': [3.0, 4.0, 6.0]}"
      ],
      "metadata": {
        "id": "UvVbXY0XVm-f"
      },
      "execution_count": null,
      "outputs": []
    },
    {
      "cell_type": "code",
      "source": [
        "nombre = input(\"Digite el nombre del/la estudiante: \")\n",
        "\n",
        "resultado = notas[nombre]\n",
        "\n",
        "resultado\n"
      ],
      "metadata": {
        "id": "rFBq02dbJtkF",
        "outputId": "eaed62ae-a692-4616-a69b-1f702f6bdd56",
        "colab": {
          "base_uri": "https://localhost:8080/"
        }
      },
      "execution_count": null,
      "outputs": [
        {
          "name": "stdout",
          "output_type": "stream",
          "text": [
            "Digite el nombre del/la estudiante: Claudia\n"
          ]
        },
        {
          "output_type": "execute_result",
          "data": {
            "text/plain": [
              "[5.5, 6.6, 8.0]"
            ]
          },
          "metadata": {},
          "execution_count": 14
        }
      ]
    },
    {
      "cell_type": "code",
      "source": [
        "try:\n",
        "\n",
        "         nombre = input(\"Digite el nombre del/la estudiante: \")\n",
        "\n",
        "         resultado = notas[nombre]\n",
        "\n",
        "except Exception as e:\n",
        "  print(type(e), e)"
      ],
      "metadata": {
        "id": "IZwxTL1EJvRl",
        "outputId": "a3eb4231-d9a9-4069-c09e-75c1ef6a0a54",
        "colab": {
          "base_uri": "https://localhost:8080/"
        }
      },
      "execution_count": null,
      "outputs": [
        {
          "output_type": "stream",
          "name": "stdout",
          "text": [
            "Digite el nombre del/la estudiante: DIEGO\n",
            "<class 'KeyError'> 'DIEGO'\n"
          ]
        }
      ]
    },
    {
      "cell_type": "code",
      "source": [
        "try:\n",
        "\n",
        "         nombre = input(\"Digite el nombre del/la estudiante: \")\n",
        "\n",
        "         resultado = notas[nombre]\n",
        "\n",
        "except KeyError as e:\n",
        "  print('El estudiante no esta matriculado en el grupo')"
      ],
      "metadata": {
        "id": "zfIMrhVeop3z",
        "outputId": "fb861e2b-d235-4f26-d46b-6bae6b2e911f",
        "colab": {
          "base_uri": "https://localhost:8080/"
        }
      },
      "execution_count": null,
      "outputs": [
        {
          "output_type": "stream",
          "name": "stdout",
          "text": [
            "Digite el nombre del/la estudiante: DIEGO\n",
            "El estudiante no esta matriculado en el grupo\n"
          ]
        }
      ]
    },
    {
      "cell_type": "markdown",
      "source": [
        "### Agregando la cláusula Else\n",
        "\n",
        "```python\n",
        "try:\n",
        "  # código que será ejecutado. En caso de que surja una excepción, para inmediatamente\n",
        "except:\n",
        "  # Si surje una excepción en el try, ejecuta este código, si no, salta esta etapa\n",
        "else:\n",
        "  # Si no surjen excepciones, ejecuta esta parte del código\n",
        "```"
      ],
      "metadata": {
        "id": "hKhKzgQoBHLb"
      }
    },
    {
      "cell_type": "markdown",
      "source": [
        "#### **Situación 13:**\n",
        "\n",
        "Creaste un código que lee un diccionario con las notas de los estudiantes y querías retornar la lista de notas de un estudiante.\n",
        "\n",
        "En caso de que el/la estudiante no esté matriculado(a) en la clase, debe aparecer el siguiente mensaje: \"Estudiante no matriculado(a) en el grupo\" y, si no surje la excepción, debemos exhibir la lista con las notas del(la) estudiante.\n",
        "\n",
        "Vamos a trabajar en este ejemplo con la excepción **Key Error** que interrumpirá el proceso de este trecho de código.\n",
        "\n",
        "**¿Vamos a probar este tratamiento?**\n"
      ],
      "metadata": {
        "id": "USN3SA2tMjL0"
      }
    },
    {
      "cell_type": "code",
      "source": [
        "try:\n",
        "\n",
        "         nombre = input(\"Digite el nombre del/la estudiante: \")\n",
        "\n",
        "         resultado = notas[nombre]\n",
        "\n",
        "except KeyError as e:\n",
        "  print('El estudiante no esta matriculado en el grupo')\n",
        "else:\n",
        "  print(resultado)"
      ],
      "metadata": {
        "id": "Qr_4-D3UJxcE",
        "outputId": "1206b338-eb2b-44ff-982e-51a51904ac14",
        "colab": {
          "base_uri": "https://localhost:8080/"
        }
      },
      "execution_count": null,
      "outputs": [
        {
          "output_type": "stream",
          "name": "stdout",
          "text": [
            "Digite el nombre del/la estudiante: DIEGO\n",
            "El estudiante no esta matriculado en el grupo\n"
          ]
        }
      ]
    },
    {
      "cell_type": "code",
      "source": [
        "try:\n",
        "\n",
        "         nombre = input(\"Digite el nombre del/la estudiante: \")\n",
        "\n",
        "         resultado = notas[nombre]\n",
        "\n",
        "except KeyError as e:\n",
        "  print('El estudiante no esta matriculado en el grupo')\n",
        "else:\n",
        "  print(f'Las notas del/la estudiante son: {resultado}')\n"
      ],
      "metadata": {
        "id": "uy2xPGXoJzXS",
        "outputId": "ef0a61fe-d555-43a1-8752-0159be54277c",
        "colab": {
          "base_uri": "https://localhost:8080/"
        }
      },
      "execution_count": null,
      "outputs": [
        {
          "output_type": "stream",
          "name": "stdout",
          "text": [
            "Digite el nombre del/la estudiante: Maria\n",
            "Las notas del/la estudiante son: [9.0, 7.0, 6.0]\n"
          ]
        }
      ]
    },
    {
      "cell_type": "markdown",
      "source": [
        "### Añadiendo la cláusula finally\n",
        "\n",
        "```python\n",
        "try:\n",
        "  # código que será ejecutado. En caso de que surja una excepción, para inmediatamente\n",
        "except:\n",
        "  # Si surje una excepción en el try, ejecuta este código, si no, salta esta etapa\n",
        "else:\n",
        "  # Si no surjen excepciones, ejecuta esta parte del código\n",
        "finally:\n",
        "  # Ejecuta este trecho (con o sin excepción)\n",
        "```"
      ],
      "metadata": {
        "id": "Dw_efTlbBhll"
      }
    },
    {
      "cell_type": "markdown",
      "source": [
        "#### **Situación 14:**\n",
        "\n",
        "Creaste un código que lee un diccionario con las notas de los estudiantes y querías retornar la lista de notas de un estudiante.\n",
        "\n",
        "En caso de que el/la estudiante no esté matriculado(a) en la clase, debe aparecer el siguiente mensaje: \"Estudiante no matriculado(a) en el grupo\" y, si no surje la excepción, debemos exhibir la lista con las notas del(la) estudiante. Un texto avisando que \"La consulta ha concluído.\" debe ser mostrado independientemente de si surgió o no alguna excepción.\n",
        "\n",
        "\n",
        "Vamos a trabajar en este ejemplo con la excepción **Key Error** que interrumpirá el proceso de este trecho del código.\n",
        "\n",
        "**¿Vamos a probar este tratamiento?**"
      ],
      "metadata": {
        "id": "jGtFVx5GdnsS"
      }
    },
    {
      "cell_type": "code",
      "source": [
        "try:\n",
        "\n",
        "         nombre = input(\"Digite el nombre del/la estudiante: \")\n",
        "\n",
        "         resultado = notas[nombre]\n",
        "\n",
        "except KeyError as e:\n",
        "  print('El estudiante no esta matriculado en el grupo')\n",
        "else:\n",
        "  print(f'Las notas del/la estudiante son: {resultado}')\n",
        "\n",
        "finally:\n",
        "  print('La consulta ha concluido')"
      ],
      "metadata": {
        "id": "PwdLYP_zJ04s",
        "outputId": "2a442023-16fc-4097-dc80-8aa94de30730",
        "colab": {
          "base_uri": "https://localhost:8080/"
        }
      },
      "execution_count": null,
      "outputs": [
        {
          "output_type": "stream",
          "name": "stdout",
          "text": [
            "Digite el nombre del/la estudiante: Juan\n",
            "Las notas del/la estudiante son: [8.0, 9.0, 10.0]\n",
            "La consulta ha concluido\n"
          ]
        }
      ]
    },
    {
      "cell_type": "code",
      "source": [],
      "metadata": {
        "id": "pv0BaQ95J1BA"
      },
      "execution_count": null,
      "outputs": []
    },
    {
      "cell_type": "markdown",
      "source": [
        "## 4.2 Raise\n",
        "\n",
        "Otra forma de trabajar con las excepciones en tu código, es generando tus propias excepciones para determinados comportamientos que deseas en tu código.\n",
        "\n",
        "Para ello, utilizamos la palabra clave `raise` junto al tipo de excepción que se desea mostrar y el mensaje que será exhibido.   "
      ],
      "metadata": {
        "id": "HdjllLBpST_2"
      }
    },
    {
      "cell_type": "markdown",
      "source": [
        "```python\n",
        "raise NombreDelError(\"Mensaje deseado.\")\n",
        "```"
      ],
      "metadata": {
        "id": "_nIOnDQufv6Z"
      }
    },
    {
      "cell_type": "markdown",
      "source": [
        "#### **Situação 15:**\n",
        "\n",
        "Creaste una función para calcular el promedio de un estudiante en una determinada materia pasando en una lista las notas de este estudiante.\n",
        "\n",
        "Pretendes tratar 2 situaciones:\n",
        "\n",
        "- Si la lista posee un valor no numérico el cálculo de promedio no será ejecutado y un mensaje de \"No fue posible calcular el promedio del(la) estudiante. Solo se admiten valores numéricos!\" será exhibido.\n",
        "\n",
        "- En caso que la lista tenga más de 4 notas, surgirá una excepción del tipo **ValueError** informando que \"La lista no puede poseer más de 4 notas.\"\n",
        "\n",
        "Un texto avisando que \"La consulta ha concluído.\" debe ser mostrado independientemente de si surgió o no alguna excepción.\n",
        "\n",
        "**¿Vamos a resolver este desafío?**"
      ],
      "metadata": {
        "id": "xapeB2ivgB7R"
      }
    },
    {
      "cell_type": "code",
      "source": [
        "def promedio(lista: list=[0]) -> float:\n",
        "  ''' Función para calcular el promedio de notas en una lista\n",
        "\n",
        "  lista: list, default [0]\n",
        "    Lista con las notas para calcular el promedio\n",
        "  return = calculo: float\n",
        "    Promedio calculado\n",
        "  '''\n",
        "\n",
        "  calculo = sum(lista) / len(lista)\n",
        "\n",
        "  if len(lista) > 4:\n",
        "    raise ValueError('La lista no puede poseer más de 4 notas')\n",
        "\n",
        "  return calculo"
      ],
      "metadata": {
        "id": "kKeFuHUfhSfa"
      },
      "execution_count": null,
      "outputs": []
    },
    {
      "cell_type": "code",
      "source": [
        "notas = [6,7,8,9,10]\n",
        "resultado = promedio(notas)\n",
        "resultado"
      ],
      "metadata": {
        "id": "_ghW6hb9KBpU",
        "outputId": "0069804b-2632-4730-eb3f-89439ee7d299",
        "colab": {
          "base_uri": "https://localhost:8080/",
          "height": 297
        }
      },
      "execution_count": null,
      "outputs": [
        {
          "output_type": "error",
          "ename": "ValueError",
          "evalue": "La lista no puede poseer más de 4 notas",
          "traceback": [
            "\u001b[0;31m---------------------------------------------------------------------------\u001b[0m",
            "\u001b[0;31mValueError\u001b[0m                                Traceback (most recent call last)",
            "\u001b[0;32m<ipython-input-4-3e05948e9e3d>\u001b[0m in \u001b[0;36m<cell line: 0>\u001b[0;34m()\u001b[0m\n\u001b[1;32m      1\u001b[0m \u001b[0mnotas\u001b[0m \u001b[0;34m=\u001b[0m \u001b[0;34m[\u001b[0m\u001b[0;36m6\u001b[0m\u001b[0;34m,\u001b[0m\u001b[0;36m7\u001b[0m\u001b[0;34m,\u001b[0m\u001b[0;36m8\u001b[0m\u001b[0;34m,\u001b[0m\u001b[0;36m9\u001b[0m\u001b[0;34m,\u001b[0m\u001b[0;36m10\u001b[0m\u001b[0;34m]\u001b[0m\u001b[0;34m\u001b[0m\u001b[0;34m\u001b[0m\u001b[0m\n\u001b[0;32m----> 2\u001b[0;31m \u001b[0mresultado\u001b[0m \u001b[0;34m=\u001b[0m \u001b[0mpromedio\u001b[0m\u001b[0;34m(\u001b[0m\u001b[0mnotas\u001b[0m\u001b[0;34m)\u001b[0m\u001b[0;34m\u001b[0m\u001b[0;34m\u001b[0m\u001b[0m\n\u001b[0m\u001b[1;32m      3\u001b[0m \u001b[0mresultado\u001b[0m\u001b[0;34m\u001b[0m\u001b[0;34m\u001b[0m\u001b[0m\n",
            "\u001b[0;32m<ipython-input-3-660ef428891c>\u001b[0m in \u001b[0;36mpromedio\u001b[0;34m(lista)\u001b[0m\n\u001b[1;32m     11\u001b[0m \u001b[0;34m\u001b[0m\u001b[0m\n\u001b[1;32m     12\u001b[0m   \u001b[0;32mif\u001b[0m \u001b[0mlen\u001b[0m\u001b[0;34m(\u001b[0m\u001b[0mlista\u001b[0m\u001b[0;34m)\u001b[0m \u001b[0;34m>\u001b[0m \u001b[0;36m4\u001b[0m\u001b[0;34m:\u001b[0m\u001b[0;34m\u001b[0m\u001b[0;34m\u001b[0m\u001b[0m\n\u001b[0;32m---> 13\u001b[0;31m     \u001b[0;32mraise\u001b[0m \u001b[0mValueError\u001b[0m\u001b[0;34m(\u001b[0m\u001b[0;34m'La lista no puede poseer más de 4 notas'\u001b[0m\u001b[0;34m)\u001b[0m\u001b[0;34m\u001b[0m\u001b[0;34m\u001b[0m\u001b[0m\n\u001b[0m\u001b[1;32m     14\u001b[0m \u001b[0;34m\u001b[0m\u001b[0m\n\u001b[1;32m     15\u001b[0m   \u001b[0;32mreturn\u001b[0m \u001b[0mcalculo\u001b[0m\u001b[0;34m\u001b[0m\u001b[0;34m\u001b[0m\u001b[0m\n",
            "\u001b[0;31mValueError\u001b[0m: La lista no puede poseer más de 4 notas"
          ]
        }
      ]
    },
    {
      "cell_type": "code",
      "source": [
        "notas = [6,7,8,9,'10']\n",
        "resultado = promedio(notas)\n",
        "resultado"
      ],
      "metadata": {
        "id": "X2To8kJdKGFk",
        "outputId": "b71cc9de-1777-4ed0-a9a6-6bbc09f8aee2",
        "colab": {
          "base_uri": "https://localhost:8080/",
          "height": 297
        }
      },
      "execution_count": null,
      "outputs": [
        {
          "output_type": "error",
          "ename": "TypeError",
          "evalue": "unsupported operand type(s) for +: 'int' and 'str'",
          "traceback": [
            "\u001b[0;31m---------------------------------------------------------------------------\u001b[0m",
            "\u001b[0;31mTypeError\u001b[0m                                 Traceback (most recent call last)",
            "\u001b[0;32m<ipython-input-5-f48d04f1e9ba>\u001b[0m in \u001b[0;36m<cell line: 0>\u001b[0;34m()\u001b[0m\n\u001b[1;32m      1\u001b[0m \u001b[0mnotas\u001b[0m \u001b[0;34m=\u001b[0m \u001b[0;34m[\u001b[0m\u001b[0;36m6\u001b[0m\u001b[0;34m,\u001b[0m\u001b[0;36m7\u001b[0m\u001b[0;34m,\u001b[0m\u001b[0;36m8\u001b[0m\u001b[0;34m,\u001b[0m\u001b[0;36m9\u001b[0m\u001b[0;34m,\u001b[0m\u001b[0;34m'10'\u001b[0m\u001b[0;34m]\u001b[0m\u001b[0;34m\u001b[0m\u001b[0;34m\u001b[0m\u001b[0m\n\u001b[0;32m----> 2\u001b[0;31m \u001b[0mresultado\u001b[0m \u001b[0;34m=\u001b[0m \u001b[0mpromedio\u001b[0m\u001b[0;34m(\u001b[0m\u001b[0mnotas\u001b[0m\u001b[0;34m)\u001b[0m\u001b[0;34m\u001b[0m\u001b[0;34m\u001b[0m\u001b[0m\n\u001b[0m\u001b[1;32m      3\u001b[0m \u001b[0mresultado\u001b[0m\u001b[0;34m\u001b[0m\u001b[0;34m\u001b[0m\u001b[0m\n",
            "\u001b[0;32m<ipython-input-3-660ef428891c>\u001b[0m in \u001b[0;36mpromedio\u001b[0;34m(lista)\u001b[0m\n\u001b[1;32m      8\u001b[0m   '''\n\u001b[1;32m      9\u001b[0m \u001b[0;34m\u001b[0m\u001b[0m\n\u001b[0;32m---> 10\u001b[0;31m   \u001b[0mcalculo\u001b[0m \u001b[0;34m=\u001b[0m \u001b[0msum\u001b[0m\u001b[0;34m(\u001b[0m\u001b[0mlista\u001b[0m\u001b[0;34m)\u001b[0m \u001b[0;34m/\u001b[0m \u001b[0mlen\u001b[0m\u001b[0;34m(\u001b[0m\u001b[0mlista\u001b[0m\u001b[0;34m)\u001b[0m\u001b[0;34m\u001b[0m\u001b[0;34m\u001b[0m\u001b[0m\n\u001b[0m\u001b[1;32m     11\u001b[0m \u001b[0;34m\u001b[0m\u001b[0m\n\u001b[1;32m     12\u001b[0m   \u001b[0;32mif\u001b[0m \u001b[0mlen\u001b[0m\u001b[0;34m(\u001b[0m\u001b[0mlista\u001b[0m\u001b[0;34m)\u001b[0m \u001b[0;34m>\u001b[0m \u001b[0;36m4\u001b[0m\u001b[0;34m:\u001b[0m\u001b[0;34m\u001b[0m\u001b[0;34m\u001b[0m\u001b[0m\n",
            "\u001b[0;31mTypeError\u001b[0m: unsupported operand type(s) for +: 'int' and 'str'"
          ]
        }
      ]
    },
    {
      "cell_type": "code",
      "source": [
        "try:\n",
        "  notas = [6,7,8,9,'10']\n",
        "  resultado = promedio(notas)\n",
        "\n",
        "except TypeError:\n",
        "  print('No fue posible calcular el promedio del(la) estudiante. Solo se admiten valores numéricos!')\n",
        "except ValueError as e:\n",
        "  print(e)\n",
        "else:\n",
        "  print(f'El promedio del estudiante es: {resultado}')\n",
        "finally:\n",
        "  print('La consulta ha concluido')"
      ],
      "metadata": {
        "id": "nrCsWqX6KGIA",
        "outputId": "d8a77fd3-4a37-4899-d0e0-71989ac37f6b",
        "colab": {
          "base_uri": "https://localhost:8080/"
        }
      },
      "execution_count": null,
      "outputs": [
        {
          "output_type": "stream",
          "name": "stdout",
          "text": [
            "No fue posible calcular el promedio del(la) estudiante. Solo se admiten valores numéricos!\n",
            "La consulta ha concluido\n"
          ]
        }
      ]
    },
    {
      "cell_type": "code",
      "source": [
        "try:\n",
        "  notas = [6,7,8,9,'10']\n",
        "  resultado = promedio(notas)\n",
        "except ValueError as e:\n",
        "  print(e)\n",
        "except TypeError:\n",
        "  print('No fue posible calcular el promedio del(la) estudiante. Solo se admiten valores numéricos!')\n",
        "else:\n",
        "  print(f'El promedio del estudiante es: {resultado}')\n",
        "finally:\n",
        "  print('La consulta ha concluido')"
      ],
      "metadata": {
        "id": "GInS17JbzFw9",
        "outputId": "d6da254c-6fe7-450f-b85b-2da429b6ae21",
        "colab": {
          "base_uri": "https://localhost:8080/"
        }
      },
      "execution_count": null,
      "outputs": [
        {
          "output_type": "stream",
          "name": "stdout",
          "text": [
            "No fue posible calcular el promedio del(la) estudiante. Solo se admiten valores numéricos!\n",
            "La consulta ha concluido\n"
          ]
        }
      ]
    },
    {
      "cell_type": "code",
      "source": [
        "try:\n",
        "  notas = [6,7,8,9,5]\n",
        "  resultado = promedio(notas)\n",
        "except ValueError as e:\n",
        "  print(e)\n",
        "except TypeError:\n",
        "  print('No fue posible calcular el promedio del(la) estudiante. Solo se admiten valores numéricos!')\n",
        "else:\n",
        "  print(f'El promedio del estudiante es: {resultado}')\n",
        "finally:\n",
        "  print('La consulta ha concluido')"
      ],
      "metadata": {
        "id": "DSGfDlvzzQDi",
        "outputId": "93310047-6b3b-4781-b2fe-713e3c3364ad",
        "colab": {
          "base_uri": "https://localhost:8080/"
        }
      },
      "execution_count": null,
      "outputs": [
        {
          "output_type": "stream",
          "name": "stdout",
          "text": [
            "La lista no puede poseer más de 4 notas\n",
            "La consulta ha concluido\n"
          ]
        }
      ]
    },
    {
      "cell_type": "code",
      "source": [
        "try:\n",
        "  notas = [6,7,8,9]\n",
        "  resultado = promedio(notas)\n",
        "except ValueError as e:\n",
        "  print(e)\n",
        "except TypeError:\n",
        "  print('No fue posible calcular el promedio del(la) estudiante. Solo se admiten valores numéricos!')\n",
        "else:\n",
        "  print(f'El promedio del estudiante es: {resultado}')\n",
        "finally:\n",
        "  print('La consulta ha concluido')"
      ],
      "metadata": {
        "id": "M_TBlOIozWn-",
        "outputId": "514b7f85-14be-4359-8222-90ff9fb74a19",
        "colab": {
          "base_uri": "https://localhost:8080/"
        }
      },
      "execution_count": null,
      "outputs": [
        {
          "output_type": "stream",
          "name": "stdout",
          "text": [
            "El promedio del estudiante es: 7.5\n",
            "La consulta ha concluido\n"
          ]
        }
      ]
    }
  ]
}