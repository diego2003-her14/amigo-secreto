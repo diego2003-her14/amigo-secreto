{
  "nbformat": 4,
  "nbformat_minor": 0,
  "metadata": {
    "colab": {
      "provenance": [],
      "toc_visible": true,
      "include_colab_link": true
    },
    "kernelspec": {
      "name": "python3",
      "display_name": "Python 3"
    },
    "language_info": {
      "name": "python"
    }
  },
  "cells": [
    {
      "cell_type": "markdown",
      "metadata": {
        "id": "view-in-github",
        "colab_type": "text"
      },
      "source": [
        "<a href=\"https://colab.research.google.com/github/diego2003-her14/amigo-secreto/blob/main/Python_Data_Science.ipynb\" target=\"_parent\"><img src=\"https://colab.research.google.com/assets/colab-badge.svg\" alt=\"Open In Colab\"/></a>"
      ]
    },
    {
      "cell_type": "markdown",
      "source": [
        "# Python para Data Science\n",
        "\n",
        "Notebook para el curso de Python para Data Science publicado en la plataforma de [Alura Latam](https://www.aluracursos.com/)"
      ],
      "metadata": {
        "id": "lQx6Mmv0OJyT"
      }
    },
    {
      "cell_type": "markdown",
      "source": [
        "# Introducción a Python\n",
        "¡Vamos a conocer Python, nuestro ambiente de estudio, y también generaremos nuestro primer código en este lenguaje!"
      ],
      "metadata": {
        "id": "7SiB6JIpYKmY"
      }
    },
    {
      "cell_type": "markdown",
      "source": [
        "## Google Colaboratory\n",
        "\n",
        "Ya aprendimos qué es [Python](https://www.python.org/) y ahora aprenderemos a usar nuestra herramienta de ejecución [Google Colaboratory](https://colab.research.google.com/) para programar en un notebook interactivo.\n",
        "\n",
        "Vamos a probar algunas funciones de este ambiente."
      ],
      "metadata": {
        "id": "Yugfb3fCOYY9"
      }
    },
    {
      "cell_type": "markdown",
      "source": [
        " **`>>> Usa esta celda para mover <<<`**"
      ],
      "metadata": {
        "id": "2iUHQsJasJAk"
      }
    },
    {
      "cell_type": "markdown",
      "source": [
        "## ¡Hola mundo!\n",
        "\n",
        "Vamos a conocer un poco más de cerca nuestro notebook. Para ello ejecutaremos nuestro primer comando en Python: [`print()`](https://docs.python.org/3/library/functions.html#print)"
      ],
      "metadata": {
        "id": "aLSFP2V7XTfe"
      }
    },
    {
      "cell_type": "code",
      "source": [
        "print('Hola mundo!')"
      ],
      "metadata": {
        "id": "0qZX8_ZQBYyk",
        "outputId": "b187d843-422d-4b0c-c421-31d2bbb8d612",
        "colab": {
          "base_uri": "https://localhost:8080/"
        }
      },
      "execution_count": null,
      "outputs": [
        {
          "output_type": "stream",
          "name": "stdout",
          "text": [
            "Hola mundo!\n"
          ]
        }
      ]
    },
    {
      "cell_type": "code",
      "source": [
        "21"
      ],
      "metadata": {
        "id": "GLMzF_AKBY7a",
        "outputId": "e6cd892d-dd74-446c-9999-d2ac15400d0a",
        "colab": {
          "base_uri": "https://localhost:8080/"
        }
      },
      "execution_count": null,
      "outputs": [
        {
          "output_type": "execute_result",
          "data": {
            "text/plain": [
              "21"
            ]
          },
          "metadata": {},
          "execution_count": 2
        }
      ]
    },
    {
      "cell_type": "code",
      "source": [
        "print('Me llamo Diego A. Bustos Herrera y, amo la Ciencia de Datos')"
      ],
      "metadata": {
        "id": "yNaZ8QtH5dPS",
        "outputId": "00812c0e-db0f-4ca3-bcf9-72fcfe6b2344",
        "colab": {
          "base_uri": "https://localhost:8080/"
        }
      },
      "execution_count": null,
      "outputs": [
        {
          "output_type": "stream",
          "name": "stdout",
          "text": [
            "Me llamo Diego A. Bustos Herrera y, amo la Ciencia de Datos\n"
          ]
        }
      ]
    },
    {
      "cell_type": "markdown",
      "source": [
        "# Practica 1"
      ],
      "metadata": {
        "id": "M1_0Pyzu7Jh4"
      }
    },
    {
      "cell_type": "markdown",
      "source": [
        "1 - Imprime la frase \"Escuela de Datos de Alura\"."
      ],
      "metadata": {
        "id": "FK2jQMCW7pn8"
      }
    },
    {
      "cell_type": "code",
      "source": [
        "print('Escuela de Datos de Alura')"
      ],
      "metadata": {
        "id": "F-kb57Q87U_R",
        "outputId": "665a1211-3970-4ab5-8d44-24cf6a24bada",
        "colab": {
          "base_uri": "https://localhost:8080/"
        }
      },
      "execution_count": null,
      "outputs": [
        {
          "output_type": "stream",
          "name": "stdout",
          "text": [
            "Escuela de Datos de Alura\n"
          ]
        }
      ]
    },
    {
      "cell_type": "markdown",
      "source": [
        "2 - Imprime tu nombre y tu apellido siguiendo la estructura a continuación:\n",
        "\n",
        "Nombre: [tu nombre]\n",
        "\n",
        "Apellido: [tu apellido]"
      ],
      "metadata": {
        "id": "KDWtQcZ47sfg"
      }
    },
    {
      "cell_type": "code",
      "source": [
        "print('Nombre: Diego')\n",
        "print('Apellido: Bustos')"
      ],
      "metadata": {
        "id": "Yj53BgST7VSj",
        "outputId": "f216ad4a-b4b7-4a0d-d0dd-8ff6c4968dba",
        "colab": {
          "base_uri": "https://localhost:8080/"
        }
      },
      "execution_count": null,
      "outputs": [
        {
          "output_type": "stream",
          "name": "stdout",
          "text": [
            "Nombre: Diego\n",
            "Apellido: Bustos\n"
          ]
        }
      ]
    },
    {
      "cell_type": "markdown",
      "source": [
        "3 - Imprime tu primer nombre letra por letra. Por ejemplo, si mi nombre es Álvaro, la salida sería:\n",
        "\n",
        "Á\n",
        "\n",
        "L\n",
        "\n",
        "V\n",
        "\n",
        "A\n",
        "\n",
        "R\n",
        "\n",
        "O"
      ],
      "metadata": {
        "id": "6xFvkCOS9r-V"
      }
    },
    {
      "cell_type": "code",
      "source": [
        "print('D')\n",
        "print('I')\n",
        "print('E')\n",
        "print('G')\n",
        "print('O')"
      ],
      "metadata": {
        "id": "4Q6Cr0rN-Ale",
        "outputId": "bbdf3edc-4066-404a-dd64-390c820071e0",
        "colab": {
          "base_uri": "https://localhost:8080/"
        }
      },
      "execution_count": null,
      "outputs": [
        {
          "output_type": "stream",
          "name": "stdout",
          "text": [
            "D\n",
            "I\n",
            "E\n",
            "G\n",
            "O\n"
          ]
        }
      ]
    },
    {
      "cell_type": "markdown",
      "source": [
        "4 - Imprime tu fecha de nacimiento en formato día mes año. Recuerda que los valores de día y año no deben estar entre comillas. Suponiendo una fecha de cumpleaños el 28 de febrero de 2003, el formato debe ser como el siguiente:\n",
        "\n",
        "28 febrero 2003"
      ],
      "metadata": {
        "id": "5n-8qn6N-WQa"
      }
    },
    {
      "cell_type": "code",
      "source": [
        "print(14, 'de octubre del', 2003)"
      ],
      "metadata": {
        "id": "zyT7VXEh-o_e",
        "outputId": "ad44c94c-64b7-4d23-fe57-ee6dedc3d82e",
        "colab": {
          "base_uri": "https://localhost:8080/"
        }
      },
      "execution_count": null,
      "outputs": [
        {
          "output_type": "stream",
          "name": "stdout",
          "text": [
            "14 de octubre del 2003\n"
          ]
        }
      ]
    },
    {
      "cell_type": "markdown",
      "source": [
        "5 - Imprime, en una sola instrucción print, el año actual en el que estás realizando este curso. El valor del año debe ser un dato numérico, y la salida de print debe ser la siguiente:\n",
        "\n",
        "Año actual: [año]"
      ],
      "metadata": {
        "id": "sAObxC0S_BFE"
      }
    },
    {
      "cell_type": "code",
      "source": [
        "print('Año actual:', 2025)"
      ],
      "metadata": {
        "id": "NFKB9SCJ_LGY",
        "outputId": "c71ba8c9-af6f-473c-cd0b-30525c78559b",
        "colab": {
          "base_uri": "https://localhost:8080/"
        }
      },
      "execution_count": null,
      "outputs": [
        {
          "output_type": "stream",
          "name": "stdout",
          "text": [
            "Año actual: 2025\n"
          ]
        }
      ]
    },
    {
      "cell_type": "markdown",
      "source": [
        "# Manipulando los datos\n",
        "\n",
        "Vamos a aprender sobre las variables en Python, cómo declararlas y utilizarlas además de conocer otros comandos de este lenguaje. :D"
      ],
      "metadata": {
        "id": "iP8uWQmFYFRs"
      }
    },
    {
      "cell_type": "markdown",
      "source": [
        "## Variables\n",
        "\n",
        "En Data Science trabajamos con varios tipos de datos e informaciones, entonces es esencial saber cómo trabajar con las variables."
      ],
      "metadata": {
        "id": "sLNVmnTbag1Z"
      }
    },
    {
      "cell_type": "markdown",
      "source": [
        "Las variables en Python se crean cuando atribuimos un valor a ella.\n",
        "\n",
        "Para esto, colocamos el nombre de la variable, el signo de igual (`=`) y el valor que queremos atribuirle."
      ],
      "metadata": {
        "id": "lsCY0wahAbf6"
      }
    },
    {
      "cell_type": "code",
      "source": [
        "5"
      ],
      "metadata": {
        "id": "vsHh5buZADND",
        "outputId": "582588f1-ad52-44bc-b446-49ccc4127dd1",
        "colab": {
          "base_uri": "https://localhost:8080/"
        }
      },
      "execution_count": null,
      "outputs": [
        {
          "output_type": "execute_result",
          "data": {
            "text/plain": [
              "5"
            ]
          },
          "metadata": {},
          "execution_count": 1
        }
      ]
    },
    {
      "cell_type": "code",
      "source": [
        "id(5)"
      ],
      "metadata": {
        "id": "sivPtqSjADQV",
        "outputId": "e6689618-16e5-4515-90f1-7701231596d2",
        "colab": {
          "base_uri": "https://localhost:8080/"
        }
      },
      "execution_count": null,
      "outputs": [
        {
          "output_type": "execute_result",
          "data": {
            "text/plain": [
              "10750984"
            ]
          },
          "metadata": {},
          "execution_count": 4
        }
      ]
    },
    {
      "cell_type": "code",
      "source": [
        "edad = 5"
      ],
      "metadata": {
        "id": "JC8jO47wADlm"
      },
      "execution_count": null,
      "outputs": []
    },
    {
      "cell_type": "code",
      "source": [
        "id(edad)\n"
      ],
      "metadata": {
        "id": "AkfJExdWwk9h",
        "outputId": "a136c534-6e55-472c-809f-0e17be86d24f",
        "colab": {
          "base_uri": "https://localhost:8080/"
        }
      },
      "execution_count": null,
      "outputs": [
        {
          "output_type": "execute_result",
          "data": {
            "text/plain": [
              "10750984"
            ]
          },
          "metadata": {},
          "execution_count": 6
        }
      ]
    },
    {
      "cell_type": "code",
      "source": [
        "print(id(edad))\n",
        "print(id(5))"
      ],
      "metadata": {
        "id": "c8fTPaMRwlXF",
        "outputId": "dd367ee7-001b-42d3-c3bb-3ef444db012c",
        "colab": {
          "base_uri": "https://localhost:8080/"
        }
      },
      "execution_count": null,
      "outputs": [
        {
          "output_type": "stream",
          "name": "stdout",
          "text": [
            "10750984\n",
            "10750984\n"
          ]
        }
      ]
    },
    {
      "cell_type": "code",
      "source": [
        "numerocinco = 5"
      ],
      "metadata": {
        "id": "m40J6qrvwlqS"
      },
      "execution_count": null,
      "outputs": []
    },
    {
      "cell_type": "code",
      "source": [
        "id(numerocinco)"
      ],
      "metadata": {
        "id": "nITttI2HxC5y",
        "outputId": "fb1ce7f0-1057-4f53-a472-15fe47a7aa63",
        "colab": {
          "base_uri": "https://localhost:8080/"
        }
      },
      "execution_count": null,
      "outputs": [
        {
          "output_type": "execute_result",
          "data": {
            "text/plain": [
              "10750984"
            ]
          },
          "metadata": {},
          "execution_count": 9
        }
      ]
    },
    {
      "cell_type": "code",
      "source": [
        "nombre = 'Gabriel'"
      ],
      "metadata": {
        "id": "YKIsUNTKx06n"
      },
      "execution_count": null,
      "outputs": []
    },
    {
      "cell_type": "code",
      "source": [
        "id('Gabriel')"
      ],
      "metadata": {
        "id": "lpqRi899x1Nw",
        "outputId": "86424d96-9320-4a90-aa07-b944af13ef11",
        "colab": {
          "base_uri": "https://localhost:8080/"
        }
      },
      "execution_count": null,
      "outputs": [
        {
          "output_type": "execute_result",
          "data": {
            "text/plain": [
              "138242218419120"
            ]
          },
          "metadata": {},
          "execution_count": 13
        }
      ]
    },
    {
      "cell_type": "code",
      "source": [
        "id(nombre)"
      ],
      "metadata": {
        "id": "VHmD9vfUx12s",
        "outputId": "14455e5e-1110-4b26-dc65-66b783d999f6",
        "colab": {
          "base_uri": "https://localhost:8080/"
        }
      },
      "execution_count": null,
      "outputs": [
        {
          "output_type": "execute_result",
          "data": {
            "text/plain": [
              "138242218419120"
            ]
          },
          "metadata": {},
          "execution_count": 14
        }
      ]
    },
    {
      "cell_type": "markdown",
      "source": [
        "Existen algunos tipos de nomes que **no** podemos definir para las variables:\n",
        "\n",
        "- **Nombres que comiencen con números**\n",
        "  - Ejemplos: `10_notas`, `2_nombre_casa`, etc.\n",
        "- **Palabras separadas por espacio**\n",
        "  - Ejemplos: `Nombre escuela`, `notas estudiantes`, etc.\n",
        "- **Nombres de funciones de Python**\n",
        "  - Ejemplos: `print`, `type`, etc."
      ],
      "metadata": {
        "id": "om2N0jHKAzwL"
      }
    },
    {
      "cell_type": "markdown",
      "source": [
        "> Las letras mayúsculas y minúsculas generarán diferentes variables. La variable `edad` es diferente de `Edad` que a su vez es diferente de `EDAD`:\n",
        "``` Python\n",
        "edad = 1\n",
        "Edad = 2\n",
        "EDAD = 3\n",
        "_edad = 4\n",
        "_edad_ = 5\n",
        "print(edad, Edad, EDAD, _edad, _edad_)\n",
        "1 2 3 4 5\n",
        "```"
      ],
      "metadata": {
        "id": "A19vY2GVMujB"
      }
    },
    {
      "cell_type": "markdown",
      "source": [
        "## Tipos de variables\n",
        "\n",
        "Cada variable contiene una clase específica con respecto al tipo de objeto al cual esta hace referencia. Estas clases serán diferentes de acuerdo con el tipo de dato que le sea atribuido a una variable.\n",
        "\n",
        "Para conocer la clase de cada elemento usamos la función [`type()`](https://docs.python.org/3/library/functions.html#type)"
      ],
      "metadata": {
        "id": "UqhzuBhBHsps"
      }
    },
    {
      "cell_type": "code",
      "source": [
        "num_1 = 6"
      ],
      "metadata": {
        "id": "J5a9t73A_-PX"
      },
      "execution_count": null,
      "outputs": []
    },
    {
      "cell_type": "code",
      "source": [
        "type(num_1)"
      ],
      "metadata": {
        "id": "rqmO1ew-_-So",
        "outputId": "f639191b-6e03-473d-e8d9-39873bc2ded2",
        "colab": {
          "base_uri": "https://localhost:8080/"
        }
      },
      "execution_count": null,
      "outputs": [
        {
          "output_type": "execute_result",
          "data": {
            "text/plain": [
              "int"
            ]
          },
          "metadata": {},
          "execution_count": 16
        }
      ]
    },
    {
      "cell_type": "code",
      "source": [
        "apellido = 'Bustos'"
      ],
      "metadata": {
        "id": "xkrPMkeY_-cP"
      },
      "execution_count": null,
      "outputs": []
    },
    {
      "cell_type": "code",
      "source": [
        "type(apellido)"
      ],
      "metadata": {
        "id": "Y_Y7HtkM1H4o",
        "outputId": "dfc5b064-a55b-4c72-9036-602c78f42446",
        "colab": {
          "base_uri": "https://localhost:8080/"
        }
      },
      "execution_count": null,
      "outputs": [
        {
          "output_type": "execute_result",
          "data": {
            "text/plain": [
              "str"
            ]
          },
          "metadata": {},
          "execution_count": 18
        }
      ]
    },
    {
      "cell_type": "code",
      "source": [
        "verdadero = True"
      ],
      "metadata": {
        "id": "PAE_berj1M5L"
      },
      "execution_count": null,
      "outputs": []
    },
    {
      "cell_type": "code",
      "source": [
        "type(verdadero)"
      ],
      "metadata": {
        "id": "0SxAF7401NK4",
        "outputId": "dd292cef-2fe4-40d8-dff6-f8ecd523488b",
        "colab": {
          "base_uri": "https://localhost:8080/"
        }
      },
      "execution_count": null,
      "outputs": [
        {
          "output_type": "execute_result",
          "data": {
            "text/plain": [
              "bool"
            ]
          },
          "metadata": {},
          "execution_count": 20
        }
      ]
    },
    {
      "cell_type": "code",
      "source": [
        "probabilidad = 10.5"
      ],
      "metadata": {
        "id": "9gu0Tui_1NXE"
      },
      "execution_count": null,
      "outputs": []
    },
    {
      "cell_type": "code",
      "source": [
        "type(probabilidad)"
      ],
      "metadata": {
        "id": "qOiT8rNY1NkL",
        "outputId": "ac02ec60-f36c-4a82-f763-e9eb28e6a3ee",
        "colab": {
          "base_uri": "https://localhost:8080/"
        }
      },
      "execution_count": null,
      "outputs": [
        {
          "output_type": "execute_result",
          "data": {
            "text/plain": [
              "float"
            ]
          },
          "metadata": {},
          "execution_count": 22
        }
      ]
    },
    {
      "cell_type": "markdown",
      "source": [
        "En un conjunto de datos escolares podemos tener varios tipos de informaciones. Supongamos que tenemos acceso a la ficha de datos del alumno *Penélope Camacho*, cómo transformamos este nombre en variables de Python?\n",
        "\n",
        "#### Ficha:\n",
        "\n",
        "- Nombre: Penélope Camacho\n",
        "- Edad: 11 años\n",
        "- Promedio del semestre: 9,75\n",
        "- Situación de aprobación: Verdadera (aprobado)"
      ],
      "metadata": {
        "id": "O-FxDumfWu0C"
      }
    },
    {
      "cell_type": "code",
      "source": [
        "nombre_estudiante = 'Penelope Camacho'\n",
        "edad_estudiante = 11\n",
        "promedio_estudiante = 9.75\n",
        "aprobado_estudiante = True"
      ],
      "metadata": {
        "id": "FabQ7jQf_8Xt"
      },
      "execution_count": null,
      "outputs": []
    },
    {
      "cell_type": "code",
      "source": [
        "print(nombre_estudiante, edad_estudiante, promedio_estudiante, aprobado_estudiante)\n",
        "print(type(nombre_estudiante), type(edad_estudiante), type(promedio_estudiante), type(aprobado_estudiante))"
      ],
      "metadata": {
        "id": "IZLQnZUj_8bd",
        "outputId": "b8be67a4-344e-43e9-878c-a992eab7abd6",
        "colab": {
          "base_uri": "https://localhost:8080/"
        }
      },
      "execution_count": null,
      "outputs": [
        {
          "output_type": "stream",
          "name": "stdout",
          "text": [
            "Penelope Camacho 11 9.75 True\n",
            "<class 'str'> <class 'int'> <class 'float'> <class 'bool'>\n"
          ]
        }
      ]
    },
    {
      "cell_type": "markdown",
      "source": [
        "## Variables numéricas\n",
        "\n",
        "Entre los tipos de datos numéricos vamos a enfocarnos en los tipos `entero` y `float`."
      ],
      "metadata": {
        "id": "KFq_8Sxf-OG0"
      }
    },
    {
      "cell_type": "markdown",
      "source": [
        "Tenemos una tabla de información sobre los diversos cargos, cantidad de personas empleadas y el salario correspondiente:\n",
        "\n",
        "|Cargo | Cantidad | Salario|\n",
        "|---|---|---|\n",
        "|Vigilante | 5 | 300 |\n",
        "|Docente | 16| 500|\n",
        "|Coordinador| 2 |600|\n",
        "\n",
        "Necesitamos trabajar con estos datos para obtener:\n",
        "\n",
        "- La cantidad total de empleados;\n",
        "- La diferencia entre el salario más bajo y más alto; y\n",
        "- El promedio ponderado de los salarios de los empleados de la escuela."
      ],
      "metadata": {
        "id": "8_HYUbkVYdQY"
      }
    },
    {
      "cell_type": "code",
      "source": [
        "c_vigilante = 5\n",
        "s_vigilante = 300\n",
        "\n",
        "c_docente = 16\n",
        "s_docente = 500\n",
        "\n",
        "c_coordinador = 2\n",
        "s_coordinador = 600"
      ],
      "metadata": {
        "id": "SSZ4pSHh7Huo"
      },
      "execution_count": null,
      "outputs": []
    },
    {
      "cell_type": "code",
      "source": [
        "cantidad_total = c_vigilante + c_docente + c_coordinador\n",
        "cantidad_total"
      ],
      "metadata": {
        "id": "4hYy8HZ47Sme",
        "outputId": "8a402240-76e4-4bf1-f5db-a0bb2270f9da",
        "colab": {
          "base_uri": "https://localhost:8080/"
        }
      },
      "execution_count": null,
      "outputs": [
        {
          "output_type": "execute_result",
          "data": {
            "text/plain": [
              "23"
            ]
          },
          "metadata": {},
          "execution_count": 39
        }
      ]
    },
    {
      "cell_type": "code",
      "source": [
        "canti_tol = 5 + 16 + 2\n",
        "canti_tol"
      ],
      "metadata": {
        "id": "NiFOEVhV8tJs",
        "outputId": "e67d6a09-9543-4e50-9128-1f2a55fbc307",
        "colab": {
          "base_uri": "https://localhost:8080/"
        }
      },
      "execution_count": null,
      "outputs": [
        {
          "output_type": "execute_result",
          "data": {
            "text/plain": [
              "23"
            ]
          },
          "metadata": {},
          "execution_count": 47
        }
      ]
    },
    {
      "cell_type": "code",
      "source": [
        "diferencia_de_salario = s_coordinador- s_vigilante\n",
        "diferencia_de_salario"
      ],
      "metadata": {
        "id": "r_uvgvga72Ow",
        "outputId": "ea642962-484f-4a6c-a9f4-0ddfe9a929a9",
        "colab": {
          "base_uri": "https://localhost:8080/"
        }
      },
      "execution_count": null,
      "outputs": [
        {
          "output_type": "execute_result",
          "data": {
            "text/plain": [
              "300"
            ]
          },
          "metadata": {},
          "execution_count": 41
        }
      ]
    },
    {
      "cell_type": "code",
      "source": [
        "dife_de_sal = 600 - 300\n",
        "dife_de_sal"
      ],
      "metadata": {
        "id": "1vTvl5CO8uLU",
        "outputId": "60f2f3aa-b625-497e-968a-05be18728b39",
        "colab": {
          "base_uri": "https://localhost:8080/"
        }
      },
      "execution_count": null,
      "outputs": [
        {
          "output_type": "execute_result",
          "data": {
            "text/plain": [
              "300"
            ]
          },
          "metadata": {},
          "execution_count": 48
        }
      ]
    },
    {
      "cell_type": "code",
      "source": [
        "promedios_salarios = (c_vigilante * s_vigilante + c_docente * s_docente + c_coordinador * s_coordinador) / (c_vigilante + c_docente + c_coordinador)\n",
        "promedios_salarios"
      ],
      "metadata": {
        "id": "0U3LK5qn7a86",
        "outputId": "4eb80155-3949-486c-c4f0-ce27784d8bbf",
        "colab": {
          "base_uri": "https://localhost:8080/"
        }
      },
      "execution_count": null,
      "outputs": [
        {
          "output_type": "execute_result",
          "data": {
            "text/plain": [
              "465.2173913043478"
            ]
          },
          "metadata": {},
          "execution_count": 46
        }
      ]
    },
    {
      "cell_type": "code",
      "source": [
        "promedio_salarios = (5 * 300 + 16 * 500 + 2 * 600) / (5 + 16 + 2)\n",
        "promedio_salarios"
      ],
      "metadata": {
        "id": "F_X-wxdm_5Ys",
        "outputId": "dde0ce30-4b40-4234-b477-1e7e0fe87015",
        "colab": {
          "base_uri": "https://localhost:8080/"
        }
      },
      "execution_count": null,
      "outputs": [
        {
          "output_type": "execute_result",
          "data": {
            "text/plain": [
              "465.2173913043478"
            ]
          },
          "metadata": {},
          "execution_count": 33
        }
      ]
    },
    {
      "cell_type": "code",
      "source": [],
      "metadata": {
        "id": "fIugsxNy_53j"
      },
      "execution_count": null,
      "outputs": []
    },
    {
      "cell_type": "markdown",
      "source": [
        "## Strings"
      ],
      "metadata": {
        "id": "yQy7b0ZWoD-P"
      }
    },
    {
      "cell_type": "markdown",
      "source": [
        "Strings hace referencia a un conjunto de caracteres formando un texto.\n",
        "\n",
        "Podemos crear Strings cuando atribuimos un dato a una variable entre comillas sencillas (`'`) o comillas dobles (`\"`)."
      ],
      "metadata": {
        "id": "vlo2-DXusv3s"
      }
    },
    {
      "cell_type": "code",
      "source": [
        "t = 'Alura'\n",
        "type(t)"
      ],
      "metadata": {
        "id": "ityEWqvh_2wK",
        "outputId": "a11d89ef-c517-4e64-b98f-e70b90d78e8a",
        "colab": {
          "base_uri": "https://localhost:8080/"
        }
      },
      "execution_count": null,
      "outputs": [
        {
          "output_type": "execute_result",
          "data": {
            "text/plain": [
              "str"
            ]
          },
          "metadata": {},
          "execution_count": 49
        }
      ]
    },
    {
      "cell_type": "markdown",
      "source": [
        "Las variables textuales son objetos que poseen métodos que nos ayudan a formatear strings. Los métodos los podemos ejecutar al definir un objeto de acuerdo con la siguiente estructura:\n",
        "\n",
        "```\n",
        "objeto.metodo()\n",
        "```\n",
        "\n",
        "Existen métodos que no necesitan los `()`, siempre es una buena práctica verificar la documentación para cada caso."
      ],
      "metadata": {
        "id": "2e9UD_CCxqz_"
      }
    },
    {
      "cell_type": "markdown",
      "source": [
        "---\n",
        "**Situación:**\n",
        "\n",
        "Recibimos una variable con el nombre de una profesora de la escuela para añadirla a los registros. Sin embargo, necesitamos darle un tratamiento a este texto antes de insertarlo al sistema."
      ],
      "metadata": {
        "id": "p6aPmMGP4tf9"
      }
    },
    {
      "cell_type": "code",
      "source": [
        "texto = '  Micaela de los Sanyos '"
      ],
      "metadata": {
        "id": "icDWtYTjBO0n"
      },
      "execution_count": null,
      "outputs": []
    },
    {
      "cell_type": "code",
      "source": [
        "id(texto)"
      ],
      "metadata": {
        "id": "O-o5W6V9FRWI",
        "outputId": "f983c431-15a4-421b-8b26-d2e2b542e278",
        "colab": {
          "base_uri": "https://localhost:8080/"
        }
      },
      "execution_count": null,
      "outputs": [
        {
          "output_type": "execute_result",
          "data": {
            "text/plain": [
              "138241546192816"
            ]
          },
          "metadata": {},
          "execution_count": 61
        }
      ]
    },
    {
      "cell_type": "markdown",
      "source": [
        "El objetivo final es que el nombre aparezca de la siguiente forma:\n",
        "\n",
        "```\n",
        "'MICAELA DE LOS SANTOS'\n",
        "```"
      ],
      "metadata": {
        "id": "Dg2ZXSZOGzjC"
      }
    },
    {
      "cell_type": "markdown",
      "source": [
        "### [`str.upper()` ](https://docs.python.org/3/library/stdtypes.html#str.upper)\n",
        "Convierte una string a mayúsculas."
      ],
      "metadata": {
        "id": "iVTAD8q702eN"
      }
    },
    {
      "cell_type": "code",
      "source": [
        "texto.upper()"
      ],
      "metadata": {
        "id": "wMVshJrY_ZXh",
        "outputId": "f34690d8-c529-4554-9172-932836d0b84d",
        "colab": {
          "base_uri": "https://localhost:8080/",
          "height": 35
        }
      },
      "execution_count": null,
      "outputs": [
        {
          "output_type": "execute_result",
          "data": {
            "text/plain": [
              "'  MICAELA DE LOS SANYOS '"
            ],
            "application/vnd.google.colaboratory.intrinsic+json": {
              "type": "string"
            }
          },
          "metadata": {},
          "execution_count": 51
        }
      ]
    },
    {
      "cell_type": "markdown",
      "source": [
        "### [`str.lower()`](https://docs.python.org/3/library/stdtypes.html#str.lower)\n",
        "Convierte una string a minúsculas."
      ],
      "metadata": {
        "id": "hbDSBtMV1TpG"
      }
    },
    {
      "cell_type": "code",
      "source": [
        "texto.lower()"
      ],
      "metadata": {
        "id": "px3yEeNH_YK4",
        "outputId": "e32291af-7c5f-4b9c-f336-f24af733c1e7",
        "colab": {
          "base_uri": "https://localhost:8080/",
          "height": 35
        }
      },
      "execution_count": null,
      "outputs": [
        {
          "output_type": "execute_result",
          "data": {
            "text/plain": [
              "'  micaela de los sanyos '"
            ],
            "application/vnd.google.colaboratory.intrinsic+json": {
              "type": "string"
            }
          },
          "metadata": {},
          "execution_count": 52
        }
      ]
    },
    {
      "cell_type": "markdown",
      "source": [
        "### [`str.strip()`](https://docs.python.org/3/library/stdtypes.html#str.strip)\n",
        "Elimina los espacios en blanco al inicio y al final de una string."
      ],
      "metadata": {
        "id": "kz47eWM11gii"
      }
    },
    {
      "cell_type": "code",
      "source": [
        "texto.strip()"
      ],
      "metadata": {
        "id": "76dLgNa4_XAe",
        "outputId": "658f3f13-4d03-47da-ce8f-bc8bffb8d2ba",
        "colab": {
          "base_uri": "https://localhost:8080/",
          "height": 35
        }
      },
      "execution_count": null,
      "outputs": [
        {
          "output_type": "execute_result",
          "data": {
            "text/plain": [
              "'Micaela de los Sanyos'"
            ],
            "application/vnd.google.colaboratory.intrinsic+json": {
              "type": "string"
            }
          },
          "metadata": {},
          "execution_count": 53
        }
      ]
    },
    {
      "cell_type": "markdown",
      "source": [
        "### [`str.replace(antiguo, nuevo)`](https://docs.python.org/3/library/stdtypes.html#str.replace)\n",
        "\n",
        "Sustituye todas las ocurrencias del texto \"antiguo\" en la string por el  \"nuevo\"."
      ],
      "metadata": {
        "id": "m6notiyS1SCV"
      }
    },
    {
      "cell_type": "code",
      "source": [
        "texto.replace( 'Sanyos', 'Santos')"
      ],
      "metadata": {
        "id": "PNXAixtE_V6R",
        "outputId": "030e2fcd-0379-4472-f069-6beb724c4c90",
        "colab": {
          "base_uri": "https://localhost:8080/",
          "height": 35
        }
      },
      "execution_count": null,
      "outputs": [
        {
          "output_type": "execute_result",
          "data": {
            "text/plain": [
              "'  Micaela de los Santos '"
            ],
            "application/vnd.google.colaboratory.intrinsic+json": {
              "type": "string"
            }
          },
          "metadata": {},
          "execution_count": 59
        }
      ]
    },
    {
      "cell_type": "code",
      "source": [
        "texto.replace('y', 't')"
      ],
      "metadata": {
        "id": "ADboKNNsFlgW",
        "outputId": "d14dbfa9-54fc-4e0f-f6e5-92440f795c7e",
        "colab": {
          "base_uri": "https://localhost:8080/",
          "height": 35
        }
      },
      "execution_count": null,
      "outputs": [
        {
          "output_type": "execute_result",
          "data": {
            "text/plain": [
              "'  Micaela de los Santos '"
            ],
            "application/vnd.google.colaboratory.intrinsic+json": {
              "type": "string"
            }
          },
          "metadata": {},
          "execution_count": 62
        }
      ]
    },
    {
      "cell_type": "markdown",
      "source": [
        "### Observaciones\n",
        "\n",
        "1. Los métodos devuelven una **tranformación**, no son ejecutados directamente sobre la variable donde está almacenado el texto.\n",
        "\n",
        "2. Adicionalmente, podemos acumular la ejecución de los métodos."
      ],
      "metadata": {
        "id": "zukvEjhG2Rcn"
      }
    },
    {
      "cell_type": "code",
      "source": [
        "texto.replace('Sanyos', 'Santos').strip().upper()"
      ],
      "metadata": {
        "id": "JjkBRklr_T5n",
        "outputId": "d09e116a-6db1-4d85-efa2-8a8d7f1cd63a",
        "colab": {
          "base_uri": "https://localhost:8080/",
          "height": 35
        }
      },
      "execution_count": null,
      "outputs": [
        {
          "output_type": "execute_result",
          "data": {
            "text/plain": [
              "'MICAELA DE LOS SANTOS'"
            ],
            "application/vnd.google.colaboratory.intrinsic+json": {
              "type": "string"
            }
          },
          "metadata": {},
          "execution_count": 60
        }
      ]
    },
    {
      "cell_type": "code",
      "source": [
        "texto.replace('y', 't').strip().upper()"
      ],
      "metadata": {
        "id": "D4baYbWaFtwY",
        "outputId": "bc1f7bd2-ee06-449c-9f08-512d3acb5b74",
        "colab": {
          "base_uri": "https://localhost:8080/",
          "height": 35
        }
      },
      "execution_count": null,
      "outputs": [
        {
          "output_type": "execute_result",
          "data": {
            "text/plain": [
              "'MICAELA DE LOS SANTOS'"
            ],
            "application/vnd.google.colaboratory.intrinsic+json": {
              "type": "string"
            }
          },
          "metadata": {},
          "execution_count": 63
        }
      ]
    },
    {
      "cell_type": "markdown",
      "source": [
        "Para que la transformación se pueda ejecutar debemos atribuir la salida de las transformaciones a las variables"
      ],
      "metadata": {
        "id": "1KbwfVut2h6I"
      }
    },
    {
      "cell_type": "code",
      "source": [
        "texto\n"
      ],
      "metadata": {
        "id": "ocPP-Jaj_SJI",
        "outputId": "7b54ec28-7eb0-4a17-f8a0-9e83c256c1fb",
        "colab": {
          "base_uri": "https://localhost:8080/",
          "height": 35
        }
      },
      "execution_count": null,
      "outputs": [
        {
          "output_type": "execute_result",
          "data": {
            "text/plain": [
              "'  Micaela de los Sanyos '"
            ],
            "application/vnd.google.colaboratory.intrinsic+json": {
              "type": "string"
            }
          },
          "metadata": {},
          "execution_count": 66
        }
      ]
    },
    {
      "cell_type": "code",
      "source": [
        "id(texto)"
      ],
      "metadata": {
        "id": "m1RvLGZZ_SP3",
        "outputId": "24ca8607-0917-4d76-b166-7d35b84ecfd0",
        "colab": {
          "base_uri": "https://localhost:8080/"
        }
      },
      "execution_count": null,
      "outputs": [
        {
          "output_type": "execute_result",
          "data": {
            "text/plain": [
              "138241546192816"
            ]
          },
          "metadata": {},
          "execution_count": 67
        }
      ]
    },
    {
      "cell_type": "code",
      "source": [
        "nuevo_texto = texto.strip().replace('y', 't').upper()\n",
        "print(nuevo_texto)\n",
        "print(id(texto), id(nuevo_texto))"
      ],
      "metadata": {
        "id": "EgVJQB0kGp2c",
        "outputId": "7c617d78-a68a-4995-bcac-7bff9ac4e5c1",
        "colab": {
          "base_uri": "https://localhost:8080/"
        }
      },
      "execution_count": null,
      "outputs": [
        {
          "output_type": "stream",
          "name": "stdout",
          "text": [
            "MICAELA DE LOS SANTOS\n",
            "138241546192816 138241545593488\n"
          ]
        }
      ]
    },
    {
      "cell_type": "code",
      "source": [
        "texto = texto.strip().replace('y', 't').upper()\n",
        "print(nuevo_texto)\n",
        "print(id(texto), id(nuevo_texto))"
      ],
      "metadata": {
        "id": "olU7P9zkHmkM",
        "outputId": "10f6bbaa-7e3f-47d5-84a1-bed3cf8c7607",
        "colab": {
          "base_uri": "https://localhost:8080/"
        }
      },
      "execution_count": null,
      "outputs": [
        {
          "output_type": "stream",
          "name": "stdout",
          "text": [
            "MICAELA DE LOS SANTOS\n",
            "138241545506688 138241545593488\n"
          ]
        }
      ]
    },
    {
      "cell_type": "markdown",
      "source": [
        "## Capturando datos\n",
        "\n",
        "En algunas aplicaciones necesitamos capturar los valores del usuario de nuestro proyecto. En python, logramos capturar los datos del usuario a través del comando [`input()`](https://docs.python.org/3/library/functions.html#input).\n",
        "\n",
        "Para ejecutar la captura debemos atribuir el resultado de esta función a una variable."
      ],
      "metadata": {
        "id": "0h9Fh5G9kHCa"
      }
    },
    {
      "cell_type": "code",
      "source": [
        "nombre = input('Ingrese su nombre: ')"
      ],
      "metadata": {
        "id": "zbH_9i3q_PdY",
        "outputId": "16f61937-7042-4640-a004-e18fcab4c308",
        "colab": {
          "base_uri": "https://localhost:8080/"
        }
      },
      "execution_count": null,
      "outputs": [
        {
          "name": "stdout",
          "output_type": "stream",
          "text": [
            "Ingrese su nombre: Diego\n"
          ]
        }
      ]
    },
    {
      "cell_type": "code",
      "source": [
        "type(nombre)"
      ],
      "metadata": {
        "id": "GxlcAJrnR6dJ",
        "outputId": "c12ed7fc-744c-4324-9a25-c2f5efe749e0",
        "colab": {
          "base_uri": "https://localhost:8080/"
        }
      },
      "execution_count": null,
      "outputs": [
        {
          "output_type": "execute_result",
          "data": {
            "text/plain": [
              "str"
            ]
          },
          "metadata": {},
          "execution_count": 76
        }
      ]
    },
    {
      "cell_type": "code",
      "source": [],
      "metadata": {
        "id": "JZy1Q9Tl_PgL"
      },
      "execution_count": null,
      "outputs": []
    },
    {
      "cell_type": "markdown",
      "source": [
        "La salida de este comando siempre será una *string*. Esto quiere decir que aunque capturemos un valor de variable numérica, este será de tipo string.\n",
        "\n",
        "Entonces, será necesario **convertir el resultado cuando no se desea utilizar el valor como tipo string**."
      ],
      "metadata": {
        "id": "7z7hcLCk_aCY"
      }
    },
    {
      "cell_type": "markdown",
      "source": [
        "Existen funciones para la conversión de valores:\n",
        "\n",
        "- Enteros: [`int(dato_para_conversion)`](https://docs.python.org/3/library/functions.html#int)\n",
        "- Coma flotante: [`float(dato_para_conversion)`](https://docs.python.org/3/library/functions.html#float)\n",
        "- String: [`str(dato_para_conversion)`](https://docs.python.org/3/library/functions.html#func-str)\n",
        "- Booleano: [`bool(dato_para_conversion)`](https://docs.python.org/3/library/functions.html#bool)"
      ],
      "metadata": {
        "id": "TOlegATj1Jfp"
      }
    },
    {
      "cell_type": "code",
      "source": [
        "año_admisión = input('Ingrese el año de admisión: ')"
      ],
      "metadata": {
        "id": "M2ueeH6l_NMe",
        "outputId": "1998dc2d-4152-4198-bfb8-3317892a5c20",
        "colab": {
          "base_uri": "https://localhost:8080/"
        }
      },
      "execution_count": null,
      "outputs": [
        {
          "name": "stdout",
          "output_type": "stream",
          "text": [
            "Ingrese el año de admisión: 2024\n"
          ]
        }
      ]
    },
    {
      "cell_type": "code",
      "source": [
        "type(año_admisión)"
      ],
      "metadata": {
        "id": "xfWwuViK_NUn",
        "outputId": "8c72b604-e525-4785-976f-0f3c63f88b7c",
        "colab": {
          "base_uri": "https://localhost:8080/"
        }
      },
      "execution_count": null,
      "outputs": [
        {
          "output_type": "execute_result",
          "data": {
            "text/plain": [
              "str"
            ]
          },
          "metadata": {},
          "execution_count": 78
        }
      ]
    },
    {
      "cell_type": "code",
      "source": [
        "año_salida = input('Ingrese el año de egreso: ')"
      ],
      "metadata": {
        "id": "uFCHDyew_NZm",
        "outputId": "62c7bdf5-2eaf-403b-a1ff-aa35f959383e",
        "colab": {
          "base_uri": "https://localhost:8080/"
        }
      },
      "execution_count": null,
      "outputs": [
        {
          "name": "stdout",
          "output_type": "stream",
          "text": [
            "Ingrese el año de egreso: 2025\n"
          ]
        }
      ]
    },
    {
      "cell_type": "code",
      "source": [
        "type(año_salida)"
      ],
      "metadata": {
        "id": "iBtrrsNXW7mh",
        "outputId": "eff49f6a-d0e6-434a-c9ee-8742824c8525",
        "colab": {
          "base_uri": "https://localhost:8080/"
        }
      },
      "execution_count": null,
      "outputs": [
        {
          "output_type": "execute_result",
          "data": {
            "text/plain": [
              "str"
            ]
          },
          "metadata": {},
          "execution_count": 80
        }
      ]
    },
    {
      "cell_type": "code",
      "source": [
        "año_admisión + año_salida"
      ],
      "metadata": {
        "id": "YFhtWzIoUajP",
        "outputId": "05347ffa-0051-4715-9873-b87e3b5f52a7",
        "colab": {
          "base_uri": "https://localhost:8080/",
          "height": 35
        }
      },
      "execution_count": null,
      "outputs": [
        {
          "output_type": "execute_result",
          "data": {
            "text/plain": [
              "'20242025'"
            ],
            "application/vnd.google.colaboratory.intrinsic+json": {
              "type": "string"
            }
          },
          "metadata": {},
          "execution_count": 81
        }
      ]
    },
    {
      "cell_type": "markdown",
      "source": [
        "# Manera correcta"
      ],
      "metadata": {
        "id": "DgCgBsDKUh0B"
      }
    },
    {
      "cell_type": "code",
      "source": [
        "añoo_admisión = int(input('Ingrese el año de admisión: '))"
      ],
      "metadata": {
        "id": "vhiqcjfCUapa",
        "outputId": "ca3930a3-c8d1-48d4-b9fd-387ce1abba81",
        "colab": {
          "base_uri": "https://localhost:8080/"
        }
      },
      "execution_count": null,
      "outputs": [
        {
          "name": "stdout",
          "output_type": "stream",
          "text": [
            "Ingrese el año de admisión: 2024\n"
          ]
        }
      ]
    },
    {
      "cell_type": "code",
      "source": [
        "type(añoo_admisión)"
      ],
      "metadata": {
        "id": "GHY-Nl_KUats",
        "outputId": "c7f5d648-c817-4aae-f16b-e85fb55c8909",
        "colab": {
          "base_uri": "https://localhost:8080/"
        }
      },
      "execution_count": null,
      "outputs": [
        {
          "output_type": "execute_result",
          "data": {
            "text/plain": [
              "int"
            ]
          },
          "metadata": {},
          "execution_count": 83
        }
      ]
    },
    {
      "cell_type": "code",
      "source": [
        "nota_admisión = float(input('Ingrese la nota de admisión: '))"
      ],
      "metadata": {
        "id": "E8Lv2MSmU0yh",
        "outputId": "6d3bb0a7-9041-40c5-a2f8-faff84e1a6fb",
        "colab": {
          "base_uri": "https://localhost:8080/"
        }
      },
      "execution_count": null,
      "outputs": [
        {
          "name": "stdout",
          "output_type": "stream",
          "text": [
            "Ingrese la nota de admisión: 9.7\n"
          ]
        }
      ]
    },
    {
      "cell_type": "code",
      "source": [
        "type(nota_admisión)"
      ],
      "metadata": {
        "id": "qvFNYHb1U06f",
        "outputId": "afa60751-25f8-4036-e8f4-202a51f7b34c",
        "colab": {
          "base_uri": "https://localhost:8080/"
        }
      },
      "execution_count": null,
      "outputs": [
        {
          "output_type": "execute_result",
          "data": {
            "text/plain": [
              "float"
            ]
          },
          "metadata": {},
          "execution_count": 85
        }
      ]
    },
    {
      "cell_type": "code",
      "source": [
        "año_egresado = int(input('Ingrese el año de egreso: '))"
      ],
      "metadata": {
        "id": "turmGPJHU1CY",
        "outputId": "bda7cd1c-4f85-4117-ebb1-91def5f15d64",
        "colab": {
          "base_uri": "https://localhost:8080/"
        }
      },
      "execution_count": null,
      "outputs": [
        {
          "name": "stdout",
          "output_type": "stream",
          "text": [
            "Ingrese el año de egreso: 2025\n"
          ]
        }
      ]
    },
    {
      "cell_type": "code",
      "source": [
        "añoo_admisión + año_egresado"
      ],
      "metadata": {
        "id": "PUIqr1NkU1JT",
        "outputId": "f866d17f-e2d6-4805-e3a8-19c3ccfa73c2",
        "colab": {
          "base_uri": "https://localhost:8080/"
        }
      },
      "execution_count": null,
      "outputs": [
        {
          "output_type": "execute_result",
          "data": {
            "text/plain": [
              "4049"
            ]
          },
          "metadata": {},
          "execution_count": 87
        }
      ]
    },
    {
      "cell_type": "markdown",
      "source": [
        "Trataremos de representar mejor ahora el resultado de la transformación que obtuvimos. Nosotros podemos formatear y presentar nuestro resultado mezclando strings con valores no textuales.\n",
        "\n",
        "Para ello utilizamos la estructura de formatación `f` con strings."
      ],
      "metadata": {
        "id": "yNI2-XTbB3aS"
      }
    },
    {
      "cell_type": "code",
      "source": [
        "print(f'El año de admisión fue {año_admisión} y el año de egreso fue {año_salida}')"
      ],
      "metadata": {
        "id": "keJjA5N9_K5i",
        "outputId": "5ea17ac8-de2c-4ec9-bae0-a9b5d0aa9ffc",
        "colab": {
          "base_uri": "https://localhost:8080/"
        }
      },
      "execution_count": null,
      "outputs": [
        {
          "output_type": "stream",
          "name": "stdout",
          "text": [
            "El año de admisión fue 2024 y el año de egreso fue 2025\n"
          ]
        }
      ]
    },
    {
      "cell_type": "code",
      "source": [
        "print('El año de admisión fue {0} y el año de egreso fue {1}'.format(año_admisión, año_salida))"
      ],
      "metadata": {
        "id": "J4k8lX39cVnG",
        "outputId": "2c33990e-1824-4a6f-a99e-8a7a64acb623",
        "colab": {
          "base_uri": "https://localhost:8080/"
        }
      },
      "execution_count": null,
      "outputs": [
        {
          "output_type": "stream",
          "name": "stdout",
          "text": [
            "El año de admisión fue 2024 y el año de egreso fue 2025\n"
          ]
        }
      ]
    },
    {
      "cell_type": "code",
      "source": [
        "print(f'El año de admisión fue {añoo_admisión} y la nota de admisión fue {nota_admisión}')"
      ],
      "metadata": {
        "id": "yfQLAuiLwe10",
        "outputId": "74c5b09b-4469-4906-f628-d6754f6d895f",
        "colab": {
          "base_uri": "https://localhost:8080/"
        }
      },
      "execution_count": null,
      "outputs": [
        {
          "output_type": "stream",
          "name": "stdout",
          "text": [
            "El año de admisión fue 2024 y la nota de admisión fue 9.7\n"
          ]
        }
      ]
    },
    {
      "cell_type": "code",
      "source": [
        "print(f'\\nEl año de admisión fue {añoo_admisión} \\ny la nota de admisión fue {nota_admisión}')"
      ],
      "metadata": {
        "id": "kfPIBSzQ7KjY",
        "outputId": "2c6738d1-5b38-4cbf-eeed-44c5a02bd959",
        "colab": {
          "base_uri": "https://localhost:8080/"
        }
      },
      "execution_count": null,
      "outputs": [
        {
          "output_type": "stream",
          "name": "stdout",
          "text": [
            "\n",
            "El año de admisión fue 2024 \n",
            "y la nota de admisión fue 9.7\n"
          ]
        }
      ]
    },
    {
      "cell_type": "code",
      "source": [
        "print(f'\\tEl año de admisión fue {añoo_admisión} \\n\\tla nota de admisión fue {nota_admisión}')"
      ],
      "metadata": {
        "id": "FHdjKC4s7nSH",
        "outputId": "2cb8c0c3-dd5b-4b17-92d2-37409eff1298",
        "colab": {
          "base_uri": "https://localhost:8080/"
        }
      },
      "execution_count": null,
      "outputs": [
        {
          "output_type": "stream",
          "name": "stdout",
          "text": [
            "\tEl año de admisión fue 2024 \n",
            "\tla nota de admisión fue 9.7\n"
          ]
        }
      ]
    },
    {
      "cell_type": "markdown",
      "source": [
        "# Practica 2"
      ],
      "metadata": {
        "id": "UiXNV2mRiFo2"
      }
    },
    {
      "cell_type": "markdown",
      "source": [
        "Vamos a practicar el uso de varios tipos de variables y la función input a través de algunas actividades. Resuelve los problemas propuestos en código."
      ],
      "metadata": {
        "id": "HjnPqhUXjXZF"
      }
    },
    {
      "cell_type": "markdown",
      "source": [
        "### Recopilación y muestra de datos"
      ],
      "metadata": {
        "id": "Z4KxHq0ejkvq"
      }
    },
    {
      "cell_type": "markdown",
      "source": [
        "1 - Crea un programa que solicite al usuario que escriba su nombre y luego imprima \"Hola, [nombre].\""
      ],
      "metadata": {
        "id": "QEX0NnojjyZn"
      }
    },
    {
      "cell_type": "code",
      "source": [
        "nombre = input('Ingrese su nombre: ')\n",
        "print(f'Hola, {nombre}')"
      ],
      "metadata": {
        "id": "14OwB_M59lsI",
        "outputId": "df20cd85-ff88-4447-c36d-f12740bcc907",
        "colab": {
          "base_uri": "https://localhost:8080/"
        }
      },
      "execution_count": null,
      "outputs": [
        {
          "output_type": "stream",
          "name": "stdout",
          "text": [
            "Ingrese su nombre: Diego\n",
            "Hola, Diego\n"
          ]
        }
      ]
    },
    {
      "cell_type": "markdown",
      "source": [
        "2 - Crea un programa que solicite al usuario que escriba su nombre y edad, y luego imprima \"Hola, [nombre], tienes [edad] años.\""
      ],
      "metadata": {
        "id": "EY9j6geOkf9P"
      }
    },
    {
      "cell_type": "code",
      "source": [
        "nombree = input('Ingrese su nombre: ')\n",
        "edad = int(input('Ingrese su edad: '))\n",
        "print(f'hola, {nombre}, tienes {edad} años')"
      ],
      "metadata": {
        "id": "n7dr3S_b-aXy",
        "outputId": "860fa6d7-42a9-4662-db5e-898a97706130",
        "colab": {
          "base_uri": "https://localhost:8080/"
        }
      },
      "execution_count": null,
      "outputs": [
        {
          "output_type": "stream",
          "name": "stdout",
          "text": [
            "Ingrese su nombre: Diego\n",
            "Ingrese su edad: 21\n",
            "hola, Diego, tienes 21 años\n"
          ]
        }
      ]
    },
    {
      "cell_type": "markdown",
      "source": [
        "3 - Crea un programa que solicite al usuario que escriba su nombre, edad y altura en metros, y luego imprima \"Hola, [nombre], tienes [edad] años y mides [altura] metros.\"\n",
        "\n"
      ],
      "metadata": {
        "id": "HmA_vsHSlQdt"
      }
    },
    {
      "cell_type": "code",
      "source": [
        "Nombre = input('Ingrese su nombre: ')\n",
        "Edad = int(input('Ingrese su edad: '))\n",
        "Altura = float(input('Ingrese su altura: '))\n",
        "print(f'Hola, {Nombre}, tienes {Edad} años y mides {Altura} metros.')"
      ],
      "metadata": {
        "id": "Zj8fIvXA-arg",
        "outputId": "88d48d08-feaa-4d70-864f-6bce3ec377fb",
        "colab": {
          "base_uri": "https://localhost:8080/"
        }
      },
      "execution_count": null,
      "outputs": [
        {
          "output_type": "stream",
          "name": "stdout",
          "text": [
            "Ingrese su nombre: Diego\n",
            "Ingrese su edad: 21\n",
            "Ingrese su altura: 1.75\n",
            "Hola, Diego, tienes 21 años y mides 1.75 metros.\n"
          ]
        }
      ]
    },
    {
      "cell_type": "markdown",
      "source": [
        "### Calculadora con operadores"
      ],
      "metadata": {
        "id": "GniNppXjmXi9"
      }
    },
    {
      "cell_type": "markdown",
      "source": [
        "4 - Crea un programa que solicite dos valores numéricos al usuario y luego imprima la suma de ambos valores."
      ],
      "metadata": {
        "id": "2A4IgWOtnOtL"
      }
    },
    {
      "cell_type": "code",
      "source": [
        "num_1 = int(input('Ingrese el primer número: '))\n",
        "num_2 = int(input('Ingrese el segundo número: '))\n",
        "print('La suma es:', num_1 + num_2)"
      ],
      "metadata": {
        "id": "rmVTQ5TX_B7J",
        "outputId": "d4e86fa4-a144-419f-8f3a-3ad39aa43ee8",
        "colab": {
          "base_uri": "https://localhost:8080/"
        }
      },
      "execution_count": null,
      "outputs": [
        {
          "output_type": "stream",
          "name": "stdout",
          "text": [
            "Ingrese el primer número: 14\n",
            "Ingrese el segundo número: 4\n",
            "La suma es: 18\n"
          ]
        }
      ]
    },
    {
      "cell_type": "markdown",
      "source": [
        "5 - Crea un programa que solicite tres valores numéricos al usuario y luego imprima la suma de los tres valores."
      ],
      "metadata": {
        "id": "_JrmMgkIpDtx"
      }
    },
    {
      "cell_type": "code",
      "source": [
        "num_3 = int(input('Ingrese el primer número: '))\n",
        "num_4 = int(input('Ingrese el segundo número: '))\n",
        "num_5 = int(input('Ingrese el segundo número: '))\n",
        "print('La suma es:', num_3 + num_4 + num_5)"
      ],
      "metadata": {
        "id": "_u6cZzcN_cXt",
        "outputId": "3e7c6c0b-9f84-4a76-def4-d7dfe601386f",
        "colab": {
          "base_uri": "https://localhost:8080/"
        }
      },
      "execution_count": null,
      "outputs": [
        {
          "output_type": "stream",
          "name": "stdout",
          "text": [
            "Ingrese el primer número: 5\n",
            "Ingrese el segundo número: 5\n",
            "Ingrese el segundo número: 5\n",
            "La suma es: 15\n"
          ]
        }
      ]
    },
    {
      "cell_type": "markdown",
      "source": [
        "6 - Crea un programa que solicite dos valores numéricos al usuario y luego imprima la resta del primero menos el segundo valor."
      ],
      "metadata": {
        "id": "NZe7gZ6CpJHE"
      }
    },
    {
      "cell_type": "code",
      "source": [
        "num_15 = int(input('Ingrese el primer número: '))\n",
        "num_16 = int(input('Ingrese el segundo número: '))\n",
        "print('La resta es:', num_15 - num_16)"
      ],
      "metadata": {
        "id": "bOAls8P3oipX",
        "outputId": "da3003c8-eceb-4534-932f-9a1d94574686",
        "colab": {
          "base_uri": "https://localhost:8080/"
        }
      },
      "execution_count": null,
      "outputs": [
        {
          "output_type": "stream",
          "name": "stdout",
          "text": [
            "Ingrese el primer número: 16\n",
            "Ingrese el segundo número: 8\n",
            "La resta es: 8\n"
          ]
        }
      ]
    },
    {
      "cell_type": "markdown",
      "source": [
        "7 - Crea un programa que solicite dos valores numéricos al usuario y luego imprima la multiplicación de los dos valores."
      ],
      "metadata": {
        "id": "leR2FgrBpObX"
      }
    },
    {
      "cell_type": "code",
      "source": [
        "num_9 = int(input('Ingrese el primer número: '))\n",
        "num_8 = int(input('Ingrese el segundo número: '))\n",
        "print('La multiplicacion es:', num_9 * num_8)"
      ],
      "metadata": {
        "id": "vUzugcCUrXvx",
        "outputId": "33818737-9ad8-4772-d2df-a4df6f0e7d1a",
        "colab": {
          "base_uri": "https://localhost:8080/"
        }
      },
      "execution_count": null,
      "outputs": [
        {
          "output_type": "stream",
          "name": "stdout",
          "text": [
            "Ingrese el primer número: 5\n",
            "Ingrese el segundo número: 5\n",
            "La multiplicacion es: 25\n"
          ]
        }
      ]
    },
    {
      "cell_type": "markdown",
      "source": [
        "8 - Crea un programa que solicite dos valores numéricos, un numerador y un denominador, y realice la división entre los dos valores. Asegúrate de que el valor del denominador no sea igual a 0."
      ],
      "metadata": {
        "id": "lKhfpHNopaKx"
      }
    },
    {
      "cell_type": "code",
      "source": [
        "numerador = int(input('Ingrese el numerador: '))\n",
        "denominador = int(input('Ingrese el denominador: ')) #el denominador distinto de 0\n",
        "print('La division es:', numerador / denominador)"
      ],
      "metadata": {
        "id": "No6pvL7KrX5o",
        "outputId": "3ddfd5e3-b2fc-4ede-cda5-bcd0e27ed2af",
        "colab": {
          "base_uri": "https://localhost:8080/"
        }
      },
      "execution_count": null,
      "outputs": [
        {
          "output_type": "stream",
          "name": "stdout",
          "text": [
            "Ingrese el numerador: 36\n",
            "Ingrese el denominador: 6\n",
            "La division es: 6.0\n"
          ]
        }
      ]
    },
    {
      "cell_type": "markdown",
      "source": [
        "9 - Crea un programa que solicite dos valores numéricos, un operador y una potencia, y realice la exponenciación entre estos dos valores."
      ],
      "metadata": {
        "id": "QA_z2hNfpvRT"
      }
    },
    {
      "cell_type": "code",
      "source": [
        "base = int(input('Ingrese la base: '))\n",
        "exponente = int(input('Ingrese el exponente: '))\n",
        "print('El resultado es:', base ** exponente)"
      ],
      "metadata": {
        "id": "WNkqd9gNrYEV",
        "outputId": "e1a6bc44-b25a-4a26-a32b-57694e037d86",
        "colab": {
          "base_uri": "https://localhost:8080/"
        }
      },
      "execution_count": null,
      "outputs": [
        {
          "output_type": "stream",
          "name": "stdout",
          "text": [
            "Ingrese la base: 5\n",
            "Ingrese el exponente: 3\n",
            "El resultado es: 125\n"
          ]
        }
      ]
    },
    {
      "cell_type": "markdown",
      "source": [
        "10 - Crea un programa que solicite dos valores numéricos, un numerador y un denominador, y realice la división entera entre los dos valores. Asegúrate de que el valor del denominador no sea igual a 0."
      ],
      "metadata": {
        "id": "1vwiMjwEp0lX"
      }
    },
    {
      "cell_type": "code",
      "source": [
        "numerador_2 = int(input('Ingrese el numerador: '))\n",
        "denominador_2 = int(input('Ingrese el denominador: ')) #el denominador distinto de 0\n",
        "print('La division entera es:', numerador_2 // denominador_2)"
      ],
      "metadata": {
        "id": "cPVktc5DxaKt",
        "outputId": "2a0a99ed-6188-48a5-99c1-bb092ae0a151",
        "colab": {
          "base_uri": "https://localhost:8080/"
        }
      },
      "execution_count": null,
      "outputs": [
        {
          "output_type": "stream",
          "name": "stdout",
          "text": [
            "Ingrese el numerador: 49\n",
            "Ingrese el denominador: 7\n",
            "La division entera es: 7\n"
          ]
        }
      ]
    },
    {
      "cell_type": "markdown",
      "source": [
        "11 - Crea un programa que solicite dos valores numéricos, un numerador y un denominador, y devuelva el resto de la división entre los dos valores. Asegúrate de que el valor del denominador no sea igual a 0."
      ],
      "metadata": {
        "id": "THOALBpMp4UZ"
      }
    },
    {
      "cell_type": "code",
      "source": [
        "numerador_3 = int(input('Ingrese el numerador: '))\n",
        "denominador_3 = int(input('Ingrese el denominador: ')) #el denominador distinto de 0\n",
        "print('El resto es:', numerador_3 % denominador_3)"
      ],
      "metadata": {
        "id": "9qjGdKdKxaVi",
        "outputId": "28c32c3d-9bee-40cf-d076-f2c110eeae8d",
        "colab": {
          "base_uri": "https://localhost:8080/"
        }
      },
      "execution_count": null,
      "outputs": [
        {
          "output_type": "stream",
          "name": "stdout",
          "text": [
            "Ingrese el numerador: 91\n",
            "Ingrese el denominador: 8\n",
            "El resto es: 3\n"
          ]
        }
      ]
    },
    {
      "cell_type": "markdown",
      "source": [
        "12 - Crea un código que solicite las 3 notas de un estudiante e imprima el promedio de las notas."
      ],
      "metadata": {
        "id": "JdPTVWKSqDaV"
      }
    },
    {
      "cell_type": "code",
      "source": [
        "notas_16 = float(input('Ingrese la nota 1: '))\n",
        "notas_25 = float(input('Ingrese la nota 2: ')) #manera vulgar\n",
        "notas_36 = float(input('Ingrese la nota 3: '))\n",
        "print('El promedio es:', (notas_16 + notas_25 + notas_36) / 3)"
      ],
      "metadata": {
        "id": "2O8oNv-gxado",
        "outputId": "13b6f44e-b784-45cf-f36b-968c635a1c01",
        "colab": {
          "base_uri": "https://localhost:8080/"
        }
      },
      "execution_count": null,
      "outputs": [
        {
          "output_type": "stream",
          "name": "stdout",
          "text": [
            "Ingrese la nota 1: 9.7\n",
            "Ingrese la nota 2: 8.5\n",
            "Ingrese la nota 3: 9.6\n",
            "El promedio es: 9.266666666666666\n"
          ]
        }
      ]
    },
    {
      "cell_type": "code",
      "source": [
        "notas_100 = float(input('Ingrese la nota 1: '))\n",
        "notas_101 = float(input('Ingrese la nota 2: ')) #manera elegante\n",
        "notas_102 = float(input('Ingrese la nota 3: '))\n",
        "print(f'El promedio es: {(notas_100 + notas_101 + notas_102) / 3}')"
      ],
      "metadata": {
        "id": "KMJap7Cq23xJ",
        "outputId": "4858c1d4-5db8-4e3d-ada5-189dc03ba1d8",
        "colab": {
          "base_uri": "https://localhost:8080/"
        }
      },
      "execution_count": null,
      "outputs": [
        {
          "output_type": "stream",
          "name": "stdout",
          "text": [
            "Ingrese la nota 1: 7.6\n",
            "Ingrese la nota 2: 3.5\n",
            "Ingrese la nota 3: 8.2\n",
            "El promedio es:, 6.433333333333333\n"
          ]
        }
      ]
    },
    {
      "cell_type": "markdown",
      "source": [
        "13 - Crea un código que calcule e imprima el promedio ponderado de los números 5, 12, 20 y 15 con pesos respectivamente iguales a 1, 2, 3 y 4."
      ],
      "metadata": {
        "id": "E0v0iYVwqMCI"
      }
    },
    {
      "cell_type": "code",
      "source": [
        "promedio_ponderado = (5 * 1 + 12 * 2 + 20 * 3 + 15 * 4) / (1 + 2 + 3 + 4)\n",
        "print('El promedio ponderado es:', promedio_ponderado) #manera vulgar"
      ],
      "metadata": {
        "id": "zS3bzWB-xajk",
        "outputId": "b358a07f-b95f-4f78-d788-d883a6b21607",
        "colab": {
          "base_uri": "https://localhost:8080/"
        }
      },
      "execution_count": null,
      "outputs": [
        {
          "output_type": "stream",
          "name": "stdout",
          "text": [
            "El promedio ponderado es: 14.9\n"
          ]
        }
      ]
    },
    {
      "cell_type": "code",
      "source": [
        "promedio_ponderado = (5 * 1 + 12 * 2 + 20 * 3 + 15 * 4) / (1 + 2 + 3 + 4)\n",
        "print(f'El promedio ponderado es: {promedio_ponderado}') #manera elegante"
      ],
      "metadata": {
        "id": "cZY-uk8Y45OD",
        "outputId": "a8fd6765-694a-4614-c70c-d652d7288b94",
        "colab": {
          "base_uri": "https://localhost:8080/"
        }
      },
      "execution_count": null,
      "outputs": [
        {
          "output_type": "stream",
          "name": "stdout",
          "text": [
            "El promedio ponderado es: 14.9\n"
          ]
        }
      ]
    },
    {
      "cell_type": "markdown",
      "source": [
        "### Editando textos"
      ],
      "metadata": {
        "id": "1wSRdQRKqYv_"
      }
    },
    {
      "cell_type": "markdown",
      "source": [
        "14 - Crea una variable llamada \"frase\" y asígnale una cadena de texto de tu elección. Luego, imprime la frase en pantalla."
      ],
      "metadata": {
        "id": "6htJMSPIqeqD"
      }
    },
    {
      "cell_type": "code",
      "source": [
        "frace_14 = input('ingrese una frace: ')\n",
        "print(frace_14) #eta bien, ero pedian lo de abajo"
      ],
      "metadata": {
        "id": "a7Ta6qbUrYNo",
        "outputId": "764d9aa0-f613-4dac-d1ab-3caa22d2d697",
        "colab": {
          "base_uri": "https://localhost:8080/"
        }
      },
      "execution_count": null,
      "outputs": [
        {
          "output_type": "stream",
          "name": "stdout",
          "text": [
            "ingrese una frace: SOY  MEJOR DEL MUNDO\n",
            "SOY  MEJOR DEL MUNDO\n"
          ]
        }
      ]
    },
    {
      "cell_type": "code",
      "source": [
        "frace_100 = '¡Hola Python'\n",
        "print(frace_100)"
      ],
      "metadata": {
        "id": "8jaH-Mpk6YUM",
        "outputId": "69cebe59-1918-4e02-ec18-0ce9f60f8828",
        "colab": {
          "base_uri": "https://localhost:8080/"
        }
      },
      "execution_count": null,
      "outputs": [
        {
          "output_type": "stream",
          "name": "stdout",
          "text": [
            "¡Hola Python\n"
          ]
        }
      ]
    },
    {
      "cell_type": "markdown",
      "source": [],
      "metadata": {
        "id": "5UrLtULkqqer"
      }
    },
    {
      "cell_type": "markdown",
      "source": [
        "15 - Crea un código que solicite una frase y luego imprima la frase en pantalla."
      ],
      "metadata": {
        "id": "cN5QcsoDqqlr"
      }
    },
    {
      "cell_type": "code",
      "source": [
        "frace_15 = input('ingrese una frace: ')\n",
        "print(frace_15)"
      ],
      "metadata": {
        "id": "TQqpwC061b5N",
        "outputId": "ecf44793-c2ac-4a07-c918-80b5cebb5996",
        "colab": {
          "base_uri": "https://localhost:8080/"
        }
      },
      "execution_count": null,
      "outputs": [
        {
          "output_type": "stream",
          "name": "stdout",
          "text": [
            "ingrese una frace: soy el mejor del mundo\n",
            "soy el mejor del mundo\n"
          ]
        }
      ]
    },
    {
      "cell_type": "markdown",
      "source": [
        "16 - Crea un código que solicite una frase al usuario y luego imprima la misma frase ingresada pero en mayúsculas."
      ],
      "metadata": {
        "id": "ymvbUTymq0ZE"
      }
    },
    {
      "cell_type": "code",
      "source": [
        "frace_10 = input('ingrese una frace: ')\n",
        "print(frace_10.upper())"
      ],
      "metadata": {
        "id": "52PNC3yn1cKt",
        "outputId": "f549ff4c-9a1c-42b1-8bba-77ef2b5e7e63",
        "colab": {
          "base_uri": "https://localhost:8080/"
        }
      },
      "execution_count": null,
      "outputs": [
        {
          "output_type": "stream",
          "name": "stdout",
          "text": [
            "ingrese una frace: soy el mejor del mundo\n",
            "SOY EL MEJOR DEL MUNDO\n"
          ]
        }
      ]
    },
    {
      "cell_type": "markdown",
      "source": [
        "17 - Crea un código que solicite una frase al usuario y luego imprima la misma frase ingresada pero en minúsculas."
      ],
      "metadata": {
        "id": "bBJn-s8Bq6LB"
      }
    },
    {
      "cell_type": "code",
      "source": [
        "frace_9 = input('ingrese una frace: ')\n",
        "print(frace_9.lower())"
      ],
      "metadata": {
        "id": "SvqO32B62Eew",
        "outputId": "360f365e-a41e-433e-fb4e-d9faa88235a4",
        "colab": {
          "base_uri": "https://localhost:8080/"
        }
      },
      "execution_count": null,
      "outputs": [
        {
          "output_type": "stream",
          "name": "stdout",
          "text": [
            "ingrese una frace: SOY EL MEJOR DELMUNDO\n",
            "soy el mejor delmundo\n"
          ]
        }
      ]
    },
    {
      "cell_type": "markdown",
      "source": [
        "18 - Crea una variable llamada \"frase\" y asígnale una cadena de texto de tu elección. Luego, imprime la frase sin espacios en blanco al principio y al final."
      ],
      "metadata": {
        "id": "Vsk2YPQwq_hl"
      }
    },
    {
      "cell_type": "code",
      "source": [
        "frace_8 = input('ingrese una frace: ')\n",
        "print(frace_8.strip()) # maso"
      ],
      "metadata": {
        "id": "NOMejxao2EwD",
        "outputId": "b6b8e9b9-d01d-4795-8083-d7ff280a92b8",
        "colab": {
          "base_uri": "https://localhost:8080/"
        }
      },
      "execution_count": null,
      "outputs": [
        {
          "output_type": "stream",
          "name": "stdout",
          "text": [
            "ingrese una frace:          'PAPÁ ES EL MEJR'      \n",
            "'PAPÁ ES EL MEJR'\n"
          ]
        }
      ]
    },
    {
      "cell_type": "code",
      "source": [
        "frase_hey = ' ¡Hola Python! '\n",
        "print(frase_hey.strip())"
      ],
      "metadata": {
        "id": "TlkTrfVK69q6",
        "outputId": "fa8e6c92-a98b-420d-a879-83a488947086",
        "colab": {
          "base_uri": "https://localhost:8080/"
        }
      },
      "execution_count": null,
      "outputs": [
        {
          "output_type": "stream",
          "name": "stdout",
          "text": [
            "¡Hola Python!\n"
          ]
        }
      ]
    },
    {
      "cell_type": "markdown",
      "source": [
        "19 - Crea un código que solicite una frase al usuario y luego imprima la misma frase sin espacios en blanco al principio y al final."
      ],
      "metadata": {
        "id": "MTMQ7USzrELF"
      }
    },
    {
      "cell_type": "code",
      "source": [
        "frace_4 = input('ingrese una frace: ')\n",
        "print(frace_4.strip())"
      ],
      "metadata": {
        "id": "6uogLpnt3kc0",
        "outputId": "5798a610-54e7-497a-cafb-b59f63193ab8",
        "colab": {
          "base_uri": "https://localhost:8080/"
        }
      },
      "execution_count": null,
      "outputs": [
        {
          "output_type": "stream",
          "name": "stdout",
          "text": [
            "ingrese una frace:        MAMÁ ES LA MEJOR      \n",
            "MAMÁ ES LA MEJOR\n"
          ]
        }
      ]
    },
    {
      "cell_type": "markdown",
      "source": [
        "20 - Crea un código que solicite una frase al usuario y luego imprima la misma frase sin espacios en blanco al principio y al final, además de convertirla a minúsculas."
      ],
      "metadata": {
        "id": "dBVeArvQrHtJ"
      }
    },
    {
      "cell_type": "code",
      "source": [
        "frace_1 = input('ingrese una frace: ')\n",
        "print(frace_1.lower().strip())"
      ],
      "metadata": {
        "id": "j1jj9Ujb4X-3",
        "outputId": "f5be15a3-e679-45d6-f392-b1f1ce15f5fe",
        "colab": {
          "base_uri": "https://localhost:8080/"
        }
      },
      "execution_count": null,
      "outputs": [
        {
          "output_type": "stream",
          "name": "stdout",
          "text": [
            "ingrese una frace:          'HOLA BEBE'\n",
            "'hola bebe'\n"
          ]
        }
      ]
    },
    {
      "cell_type": "markdown",
      "source": [
        "21 - Crea un código que solicite una frase al usuario y luego imprima la misma frase con todas las vocales \"e\" reemplazadas por la letra \"f\"."
      ],
      "metadata": {
        "id": "xYQxf2QJrNDE"
      }
    },
    {
      "cell_type": "code",
      "source": [
        "frase_usuario = input('Ingrese una frace: ')\n",
        "print(frase_usuario.replace('e', 'f'))"
      ],
      "metadata": {
        "id": "mmzHr5p45xDn",
        "outputId": "4e0f3eb5-0e43-4404-ab8e-5388a74134da",
        "colab": {
          "base_uri": "https://localhost:8080/"
        }
      },
      "execution_count": null,
      "outputs": [
        {
          "output_type": "stream",
          "name": "stdout",
          "text": [
            "Ingrese una frace: Elefante\n",
            "Elffantf\n"
          ]
        }
      ]
    },
    {
      "cell_type": "markdown",
      "source": [
        "22 - Crea un código que solicite una frase al usuario y luego imprima la misma frase con todas las vocales \"a\" reemplazadas por el carácter \"@\"."
      ],
      "metadata": {
        "id": "tZ5Q-PjGrxp9"
      }
    },
    {
      "cell_type": "code",
      "source": [
        "frace_24 = input('Ingrese una frace: ')\n",
        "print(frace_24.replace('a', '@'))"
      ],
      "metadata": {
        "id": "PjqWttRt6-v7",
        "outputId": "8ce73bae-dcfd-47b8-e491-4eab23ba8705",
        "colab": {
          "base_uri": "https://localhost:8080/"
        }
      },
      "execution_count": null,
      "outputs": [
        {
          "output_type": "stream",
          "name": "stdout",
          "text": [
            "Ingrese una frace: casa\n",
            "c@s@\n"
          ]
        }
      ]
    },
    {
      "cell_type": "code",
      "source": [
        "frase_25 = input('Escribe una frase: ')\n",
        "print(frase_25.lower().replace('a',chr(64)))"
      ],
      "metadata": {
        "id": "7r0v_kXK7bLW",
        "outputId": "5ea78baf-4744-4907-ed47-ab5129ab4394",
        "colab": {
          "base_uri": "https://localhost:8080/"
        }
      },
      "execution_count": null,
      "outputs": [
        {
          "output_type": "stream",
          "name": "stdout",
          "text": [
            "Escribe una frase: PAJARA\n",
            "p@j@r@\n"
          ]
        }
      ]
    },
    {
      "cell_type": "markdown",
      "source": [
        "23 - Crea un código que solicite una frase al usuario y luego imprima la misma frase con todas las consonantes \"s\" reemplazadas por el carácter \"$\"."
      ],
      "metadata": {
        "id": "s5nGU-Z8rzs6"
      }
    },
    {
      "cell_type": "code",
      "source": [
        "frace_23 = input('Ingrese una frace: ')\n",
        "print(frace_23.replace('s', '$'))"
      ],
      "metadata": {
        "id": "q22twFvUr8I9",
        "outputId": "3b4ea8a2-c567-45dd-d32f-9d1c1e081dc5",
        "colab": {
          "base_uri": "https://localhost:8080/"
        }
      },
      "execution_count": null,
      "outputs": [
        {
          "output_type": "stream",
          "name": "stdout",
          "text": [
            "Ingrese una frace: asistir\n",
            "a$i$tir\n"
          ]
        }
      ]
    },
    {
      "cell_type": "code",
      "source": [
        "frase_69 = input('Escribe una frase: ')\n",
        "print(frase_69.lower().replace('s',chr(36)))"
      ],
      "metadata": {
        "id": "FqBl_uXU7s5o",
        "outputId": "fa2f632d-c4e5-4e84-fcf7-cfc78eee6cf3",
        "colab": {
          "base_uri": "https://localhost:8080/"
        }
      },
      "execution_count": null,
      "outputs": [
        {
          "output_type": "stream",
          "name": "stdout",
          "text": [
            "Escribe una frase: SAPO\n",
            "$apo\n"
          ]
        }
      ]
    },
    {
      "cell_type": "markdown",
      "source": [
        "# Estructuras condicionales"
      ],
      "metadata": {
        "id": "NwRaiHHHhhyl"
      }
    },
    {
      "cell_type": "code",
      "source": [
        "# Nota de aprobacion entre 7 y 10 == nota de aprovacion => 7\n",
        "# Nota de reprobacion  es menor a 7 == nota de reprobacion < 7\n",
        "\n",
        "\n",
        "\"\"\"\n",
        "Si la nota del estudiante es mayor a 7 el estudiante aprueba\n",
        "Si no, el estudiante reprueba\n",
        "\"\"\"\n"
      ],
      "metadata": {
        "id": "pa4gLncu-mvU",
        "outputId": "424e090c-56e4-47e2-b38c-afd6eee5acef",
        "colab": {
          "base_uri": "https://localhost:8080/",
          "height": 35
        }
      },
      "execution_count": null,
      "outputs": [
        {
          "output_type": "execute_result",
          "data": {
            "text/plain": [
              "'\\nSi la nota del estudiante es mayor a 7 el estudiante aprueba\\nSi no, el estudiante reprueba\\n'"
            ],
            "application/vnd.google.colaboratory.intrinsic+json": {
              "type": "string"
            }
          },
          "metadata": {},
          "execution_count": 141
        }
      ]
    },
    {
      "cell_type": "code",
      "source": [],
      "metadata": {
        "id": "_cWRmDiE-m4p"
      },
      "execution_count": null,
      "outputs": []
    },
    {
      "cell_type": "markdown",
      "source": [
        "## `IF` y `ELSE`\n",
        "\n",
        "Los comandos `if` y `else` son dos estructuras condicionales. El comando `if` ejecutará el bloque de comandos en caso de que la condición citada sea  **verdadera**. El comando `else` ejecutará el bloque de comandos en el caso de que la condicional de `if` sea **falsa**."
      ],
      "metadata": {
        "id": "qXZqg9aYEhAh"
      }
    },
    {
      "cell_type": "markdown",
      "source": [
        "El comando `if` es una palabra clave en Python que significa \"si\". Este se emplea para conformar la estructura condicional, que te permite verificar si una determinada condición es verdadera o falsa e, inmediatamente después, ejecute un bloque de código específico dependiendo del resultado de la verificación. La sintaxis para usar el comando `if` es:\n",
        "\n",
        "\n",
        "\n",
        "```\n",
        "if condicion:\n",
        "    # Realiza algo\n",
        "```\n",
        "\n"
      ],
      "metadata": {
        "id": "EIhlqHXd2Gil"
      }
    },
    {
      "cell_type": "code",
      "source": [
        "if 2 > 1:\n",
        "  print('Verdadero')"
      ],
      "metadata": {
        "id": "S2S6XAFz-czM",
        "outputId": "f30e5ed3-c94e-4e43-d470-05de9fcff0bb",
        "colab": {
          "base_uri": "https://localhost:8080/"
        }
      },
      "execution_count": null,
      "outputs": [
        {
          "output_type": "stream",
          "name": "stdout",
          "text": [
            "Verdadero\n"
          ]
        }
      ]
    },
    {
      "cell_type": "code",
      "source": [
        "if 2 < 7:\n",
        "  print('La condicion es verdadera.')"
      ],
      "metadata": {
        "id": "YHkwMMyY-c1r",
        "outputId": "599be705-67fa-4901-f96e-2c713d327ab4",
        "colab": {
          "base_uri": "https://localhost:8080/"
        }
      },
      "execution_count": null,
      "outputs": [
        {
          "output_type": "stream",
          "name": "stdout",
          "text": [
            "La condicion es verdadera\n"
          ]
        }
      ]
    },
    {
      "cell_type": "code",
      "source": [
        "if 2 > 7:\n",
        "  print('La condicion es verdadera.')\n",
        "  print('Fin de la consulta')\n",
        "\n",
        "\"\"\"\n",
        "Imprime solo el \"Fin de la consulta\"\n",
        "Porque la condicion no se cumple.\n",
        "\"\"\""
      ],
      "metadata": {
        "id": "S2dG88fLXWBa",
        "outputId": "a7aa2f0c-1bd6-45c2-f82e-af8d14528d64",
        "colab": {
          "base_uri": "https://localhost:8080/",
          "height": 35
        }
      },
      "execution_count": null,
      "outputs": [
        {
          "output_type": "execute_result",
          "data": {
            "text/plain": [
              "'\\nImprime solo el \"Fin de la consulta\"\\nPorque la condicion no se cumple.\\n'"
            ],
            "application/vnd.google.colaboratory.intrinsic+json": {
              "type": "string"
            }
          },
          "metadata": {},
          "execution_count": 144
        }
      ]
    },
    {
      "cell_type": "code",
      "source": [
        "if 2 > 7:\n",
        "  print('La condicion es verdadera.')\n",
        "print('Fin de la consulta')"
      ],
      "metadata": {
        "id": "pO1JpgDvYJso",
        "outputId": "d89e8240-7197-4eb2-ceb1-acd8890f5f5e",
        "colab": {
          "base_uri": "https://localhost:8080/"
        }
      },
      "execution_count": null,
      "outputs": [
        {
          "output_type": "stream",
          "name": "stdout",
          "text": [
            "Fin de la consulta\n"
          ]
        }
      ]
    },
    {
      "cell_type": "markdown",
      "source": [
        "Ya el comando `else` en Python se usa en junción con la palabra clave `if` para formar una estructura condicional. la sintaxis para usar el `else` es:\n",
        "\n",
        "```\n",
        "if condicion:\n",
        "  # codigo en caso de que sea verdad\n",
        "else:\n",
        "  # codigo en caso de que sea falso\n",
        "```\n",
        "\n",
        "el comando `else` se ejecuta cuando la condición verificada por el `if` es evaluada como `False`."
      ],
      "metadata": {
        "id": "27RW2v_sIKct"
      }
    },
    {
      "cell_type": "code",
      "source": [
        "if 2 > 7:\n",
        "  print('La condicion es verdadera.')\n",
        "else:\n",
        "  print('La condicion es falsa.')\n",
        "print('Fin de la consulta')"
      ],
      "metadata": {
        "id": "ZTfNJd_f-aOq",
        "outputId": "fdaec6bf-dfbd-434f-879e-1fa34b925a8c",
        "colab": {
          "base_uri": "https://localhost:8080/"
        }
      },
      "execution_count": null,
      "outputs": [
        {
          "output_type": "stream",
          "name": "stdout",
          "text": [
            "La condicion es falsa.\n",
            "Fin de la consulta\n"
          ]
        }
      ]
    },
    {
      "cell_type": "code",
      "source": [
        "edad_Maria = int(input('Ingrese la edad de Maria: '))\n",
        "\n",
        "if edad_Maria >= 18:\n",
        "  print('Maria es mayor de edad.')\n",
        "else:\n",
        "  print('Maria es menor de edad.')"
      ],
      "metadata": {
        "id": "LPOb5MkV-btq",
        "outputId": "a412526e-9751-45f4-f8c8-e767610a7824",
        "colab": {
          "base_uri": "https://localhost:8080/"
        }
      },
      "execution_count": null,
      "outputs": [
        {
          "output_type": "stream",
          "name": "stdout",
          "text": [
            "Ingrese la edad de Maria: 12\n",
            "Maria es menor de edad.\n"
          ]
        }
      ]
    },
    {
      "cell_type": "code",
      "source": [
        "edad_juan = int(input('Ingrese la edad de Juan: '))\n",
        "edad_carlos = int(input('Ingrese la edad de Carlos: '))\n",
        "\n",
        "if edad_juan > edad_carlos:\n",
        "  print('Juan es mayor que Carlos.')\n",
        "else:\n",
        "  print('Carlos es mayor que Juan.')"
      ],
      "metadata": {
        "id": "xOFwF-vp3IVF",
        "outputId": "f53497de-2b4b-45b2-ced4-29ed828123e0",
        "colab": {
          "base_uri": "https://localhost:8080/"
        }
      },
      "execution_count": null,
      "outputs": [
        {
          "output_type": "stream",
          "name": "stdout",
          "text": [
            "Ingrese la edad de Juan: 16\n",
            "Ingrese la edad de Carlos: 21\n",
            "Carlos es mayor que Juan.\n"
          ]
        }
      ]
    },
    {
      "cell_type": "code",
      "source": [
        "notas_Pedro = float(input('Ingrese la nota de Pedro: '))\n",
        "\n",
        "if notas_Pedro >= 7:\n",
        "  print('Pedro aprueba.')\n",
        "else:\n",
        "  print('Pedro reprueba.')"
      ],
      "metadata": {
        "id": "7RHMVldf3InA",
        "outputId": "fce210e2-809a-4353-9401-1019870c0c57",
        "colab": {
          "base_uri": "https://localhost:8080/"
        }
      },
      "execution_count": null,
      "outputs": [
        {
          "output_type": "stream",
          "name": "stdout",
          "text": [
            "Ingrese la nota de Pedro: 6.9\n",
            "Pedro reprueba.\n"
          ]
        }
      ]
    },
    {
      "cell_type": "code",
      "source": [
        "notas_Diego = float(input('Ingrese la nota de Diego: '))\n",
        "notas_Randall = float(input('Ingrese la nota de Randall: '))\n",
        "\n",
        "if notas_Diego >= 7 and notas_Randall >= 7:\n",
        "  print('Ambos aprueban.')\n",
        "else:\n",
        "  print('Alguno reprueba.')\n"
      ],
      "metadata": {
        "id": "OnVZZinL3Izk",
        "outputId": "cf9a2f7f-6e80-4b59-eae3-c4e83243ceba",
        "colab": {
          "base_uri": "https://localhost:8080/"
        }
      },
      "execution_count": null,
      "outputs": [
        {
          "output_type": "stream",
          "name": "stdout",
          "text": [
            "Ingrese la nota de Diego: 9\n",
            "Ingrese la nota de Randall: 5\n",
            "Alguno reprueba.\n"
          ]
        }
      ]
    },
    {
      "cell_type": "code",
      "source": [
        "altura_jesus = float(input('Ingrese la altura de Jesus: '))\n",
        "\n",
        "if altura_jesus >= 1.70:\n",
        "  print('Jesus es alto.')\n",
        "else:\n",
        "  print('Jesus es bajo.')"
      ],
      "metadata": {
        "id": "-BXMFjA03JEc",
        "outputId": "95270342-8562-4c51-f49c-83f5aa46c7da",
        "colab": {
          "base_uri": "https://localhost:8080/"
        }
      },
      "execution_count": null,
      "outputs": [
        {
          "output_type": "stream",
          "name": "stdout",
          "text": [
            "Ingrese la altura de Jesus: 1.90\n",
            "Jesus es alto.\n"
          ]
        }
      ]
    },
    {
      "cell_type": "code",
      "source": [
        "altura_felipe = float(input('Ingrese la altura de Felipe: '))\n",
        "altura_juan = float(input('Ingrese la altura de Juan: '))\n",
        "\n",
        "if altura_felipe >= 1.70 and altura_juan >= 1.70:\n",
        "  print('Ambos son altos.')\n",
        "else:\n",
        "  print('Alguno es bajo.')\n"
      ],
      "metadata": {
        "id": "UZudpYyE__vb",
        "outputId": "5b8dd98b-c5b6-44c2-c02c-b24dc809b366",
        "colab": {
          "base_uri": "https://localhost:8080/"
        }
      },
      "execution_count": null,
      "outputs": [
        {
          "output_type": "stream",
          "name": "stdout",
          "text": [
            "Ingrese la altura de Felipe: 1.90\n",
            "Ingrese la altura de Juan: 1.90\n",
            "Ambos son altos.\n"
          ]
        }
      ]
    },
    {
      "cell_type": "markdown",
      "source": [
        "---\n",
        "**Situación:**\n",
        "\n",
        "Recibiremos el promedio de la nota de los estudiantes y necesitamos de un algoritmo que ejecute el análisis y determine si el estudiante fue **Aprobado** o **Reprobado**, mostrando un mensaje del resultado. Para ser aprobado, el promedio necesita ser igual o superior a 7.0."
      ],
      "metadata": {
        "id": "BqORg85XX-Nl"
      }
    },
    {
      "cell_type": "code",
      "source": [
        "notas_estudiantes = float(input('Ingrese el promedio de la nota: '))\n",
        "\n",
        "if notas_estudiantes >= 7:\n",
        "  print('El estudiante fue aprobado.')\n",
        "else:\n",
        "  print('El estiudiante fue reprobado.')"
      ],
      "metadata": {
        "id": "UukCN4AQ-YYW",
        "outputId": "4a8ade39-9e69-4bbd-d13a-26ca9a7121e8",
        "colab": {
          "base_uri": "https://localhost:8080/"
        }
      },
      "execution_count": null,
      "outputs": [
        {
          "output_type": "stream",
          "name": "stdout",
          "text": [
            "Ingrese el promedio de la nota: 7\n",
            "El estudiante fue aprobado.\n"
          ]
        }
      ]
    },
    {
      "cell_type": "code",
      "source": [],
      "metadata": {
        "id": "X0o8FW1H-YkA"
      },
      "execution_count": null,
      "outputs": []
    },
    {
      "cell_type": "code",
      "source": [],
      "metadata": {
        "id": "_D4kS_c-2z4x"
      },
      "execution_count": null,
      "outputs": []
    },
    {
      "cell_type": "markdown",
      "source": [
        "Ahora, nuestra institución educativa estableció que las personas que tengan el promedio entre 5.0 y 7.0 pueden participar del curso de **Recuperación** durante las vacaciones para lograr aprobar.\n",
        "\n",
        "Entonces podemos apoyarnos en un conjunto de `if`s para poder estructurar esta nueva condición."
      ],
      "metadata": {
        "id": "bD9O17HB6LUo"
      }
    },
    {
      "cell_type": "code",
      "source": [
        "notas_estudiantes = float(input('Ingrese el promedio de la nota: '))\n",
        "\n",
        "if notas_estudiantes >= 7:\n",
        "  print('El estudiante fue aprobado.')\n",
        "if notas_estudiantes >= 5 and notas_estudiantes < 7:\n",
        "  print('El estudiante puede recuperar.')\n",
        "else:\n",
        "  print('El estiudiante fue reprobado.')"
      ],
      "metadata": {
        "id": "G9cJ5O9--W52",
        "outputId": "faa4b917-0f2d-40c0-a93d-6f12b12f0dfe",
        "colab": {
          "base_uri": "https://localhost:8080/"
        }
      },
      "execution_count": null,
      "outputs": [
        {
          "output_type": "stream",
          "name": "stdout",
          "text": [
            "Ingrese el promedio de la nota: 6\n",
            "El estudiante puede recuperar.\n"
          ]
        }
      ]
    },
    {
      "cell_type": "code",
      "source": [
        "nota_est = float(input('Ingrese la nota del estudiante: '))\n",
        "\n",
        "if nota_est >= 7:\n",
        "  print('Aprobo')\n",
        "if 7 > nota_est >= 5:\n",
        "  print('Recuperacion')\n",
        "if nota_est < 5:\n",
        "  print('Reprobo')"
      ],
      "metadata": {
        "id": "iU-pjoJt-W89",
        "outputId": "7557436c-0e41-425f-a9b5-68ed3ac30102",
        "colab": {
          "base_uri": "https://localhost:8080/"
        }
      },
      "execution_count": null,
      "outputs": [
        {
          "output_type": "stream",
          "name": "stdout",
          "text": [
            "Ingrese la nota del estudiante: 4\n",
            "Reprobo\n"
          ]
        }
      ]
    },
    {
      "cell_type": "code",
      "source": [],
      "metadata": {
        "id": "5D4zwbr021yw"
      },
      "execution_count": null,
      "outputs": []
    },
    {
      "cell_type": "markdown",
      "source": [
        "Observa que en casos con 3 situaciones como este necesitamos definir bien nuestras condiciones. Pues, si realizamos una condición con `else` al final, este irá a considerar solamente la condición `if` inmediatamente anterior para generar la salida en caso de que el resultado de su operación lógica sea **falso** dando como resultado, dos o más ejecuciones.\n",
        "\n",
        "Por ejemplo:"
      ],
      "metadata": {
        "id": "D5e2mByjvycO"
      }
    },
    {
      "cell_type": "code",
      "source": [
        "nota_est = float(input('Ingrese la nota del estudiante: '))\n",
        "\n",
        "if nota_est >= 7:\n",
        "  print('Aprobo')\n",
        "if 7 > nota_est >= 5:\n",
        "  print('Recuperacion')\n",
        "else:\n",
        "  print('Reprobo')"
      ],
      "metadata": {
        "id": "C21JmOuK-VU8",
        "outputId": "91c6b420-3c7f-465b-dc44-afb656ced099",
        "colab": {
          "base_uri": "https://localhost:8080/"
        }
      },
      "execution_count": null,
      "outputs": [
        {
          "output_type": "stream",
          "name": "stdout",
          "text": [
            "Ingrese la nota del estudiante: 9\n",
            "Aprobo\n",
            "Reprobo\n"
          ]
        }
      ]
    },
    {
      "cell_type": "code",
      "source": [],
      "metadata": {
        "id": "bHiVgnPs-Vlv"
      },
      "execution_count": null,
      "outputs": []
    },
    {
      "cell_type": "markdown",
      "source": [
        "## `ELIF`\n",
        "\n",
        "El comando `elif` es una palabra clave en Python que significa \"si no, si\" y lo podemos considerar una *contracción* entre `else` e `if`. Se utiliza en conjunto con la palabra clave `if` para formar una estructura condicional en cadena."
      ],
      "metadata": {
        "id": "04T5g-7h4zWx"
      }
    },
    {
      "cell_type": "markdown",
      "source": [
        "la sintaxis para utilizar el comando `elif` es:\n",
        "\n",
        "```\n",
        "if condicion1:\n",
        "    # Realiza algo\n",
        "elif condicion2:\n",
        "    # Realiza otra cosa\n",
        "elif condicion3:\n",
        "    # Realiza otra cosa\n",
        "else:\n",
        "    # Realiza algo diferente\n",
        "```\n",
        "\n",
        "El comando `elif` permite que puedas verificar varias condiciones en cadena, economizando espacio en tu código. Si la primera condición se evalúa como `False`, el interpretador de Python evaluará la próxima condición con el `elif`. Ello continuará hasta que una condición sea evaluada como `True` o hasta que el `else` sea alcazado. Si ninguna de las condiciones es evaluada como `True`, la ejecución del código del comando `else` será iniciada."
      ],
      "metadata": {
        "id": "rNBHr5mm1Lm6"
      }
    },
    {
      "cell_type": "markdown",
      "source": [
        "Vamos a emplear el mismo caso anterior:"
      ],
      "metadata": {
        "id": "MVoykFbB4bd4"
      }
    },
    {
      "cell_type": "code",
      "source": [
        "nota_est = float(input('Ingrese la nota del estudiante: '))\n",
        "\n",
        "if nota_est >= 7:\n",
        "  print('Aprobo')\n",
        "elif 7 > nota_est >= 5:\n",
        "  print('Recuperacion')\n",
        "else:\n",
        "  print('Reprobo')"
      ],
      "metadata": {
        "id": "QFamB78s-TW_",
        "outputId": "ba7f1c4c-96e9-4bac-f152-13b80ddec880",
        "colab": {
          "base_uri": "https://localhost:8080/"
        }
      },
      "execution_count": null,
      "outputs": [
        {
          "output_type": "stream",
          "name": "stdout",
          "text": [
            "Ingrese la nota del estudiante: 5\n",
            "Recuperacion\n"
          ]
        }
      ]
    },
    {
      "cell_type": "code",
      "source": [
        "estatura = float(input('Ingrese la estatura del estudiante: '))\n",
        "\n",
        "if estatura >= 1.70:\n",
        "  print('Es alto')\n",
        "elif 1.70 > estatura >= 1.60:\n",
        "  print('Es medio')\n",
        "else:\n",
        "  print('Es bajo')"
      ],
      "metadata": {
        "id": "nuScbnHF-TfK",
        "outputId": "8ac46640-0fb9-4947-a62d-03c5bbb6f1b8",
        "colab": {
          "base_uri": "https://localhost:8080/"
        }
      },
      "execution_count": null,
      "outputs": [
        {
          "output_type": "stream",
          "name": "stdout",
          "text": [
            "Ingrese la estatura del estudiante: 1.65\n",
            "Es medio\n"
          ]
        }
      ]
    },
    {
      "cell_type": "markdown",
      "source": [
        "## Operadores\n",
        "\n",
        "Durante la construcción de comandos a veces necesitamos de una elaboración mayor de la expresión condicional, necesitando que algunos operadores lógicos se encuentren integrados."
      ],
      "metadata": {
        "id": "Tf1wSOem6iwZ"
      }
    },
    {
      "cell_type": "markdown",
      "source": [
        "### `AND`, `OR`, `NOT`\n",
        "\n",
        "Los operadores lógicos `and`, `or` y `not` son usados para combinar expresiones lógicas en Python. Ellos son usados frecuentemente en conjunto con el comando `if` para crear estructuras condicionales más complejas.\n"
      ],
      "metadata": {
        "id": "GFIZnRWXGPWO"
      }
    },
    {
      "cell_type": "markdown",
      "source": [
        "- `AND` es usado para verificar si dos condiciones son verdaderas. La expresión lógica¹ `x and y` se evalúa como `True` tan solo si **ambas condiciones `x` y `y` son verdaderas**, y como `False` en caso contrario.\n",
        "\n",
        "- `OR` es usado para verificar si al menos una de las condiciones es verdadera. La expresión lógica `x or y` se evalúa como `True` **si al menos una de las condiciones `x` o `y` es verdadera**, y como `False` si ambas condiciones son falsas.\n",
        "\n",
        "- `NOT` es usado para **negar una condición**. La expresión lógica `not x` es evaluada como `True` si la condición x es falsa, y como `False` si la condición x es verdadera.\n",
        "\n",
        "¹ Una expresión lógica es una declaración que puede ser evaluada como verdadera o falsa. Ella se compone por operandos lógicos² y por operadores lógicos³, que son usados ​​para combinar varias expresiones lógicas en una única expresión.\n",
        "\n",
        "² Los operandos lógicos son los elementos que son comparados o evaluados en una expresión lógica. Ellos son generalmente valores verdaderos o falsos, pero también pueden ser expresiones lógicas más complejas. En Python, los operandos lógicos son los valores `True` y `False`.\n",
        "\n",
        "³ Los operadores lógicos son ls símbolos o palabras clave que son usados ​​para combinar varias expresiones lógicas en una única expresión. En Python, los operadores lógicos son `and`, `or` y `not`, bien como las palabras clave `if`, `elif` e `else`."
      ],
      "metadata": {
        "id": "Z_dgAoHXJbzB"
      }
    },
    {
      "cell_type": "markdown",
      "source": [
        "> Operadores lógicos más comunes\n",
        "\n",
        "|a|b|AND|OR|NOT|\n",
        "|-|-|-|-|-|\n",
        "|0|0|0|0|1\n",
        "|0|1|0|1|-\n",
        "|1|0|0|1|-\n",
        "|1|1|1|1|0\n"
      ],
      "metadata": {
        "id": "2E5aUogf-49u"
      }
    },
    {
      "cell_type": "code",
      "source": [
        "v = True\n",
        "f = False"
      ],
      "metadata": {
        "id": "DFKmpvmS-Pa6"
      },
      "execution_count": null,
      "outputs": []
    },
    {
      "cell_type": "code",
      "source": [
        "if v and v:\n",
        "  print('Verdadero') # el operador logico es AND\n",
        "else:\n",
        "  print('Falso')"
      ],
      "metadata": {
        "id": "W5BIrpOD-PeI",
        "outputId": "a3494837-3ed7-48c2-9077-4d657b0a5a19",
        "colab": {
          "base_uri": "https://localhost:8080/"
        }
      },
      "execution_count": null,
      "outputs": [
        {
          "output_type": "stream",
          "name": "stdout",
          "text": [
            "Verdadero\n"
          ]
        }
      ]
    },
    {
      "cell_type": "code",
      "source": [
        "if v and f:\n",
        "  print('Verdadero')\n",
        "else:\n",
        "  print('Falso')"
      ],
      "metadata": {
        "id": "02FZiQJ5p4x7",
        "outputId": "0a8bdf0d-e41a-4a95-8682-6b2c7d7873bf",
        "colab": {
          "base_uri": "https://localhost:8080/"
        }
      },
      "execution_count": null,
      "outputs": [
        {
          "output_type": "stream",
          "name": "stdout",
          "text": [
            "Falso\n"
          ]
        }
      ]
    },
    {
      "cell_type": "code",
      "source": [
        "if f and f:\n",
        "  print('Verdadero')\n",
        "else:\n",
        "  print('Falso')"
      ],
      "metadata": {
        "id": "DCOhVs0jp9bb",
        "outputId": "6f6caf25-5c34-495a-e7b5-a8cd16f1ec8b",
        "colab": {
          "base_uri": "https://localhost:8080/"
        }
      },
      "execution_count": null,
      "outputs": [
        {
          "output_type": "stream",
          "name": "stdout",
          "text": [
            "Falso\n"
          ]
        }
      ]
    },
    {
      "cell_type": "code",
      "source": [
        "if v or f:\n",
        "  print('Verdadero')\n",
        "else:\n",
        "  print('Falso')"
      ],
      "metadata": {
        "id": "fpDhYxq4-PiM",
        "outputId": "4620ed51-8101-4932-90c9-e0433aecf298",
        "colab": {
          "base_uri": "https://localhost:8080/"
        }
      },
      "execution_count": null,
      "outputs": [
        {
          "output_type": "stream",
          "name": "stdout",
          "text": [
            "Verdadero\n"
          ]
        }
      ]
    },
    {
      "cell_type": "code",
      "source": [
        "if f or f:\n",
        "  print('Verdadero') #El operador logico es OR\n",
        "else:\n",
        "  print('Falso')"
      ],
      "metadata": {
        "id": "0NGIPrfPpZ1R",
        "outputId": "d9722343-4d24-4219-80c6-6154d967cb8c",
        "colab": {
          "base_uri": "https://localhost:8080/"
        }
      },
      "execution_count": null,
      "outputs": [
        {
          "output_type": "stream",
          "name": "stdout",
          "text": [
            "Falso\n"
          ]
        }
      ]
    },
    {
      "cell_type": "code",
      "source": [
        "if v or v:\n",
        "  print('Verdadero')\n",
        "else:\n",
        "  print('Falso')"
      ],
      "metadata": {
        "id": "H9OUmizfpaPI",
        "outputId": "13dcaabf-8256-4a2d-bdcb-34a612bc63e8",
        "colab": {
          "base_uri": "https://localhost:8080/"
        }
      },
      "execution_count": null,
      "outputs": [
        {
          "output_type": "stream",
          "name": "stdout",
          "text": [
            "Verdadero\n"
          ]
        }
      ]
    },
    {
      "cell_type": "code",
      "source": [
        "if f or v:\n",
        "  print('Verdadero')\n",
        "else:\n",
        "  print('Falso')"
      ],
      "metadata": {
        "id": "Td9RDn3VpxL_",
        "outputId": "7a79a2e4-68bb-4ced-bfe5-4841a3e0ef3e",
        "colab": {
          "base_uri": "https://localhost:8080/"
        }
      },
      "execution_count": null,
      "outputs": [
        {
          "output_type": "stream",
          "name": "stdout",
          "text": [
            "Verdadero\n"
          ]
        }
      ]
    },
    {
      "cell_type": "code",
      "source": [
        "if not f:\n",
        "  print('Verdadero') #el operador es NOT\n",
        "else:\n",
        "  print('Falso')\n"
      ],
      "metadata": {
        "id": "q_vwZbiSqYZj",
        "outputId": "e24c1089-1ec7-43ce-e77a-e548266aa2d2",
        "colab": {
          "base_uri": "https://localhost:8080/"
        }
      },
      "execution_count": null,
      "outputs": [
        {
          "output_type": "stream",
          "name": "stdout",
          "text": [
            "Verdadero\n"
          ]
        }
      ]
    },
    {
      "cell_type": "code",
      "source": [
        "if not v:\n",
        "  print('Verdadero')\n",
        "else:\n",
        "  print('Falso')"
      ],
      "metadata": {
        "id": "WRw4DSfrqYjn",
        "outputId": "81b38474-7bda-478e-844a-b0c9b76552e2",
        "colab": {
          "base_uri": "https://localhost:8080/"
        }
      },
      "execution_count": null,
      "outputs": [
        {
          "output_type": "stream",
          "name": "stdout",
          "text": [
            "Falso\n"
          ]
        }
      ]
    },
    {
      "cell_type": "markdown",
      "source": [
        "### `IN`\n",
        "\n",
        "Es usado para verificar si un elemento está presente en una lista, tupla u otra colección de conjunto. La expresión `x in y` se evalúa como `True` si el elemento `x` esta presente na variávelen la variable de conjunto `y`, y como `False` en caso contrario."
      ],
      "metadata": {
        "id": "w7EXG1dhWtja"
      }
    },
    {
      "cell_type": "markdown",
      "source": [
        "Podemos verificarlo con variables de texto.\n",
        "\n",
        "---\n",
        "\n",
        "**Situación:**\n",
        "\n",
        "En la escuela nos entregaron una lista con nombres de estudiantes que fueron aprobados según el promedio del semestre, pero es necesario verificar si algunos nombres están en esa lista para confirmar que los datos estén correctos.\n",
        "\n",
        "La lista distribuida puede ser observada a continuación:\n",
        "\n",
        "```\n",
        "lista = 'Juan Pérez, María González, Pedro Rodríguez, Ana López, Carlos Martínez,\n",
        "    Laura Sánchez, José García, Elena Fernández, Luis Morales, Carmen Torres,\n",
        "    David Ruiz, Isabel Ramírez, Javier Díaz, Sara Herrera, Miguel Castro,\n",
        "    Patricia Ortega, Francisco Vargas, Marta Jiménez, Manuel Medina, Rosa Molina,\n",
        "    Alejandro Silva, Silvia Ruiz, Andrés Torres, Natalia Soto, Diego Guerrero,\n",
        "    Paula Ríos, Ricardo Navarro, Alicia Cordero, Carlos Vidal, Lorena Gómez'\n",
        "```\n",
        "\n",
        "Los nombres que necesitas verificar son los siguientes:\n",
        "\n",
        "```\n",
        "nombre_1 = 'Miguel Castro'\n",
        "nombre_2 = 'Marcelo Noguera'\n",
        "```"
      ],
      "metadata": {
        "id": "enJNp6JenQbq"
      }
    },
    {
      "cell_type": "code",
      "source": [
        "lista = 'Juan Pérez, María González, Pedro Rodríguez, Ana López, Carlos Martínez, Laura Sánchez, José García, Elena Fernández, Luis Morales, Carmen Torres, David Ruiz, Isabel Ramírez, Javier Díaz, Sara Herrera, Miguel Castro, Patricia Ortega, Francisco Vargas, Marta Jiménez, Manuel Medina, Rosa Molina, Alejandro Silva, Silvia Ruiz, Andrés Torres, Natalia Soto, Diego Guerrero, Paula Ríos, Ricardo Navarro, Alicia Cordero, Carlos Vidal, Lorena Gómez'"
      ],
      "metadata": {
        "id": "gPPN9BCT-Mki"
      },
      "execution_count": null,
      "outputs": []
    },
    {
      "cell_type": "code",
      "source": [
        "nombre_1 = 'Miguel Castro'\n",
        "nombre_2 = 'Marcelo Noguera'"
      ],
      "metadata": {
        "id": "GINbG3Fa-Mnb"
      },
      "execution_count": null,
      "outputs": []
    },
    {
      "cell_type": "code",
      "source": [
        "if nombre_1 in lista:\n",
        "  print(f'{nombre_1} aprobo.')\n",
        "else:\n",
        "  print(f'{nombre_1} reprobo.')"
      ],
      "metadata": {
        "id": "hk-RhNRT-Mp7",
        "outputId": "d9b6d29d-45e3-4607-d408-549c71fd4fed",
        "colab": {
          "base_uri": "https://localhost:8080/"
        }
      },
      "execution_count": null,
      "outputs": [
        {
          "output_type": "stream",
          "name": "stdout",
          "text": [
            "Miguel Castro aprobo.\n"
          ]
        }
      ]
    },
    {
      "cell_type": "code",
      "source": [
        "if nombre_2 in lista:\n",
        "  print(f'{nombre_2} aprobo.')\n",
        "else:\n",
        "  print(f'{nombre_2} reprobo.')"
      ],
      "metadata": {
        "id": "9X-kfygiKDmo",
        "outputId": "3750cc70-e742-4e9e-a569-419a2d4d1fb0",
        "colab": {
          "base_uri": "https://localhost:8080/"
        }
      },
      "execution_count": null,
      "outputs": [
        {
          "output_type": "stream",
          "name": "stdout",
          "text": [
            "Marcelo Noguera reprobo.\n"
          ]
        }
      ]
    },
    {
      "cell_type": "markdown",
      "source": [
        "# PRACTICA 3 Entrenando la programación"
      ],
      "metadata": {
        "id": "1HWFNhPZxDFJ"
      }
    },
    {
      "cell_type": "markdown",
      "source": [
        "1 - Escribe un programa que pida a la persona usuaria que proporcione dos números y muestre el número más grande."
      ],
      "metadata": {
        "id": "9MRBRjxQxLAq"
      }
    },
    {
      "cell_type": "code",
      "source": [
        "NUM_1 = int(input('Ingrese el primer numero: '))\n",
        "NUM_2 = int(input('Ingrese el segundo numero: '))\n",
        "\n",
        "if NUM_1 > NUM_2:\n",
        "  print(f'El numero mayor es: {NUM_1}')\n",
        "else:\n",
        "  print(f'El numero mayor es: {NUM_2}')"
      ],
      "metadata": {
        "id": "_XQQFGjDLVmm",
        "outputId": "4b98b975-fb6d-4897-ef2c-4acae89b9602",
        "colab": {
          "base_uri": "https://localhost:8080/"
        }
      },
      "execution_count": null,
      "outputs": [
        {
          "output_type": "stream",
          "name": "stdout",
          "text": [
            "Ingrese el primer numero: 15\n",
            "Ingrese el segundo numero: 1\n",
            "El numero mayor es: 15\n"
          ]
        }
      ]
    },
    {
      "cell_type": "code",
      "source": [
        "# Recolectamos los números\n",
        "num1 = float(input('Ingrese el primer número: '))\n",
        "num2 = float(input('Ingrese el segundo número: '))\n",
        "# Comparamos ambos números y determinamos cuál es el mayor\n",
        "if num1 > num2:\n",
        "    print(f'El primer número es mayor: {num1}')\n",
        "elif num2 > num1:\n",
        "    print(f'El segundo número es mayor: {num2}')\n",
        "else: # En caso de que los números sean iguales\n",
        "    print('Ambos números son iguales.')"
      ],
      "metadata": {
        "id": "Ld0QO9Smj_pH",
        "outputId": "2b45b625-a9eb-477a-8bdf-b0a7f49e799c",
        "colab": {
          "base_uri": "https://localhost:8080/"
        }
      },
      "execution_count": null,
      "outputs": [
        {
          "output_type": "stream",
          "name": "stdout",
          "text": [
            "Ingrese el primer número: 6\n",
            "Ingrese el segundo número: 9\n",
            "El segundo número es mayor: 9.0\n"
          ]
        }
      ]
    },
    {
      "cell_type": "markdown",
      "source": [
        "2 - Escribe un programa que solicite el porcentaje de crecimiento de producción de una empresa e informe si hubo un crecimiento (porcentaje positivo) o una disminución (porcentaje negativo).\n",
        "\n"
      ],
      "metadata": {
        "id": "y00t5DPFxWvm"
      }
    },
    {
      "cell_type": "code",
      "source": [
        "porcentaje = float(input('Ingrese el porcentaje de crecimiento de la produccion: '))\n",
        "\n",
        "if porcentaje > 0:\n",
        "  print('Hubo un crecimiento')\n",
        "else:\n",
        "  print('Hubo una disminucion')"
      ],
      "metadata": {
        "id": "f40ov_B5LV4g",
        "outputId": "f7944459-bb5b-4adf-c032-e6bb3b9ce3e7",
        "colab": {
          "base_uri": "https://localhost:8080/"
        }
      },
      "execution_count": null,
      "outputs": [
        {
          "output_type": "stream",
          "name": "stdout",
          "text": [
            "Ingrese el porcentaje de crecimiento de la produccion: 20\n",
            "Hubo un crecimiento\n"
          ]
        }
      ]
    },
    {
      "cell_type": "code",
      "source": [
        "# Recolectamos el porcentaje\n",
        "variación = float(input('Ingrese el porcentaje de crecimiento: '))\n",
        "# Verificamos si el valor es positivo o negativo con una comparación para ver si el número\n",
        "# es mayor o menor que 0\n",
        "if variación > 0:\n",
        "    print(f'Hubo un crecimiento del {variación}%')\n",
        "elif variación < 0:\n",
        "    print(f'Hubo un decrecimiento del {variación}%')\n",
        "else:\n",
        "    print('No hubo crecimiento ni decrecimiento.')"
      ],
      "metadata": {
        "id": "7V_PFFHDkRtp",
        "outputId": "8503dffd-6813-438c-8081-61bbcf1ced45",
        "colab": {
          "base_uri": "https://localhost:8080/"
        }
      },
      "execution_count": null,
      "outputs": [
        {
          "output_type": "stream",
          "name": "stdout",
          "text": [
            "Ingrese el porcentaje de crecimiento: 20\n",
            "Hubo un crecimiento del 20.0%\n"
          ]
        }
      ]
    },
    {
      "cell_type": "markdown",
      "source": [
        "3 - Escribe un programa que determine si una letra proporcionada por la persona usuaria es una vocal o una consonante."
      ],
      "metadata": {
        "id": "I_t2f4MHxiHl"
      }
    },
    {
      "cell_type": "code",
      "source": [
        "letra = input('Ingrese una letra: ')\n",
        "\n",
        "if letra in 'aeiou':\n",
        "  print('Es una vocal')\n",
        "else:\n",
        "  print('Es una consonante')"
      ],
      "metadata": {
        "id": "_s79iwh5LV7u",
        "outputId": "67a33779-c117-4970-d270-7c1155f178e6",
        "colab": {
          "base_uri": "https://localhost:8080/"
        }
      },
      "execution_count": null,
      "outputs": [
        {
          "output_type": "stream",
          "name": "stdout",
          "text": [
            "Ingrese una letra: t\n",
            "Es una consonante\n"
          ]
        }
      ]
    },
    {
      "cell_type": "code",
      "source": [
        "# Recolectamos la letra del usuario en minúsculas\n",
        "letra = input('Ingrese una letra: ').lower()\n",
        "vocales = 'aeiou' # cadena que contiene todas las vocales\n",
        "# Verificamos si la letra está en las vocales con `in`\n",
        "if letra in vocales:\n",
        "    print('La letra es una vocal.')\n",
        "else:\n",
        "    print('La letra es una consonante.')"
      ],
      "metadata": {
        "id": "bgfznX6Xk4Lf",
        "outputId": "c81dd9e4-66c5-495a-cc47-25386b832687",
        "colab": {
          "base_uri": "https://localhost:8080/"
        }
      },
      "execution_count": null,
      "outputs": [
        {
          "output_type": "stream",
          "name": "stdout",
          "text": [
            "Ingrese una letra: y\n",
            "La letra es una consonante.\n"
          ]
        }
      ]
    },
    {
      "cell_type": "markdown",
      "source": [
        "4 - Escribe un programa que lea valores promedio de precios de un modelo de automóvil durante 3 años consecutivos y muestre el valor más alto y más bajo entre esos tres años."
      ],
      "metadata": {
        "id": "esLyA-dTxxKv"
      }
    },
    {
      "cell_type": "code",
      "source": [
        "valor_promedio_1 = float(input('Ingrese el valor promedio del primer año: '))\n",
        "valor_promedio_2 = float(input('Ingrese el valor promedio del segundo año: '))\n",
        "valor_promedio_3 = float(input('Ingrese el valor promedio del tercer año: '))\n",
        "\n",
        "if valor_promedio_1 > valor_promedio_2 and valor_promedio_1 > valor_promedio_3:\n",
        "  print(f'El valor promedio mas alto es: {valor_promedio_1}')\n",
        "  print(f'El valor promedio más bajo es: {valor_promedio_3} ')\n",
        "elif valor_promedio_2 > valor_promedio_1 and valor_promedio_2 > valor_promedio_3:\n",
        "  print(f'El valor promedio mas alto es: {valor_promedio_2}')\n",
        "  print(f'El valor promedio más bajo es: {valor_promedio_1} ')\n",
        "else:\n",
        "  print(f'El valor promedio mas alto es: {valor_promedio_3}')\n",
        "  print(f'El valor promedio más bajo es: {valor_promedio_2} ')"
      ],
      "metadata": {
        "id": "WSEsGTIwLV-p",
        "outputId": "24233814-530e-46ae-eb31-fb3932b64c96",
        "colab": {
          "base_uri": "https://localhost:8080/"
        }
      },
      "execution_count": null,
      "outputs": [
        {
          "output_type": "stream",
          "name": "stdout",
          "text": [
            "Ingrese el valor promedio del primer año: 5.78\n",
            "Ingrese el valor promedio del segundo año: 4.99\n",
            "Ingrese el valor promedio del tercer año: 9\n",
            "El valor promedio mas alto es: 9.0\n",
            "El valor promedio más bajo es: 4.99 \n"
          ]
        }
      ]
    },
    {
      "cell_type": "code",
      "source": [
        "# Recolectamos los precios de los 3 años\n",
        "precio_ano1 = float(input('Ingrese el precio promedio del automóvil en el primer año: '))\n",
        "precio_ano2 = float(input('Ingrese el precio promedio del automóvil en el segundo año: '))\n",
        "precio_ano3 = float(input('Ingrese el precio promedio del automóvil en el tercer año: '))\n",
        "# Determinamos el valor más alto mediante comparaciones\n",
        "mayor = precio_ano1\n",
        "if precio_ano2 > mayor:\n",
        "  mayor = precio_ano2\n",
        "if precio_ano3 > mayor:\n",
        "  mayor = precio_ano3\n",
        "# Determinamos el valor más bajo mediante comparaciones\n",
        "menor = precio_ano1\n",
        "if precio_ano2 < menor:\n",
        "  menor = precio_ano2\n",
        "if precio_ano3 < menor:\n",
        "  menor = precio_ano3\n",
        "# Mostramos los resultados\n",
        "print(f'El precio más alto fue de R$ {mayor}.')\n",
        "print(f'El precio más bajo fue de R$ {menor}.')"
      ],
      "metadata": {
        "id": "eHDBXwK_lROA",
        "outputId": "4c2a1f2d-7858-4bdf-d776-f417390c8178",
        "colab": {
          "base_uri": "https://localhost:8080/"
        }
      },
      "execution_count": null,
      "outputs": [
        {
          "output_type": "stream",
          "name": "stdout",
          "text": [
            "Ingrese el precio promedio del automóvil en el primer año: 5.78\n",
            "Ingrese el precio promedio del automóvil en el segundo año: 9\n",
            "Ingrese el precio promedio del automóvil en el tercer año: 4.99\n",
            "El precio más alto fue de R$ 9.0.\n",
            "El precio más bajo fue de R$ 4.99.\n"
          ]
        }
      ]
    },
    {
      "cell_type": "markdown",
      "source": [
        "5 - Escribe un programa que pregunte sobre el precio de tres productos e indique cuál es el producto más barato para comprar."
      ],
      "metadata": {
        "id": "0i_KqRaRyAHj"
      }
    },
    {
      "cell_type": "code",
      "source": [
        "precio_1 = float(input('Ingrese el precio del primer producto: '))\n",
        "precio_2 = float(input('Ingrese el precio del segundo producto: '))\n",
        "precio_3 = float(input('Ingrese el precio del tercer producto: '))\n",
        "\n",
        "if precio_1 < precio_2 and precio_1 < precio_3:\n",
        "  print(f'El producto mas barato es: {precio_1}')\n",
        "elif precio_2 < precio_1 and precio_2 < precio_3:\n",
        "  print(f'El producto mas barato es: {precio_2}')\n",
        "else:\n",
        "  print(f'El producto mas barato es: {precio_3}')\n"
      ],
      "metadata": {
        "id": "HlXRVVOwZqMF",
        "outputId": "dcc7bb20-9823-47f4-eac9-2c63fa41c5f9",
        "colab": {
          "base_uri": "https://localhost:8080/"
        }
      },
      "execution_count": null,
      "outputs": [
        {
          "output_type": "stream",
          "name": "stdout",
          "text": [
            "Ingrese el precio del primer producto: 7.99\n",
            "Ingrese el precio del segundo producto: 9.10\n",
            "Ingrese el precio del tercer producto: 10\n",
            "El producto mas barato es: 7.99\n"
          ]
        }
      ]
    },
    {
      "cell_type": "markdown",
      "source": [
        "6 - Escribe un programa que lea tres números y los muestre en orden descendente."
      ],
      "metadata": {
        "id": "cT1fYkcYyGNC"
      }
    },
    {
      "cell_type": "code",
      "source": [
        "numero_55 = int(input('Ingrese el primer numero: '))\n",
        "numero_66 = int(input('Ingrese el segundo numero: '))\n",
        "numero_77 = int(input('Ingrese el tercer numero: '))\n",
        "\n"
      ],
      "metadata": {
        "id": "x1XnI6VAZqap",
        "outputId": "de9af8ab-ce26-4675-dc2d-87142e6eec1c",
        "colab": {
          "base_uri": "https://localhost:8080/"
        }
      },
      "execution_count": null,
      "outputs": [
        {
          "name": "stdout",
          "output_type": "stream",
          "text": [
            "Ingrese el primer numero: 5\n",
            "Ingrese el segundo numero: 6\n",
            "Ingrese el tercer numero: 7\n"
          ]
        }
      ]
    },
    {
      "cell_type": "code",
      "source": [
        "# Recolectamos los 3 números\n",
        "num1 = int(input('Ingrese el primer número: '))\n",
        "num2 = int(input('Ingrese el segundo número: '))\n",
        "num3 = int(input('Ingrese el tercer número: '))\n",
        "\n",
        "# Comparación entre los 3 números\n",
        "if (num1 >= num2) and (num1 >= num3):\n",
        "    print(num1)\n",
        "    if num2 >= num3:\n",
        "        print(num2)\n",
        "        print(num3)\n",
        "    else:\n",
        "        print(num3)\n",
        "        print(num2)\n",
        "elif (num2 >= num1) and (num2 >= num3):\n",
        "    print(num2)\n",
        "    if num1 >= num3:\n",
        "        print(num1)\n",
        "        print(num3)\n",
        "    else:\n",
        "        print(num3)\n",
        "        print(num1)\n",
        "else:\n",
        "    print(num3)\n",
        "    if num1 >= num2:\n",
        "        print(num1)\n",
        "        print(num2)\n",
        "    else:\n",
        "        print(num2)\n",
        "        print(num1)"
      ],
      "metadata": {
        "id": "pZJhWSWyogBR",
        "outputId": "6e3716b5-7784-4414-fcd9-fb27159294ef",
        "colab": {
          "base_uri": "https://localhost:8080/"
        }
      },
      "execution_count": null,
      "outputs": [
        {
          "output_type": "stream",
          "name": "stdout",
          "text": [
            "Ingrese el primer número: 65\n",
            "Ingrese el segundo número: 7\n",
            "Ingrese el tercer número: 9\n",
            "65\n",
            "9\n",
            "7\n"
          ]
        }
      ]
    },
    {
      "cell_type": "markdown",
      "source": [
        "7 -Escribe un programa que pregunte en qué turno estudia la persona usuaria (\"mañana\", \"tarde\" o \"noche\") y muestre el mensaje \"¡Buenos Días!\", \"¡Buenas Tardes!\", \"¡Buenas Noches!\" o \"Valor Inválido!\", según el caso."
      ],
      "metadata": {
        "id": "mV_snqONyKKi"
      }
    },
    {
      "cell_type": "code",
      "source": [
        "turno = input('Ingrese el turno que estudia: ')\n",
        "\n",
        "if turno == 'mañana':\n",
        "  print('¡Buenos dias!')\n",
        "elif turno == 'tarde':\n",
        "  print('¡Buenas tardes!')\n",
        "elif turno == 'noche':\n",
        "  print('¡Buenas noches!')"
      ],
      "metadata": {
        "id": "JuD7nZ3aZqgk",
        "outputId": "304a7fa0-a663-473f-a947-c6ebcd4d5381",
        "colab": {
          "base_uri": "https://localhost:8080/"
        }
      },
      "execution_count": null,
      "outputs": [
        {
          "output_type": "stream",
          "name": "stdout",
          "text": [
            "Ingrese el turno que estudia: noche\n",
            "¡Buenas noches!\n"
          ]
        }
      ]
    },
    {
      "cell_type": "markdown",
      "source": [
        "8 - Escribe un programa que solicite un número entero a la persona usuaria y determine si es par o impar. Pista: Puedes usar el operador módulo (%)."
      ],
      "metadata": {
        "id": "5nxLtRsiyVrD"
      }
    },
    {
      "cell_type": "code",
      "source": [
        "NuMero = int(input('Ingrese un numero: '))\n",
        "\n",
        "if NuMero % 2 == 0:\n",
        "  print('Es un numero par')\n",
        "else:\n",
        "  print('Es un numero impar')"
      ],
      "metadata": {
        "id": "TVcpxyROZqju",
        "outputId": "b6769947-75e9-479d-f008-b4ac5b9f198d",
        "colab": {
          "base_uri": "https://localhost:8080/"
        }
      },
      "execution_count": null,
      "outputs": [
        {
          "output_type": "stream",
          "name": "stdout",
          "text": [
            "Ingrese un numero: 3\n",
            "Es un numero impar\n"
          ]
        }
      ]
    },
    {
      "cell_type": "markdown",
      "source": [
        "9 - Escribe un programa que pida un número a la persona usuaria y le informe si es entero o decimal."
      ],
      "metadata": {
        "id": "kcyw1cnfyalE"
      }
    },
    {
      "cell_type": "code",
      "source": [
        "NUMERO = float(input('Ingrese un numero: '))\n",
        "\n",
        "if NUMERO == int(NUMERO):\n",
        "  print('Es un numero entero')\n",
        "else:\n",
        "  print('Es un numero decimal')"
      ],
      "metadata": {
        "id": "1270NvrvZqmy",
        "outputId": "4cf7780b-d92c-4010-90cc-4b8d3ed4eef0",
        "colab": {
          "base_uri": "https://localhost:8080/"
        }
      },
      "execution_count": null,
      "outputs": [
        {
          "output_type": "stream",
          "name": "stdout",
          "text": [
            "Ingrese un numero: 3.6\n",
            "Es un numero decimal\n"
          ]
        }
      ]
    },
    {
      "cell_type": "code",
      "source": [
        "# Recolectamos los datos\n",
        "num = float(input('Ingresa un número: '))\n",
        "# Verificamos si el número es entero o decimal según el resultado del módulo\n",
        "if num % 1 == 0:\n",
        "    print('El número es entero.')\n",
        "else:\n",
        "    print('El número es decimal.')"
      ],
      "metadata": {
        "id": "OHxnzPWqqWy4",
        "outputId": "e21d2983-88ca-46dc-80c6-4ddc567690db",
        "colab": {
          "base_uri": "https://localhost:8080/"
        }
      },
      "execution_count": null,
      "outputs": [
        {
          "output_type": "stream",
          "name": "stdout",
          "text": [
            "Ingresa un número: 3.7\n",
            "El número es decimal.\n"
          ]
        }
      ]
    },
    {
      "cell_type": "markdown",
      "source": [
        "# Momento de los proyectos\n",
        "\n"
      ],
      "metadata": {
        "id": "22OKyWDhyqrG"
      }
    },
    {
      "cell_type": "markdown",
      "source": [
        "10 - Un programa debe ser escrito para leer dos números y luego preguntar a la persona usuaria qué operación desea realizar. El resultado de la operación debe incluir información sobre el número, si es par o impar, positivo o negativo, e entero o decimal."
      ],
      "metadata": {
        "id": "C0M8HxJrzCzS"
      }
    },
    {
      "cell_type": "code",
      "source": [
        "\n",
        "\n"
      ],
      "metadata": {
        "id": "UtNrKjYhV4tE"
      },
      "execution_count": null,
      "outputs": []
    },
    {
      "cell_type": "code",
      "source": [
        "# Recolectamos los números a operar y solicitamos la operación deseada por el usuario\n",
        "num1 = float(input('Ingrese el primer número: '))\n",
        "num2 = float(input('Ingrese el segundo número: '))\n",
        "operación = input('Ingrese la operación deseada (+, -, *, /): ')\n",
        "\n",
        "# Verificamos la operación seleccionada y realizamos la operación matemática según la elección\n",
        "if operación == '+':\n",
        "    resultado = num1 + num2\n",
        "elif operación == '-':\n",
        "    resultado = num1 - num2\n",
        "elif operación == '*':\n",
        "    resultado = num1 * num2\n",
        "elif operación == '/':\n",
        "    resultado = num1 / num2\n",
        "else: # Especificamos un resultado en caso de que el usuario no ingrese una de las operaciones correctamente.\n",
        "    print('Operación no válida, el resultado de la operación será 0')\n",
        "    resultado = 0\n",
        "\n",
        "# Realizamos las mismas verificaciones que en preguntas anteriores para generar el informe del cálculo entre números\n",
        "if resultado % 1 == 0:\n",
        "    print('El resultado es un número entero.')\n",
        "else:\n",
        "    print('El resultado es un número decimal.')\n",
        "\n",
        "if  resultado > 0:\n",
        "    print('El resultado es positivo.')\n",
        "else:\n",
        "    print('El resultado es negativo.')\n",
        "\n",
        "if  resultado % 2 == 0:\n",
        "    print('El resultado es un número par.')\n",
        "else:\n",
        "    print('El resultado es un número impar.')"
      ],
      "metadata": {
        "id": "ALpBSC1WqyUE",
        "outputId": "250213a8-37e3-4df9-f376-e65ac26117ca",
        "colab": {
          "base_uri": "https://localhost:8080/"
        }
      },
      "execution_count": null,
      "outputs": [
        {
          "output_type": "stream",
          "name": "stdout",
          "text": [
            "Ingrese el primer número: 5\n",
            "Ingrese el segundo número: 8\n",
            "Ingrese la operación deseada (+, -, *, /): +\n",
            "El resultado es un número entero.\n",
            "El resultado es positivo.\n",
            "El resultado es un número impar.\n"
          ]
        }
      ]
    },
    {
      "cell_type": "markdown",
      "source": [
        "11 - Escribe un programa que pida a la persona usuaria tres números que representan los lados de un triángulo. El programa debe informar si los valores pueden utilizarse para formar un triángulo y, en caso afirmativo, si es equilátero, isósceles o escaleno. Ten en cuenta algunas sugerencias:\n",
        "\n",
        "Tres lados forman un triángulo cuando la suma de cualesquiera dos lados es mayor que el tercero;\n",
        "\n",
        "Triángulo Equilátero: tres lados iguales;\n",
        "\n",
        "Triángulo Isósceles: dos lados iguales;\n",
        "\n",
        "Triángulo Escaleno: tres lados diferentes."
      ],
      "metadata": {
        "id": "MIYHKyc9zImP"
      }
    },
    {
      "cell_type": "code",
      "source": [
        "numero_G = int(input('Ingrese el primer numero: '))\n",
        "numero_H = int(input('Ingrese el segundo numero: '))\n",
        "numero_I = int(input('Ingrese el tercer numero: '))\n",
        "\n",
        "if numero_G == numero_H == numero_I:\n",
        "  print('Se puede formar un triangulo y es un triangulo Equilatero')\n",
        "elif numero_G == numero_H != numero_I:\n",
        "  print('Se puede formar un triangulo y es un triangulo Isosceles')\n",
        "else:\n",
        "  print('Se puede formar un triangulo y es un triangulo Escaleno')"
      ],
      "metadata": {
        "id": "FVSMj90_zHMp",
        "outputId": "39083042-10fd-491d-b800-52dbe1d15217",
        "colab": {
          "base_uri": "https://localhost:8080/"
        }
      },
      "execution_count": null,
      "outputs": [
        {
          "output_type": "stream",
          "name": "stdout",
          "text": [
            "Ingrese el primer numero: 5\n",
            "Ingrese el segundo numero: 5\n",
            "Ingrese el tercer numero: 6\n",
            "Se puede formar un triangulo y es un triangulo Isosceles\n"
          ]
        }
      ]
    },
    {
      "cell_type": "code",
      "source": [
        "# Recolectamos los lados de un triángulo\n",
        "print('Estamos recopilando los lados de un triángulo.')\n",
        "lado1 = float(input('Ingresa la longitud del primer lado: '))\n",
        "lado2 = float(input('Ingresa la longitud del segundo lado: '))\n",
        "lado3 = float(input('Ingresa la longitud del tercer lado: '))\n",
        "\n",
        "# Verificamos si los lados pueden formar un triángulo\n",
        "if (lado1 + lado2 > lado3) and (lado2 + lado3 > lado1) and (lado1 + lado3 > lado2):\n",
        "    print('¡Los valores pueden formar un triángulo!')\n",
        "    # Comparamos los lados para determinar el tipo de triángulo\n",
        "    if (lado1 == lado2) and (lado2 == lado3):\n",
        "        print('El triángulo es equilátero.')\n",
        "    elif (lado1 != lado2) and (lado2 != lado3) and (lado1 != lado3):\n",
        "        print('El triángulo es escaleno.')\n",
        "    else:\n",
        "        print('El triángulo es isósceles.')\n",
        "else:\n",
        "    print('¡Los valores no pueden formar un triángulo!')"
      ],
      "metadata": {
        "id": "wnLK7eoZrXzt",
        "outputId": "f7235214-30b3-4078-dd88-9a89a284ad32",
        "colab": {
          "base_uri": "https://localhost:8080/"
        }
      },
      "execution_count": null,
      "outputs": [
        {
          "output_type": "stream",
          "name": "stdout",
          "text": [
            "Estamos recopilando los lados de un triángulo.\n",
            "Ingresa la longitud del primer lado: 5\n",
            "Ingresa la longitud del segundo lado: 5\n",
            "Ingresa la longitud del tercer lado: 7\n",
            "¡Los valores pueden formar un triángulo!\n",
            "El triángulo es isósceles.\n"
          ]
        }
      ]
    },
    {
      "cell_type": "markdown",
      "source": [
        "12 - Un establecimiento está vendiendo combustibles con descuentos variables. Para el etanol, si la cantidad comprada es de hasta 15 litros, el descuento será del 2% por litro. En caso contrario, será del 4% por litro. Para el diésel, si la cantidad comprada es de hasta 15 litros, el descuento será del 3% por litro. En caso contrario, será del 5% por litro. El precio por litro de diésel es de R$200,  y,\n",
        "el,  precio, por, litro, de, etanol, es, de, R$ 1,70. Escribe un programa que lea la cantidad de litros vendidos y el tipo de combustible (E para etanol y D para diésel) y calcule el valor a pagar por el cliente. Ten en cuenta algunas sugerencias:\n",
        "\n",
        "El valor del descuento será el producto del precio por litro, la cantidad de litros y el valor del descuento.\n",
        "\n",
        "El valor a pagar por un cliente será el resultado de la multiplicación del precio por litro por la cantidad de litros menos el valor del descuento resultante del cálculo."
      ],
      "metadata": {
        "id": "osPGaJc8zywx"
      }
    },
    {
      "cell_type": "code",
      "source": [],
      "metadata": {
        "id": "-5qeIdjVzHb4"
      },
      "execution_count": null,
      "outputs": []
    },
    {
      "cell_type": "code",
      "source": [
        "# Recolectamos la cantidad de litros y el tipo de combustible,\n",
        "# convirtiendo el carácter en mayúsculas para facilitar nuestro análisis\n",
        "cantidad_litros = float(input('Ingrese la cantidad de litros vendidos: '))\n",
        "tipo_combustible = input('Ingrese el tipo de combustible (E para etanol y D para diésel): ').upper()\n",
        "\n",
        "# Verificamos primero el tipo de combustible\n",
        "if tipo_combustible == 'E':\n",
        "  # Establecemos el precio por litro de etanol\n",
        "  precio_litro = 1.70\n",
        "  # Según la cantidad de litros, establecemos el descuento correspondiente\n",
        "  if cantidad_litros <= 15:\n",
        "    descuento = 0.02\n",
        "  else:\n",
        "    descuento = 0.04\n",
        "elif tipo_combustible == 'D':\n",
        "  # Establecemos el precio por litro de diésel\n",
        "  precio_litro = 2.00\n",
        "  # Según la cantidad de litros, establecemos el descuento correspondiente\n",
        "  if cantidad_litros <= 15:\n",
        "    descuento = 0.03\n",
        "  else:\n",
        "    descuento = 0.05\n",
        "# En caso de error en la especificación del tipo de combustible,\n",
        "# consideramos las entradas como no válidas y establecemos los precios y descuentos en 0\n",
        "else:\n",
        "    print('Entradas no válidas!')\n",
        "    precio_litro = 0\n",
        "    descuento = 0\n",
        "\n",
        "# Calculamos el valor del descuento, seguido del cálculo del precio descontado\n",
        "valor_descuento = precio_litro * cantidad_litros * descuento\n",
        "valor_pagado = precio_litro * cantidad_litros - valor_descuento\n",
        "\n",
        "# Resultado\n",
        "print(f'Valor a pagar por el cliente: R$ {valor_pagado}')"
      ],
      "metadata": {
        "id": "RYDr_5aVsH36",
        "outputId": "c90af2ab-97bf-4b61-dc01-a521bcf0d9bf",
        "colab": {
          "base_uri": "https://localhost:8080/"
        }
      },
      "execution_count": null,
      "outputs": [
        {
          "output_type": "stream",
          "name": "stdout",
          "text": [
            "Ingrese la cantidad de litros vendidos: 5\n",
            "Ingrese el tipo de combustible (E para etanol y D para diésel): E\n",
            "Valor a pagar por el cliente: R$ 8.33\n"
          ]
        }
      ]
    },
    {
      "cell_type": "markdown",
      "source": [
        "13 - En una empresa de venta de bienes raíces, debes crear un código que analice los datos de ventas anuales para ayudar a la dirección en la toma de decisiones. El código debe recopilar los datos de cantidad de ventas durante los años 2022 y 2023 y calcular la variación porcentual. A partir del valor de la variación, se deben proporcionar las siguientes sugerencias:\n",
        "\n",
        "Para una variación superior al 20%: bonificación para el equipo de ventas.\n",
        "\n",
        "Para una variación entre el 2% y el 20%: pequeña bonificación para el equipo de ventas.\n",
        "\n",
        "Para una variación entre el 2% y el -10%: planificación de políticas de incentivo a las ventas.\n",
        "\n",
        "Para bonificaciones inferiores al -10%: recorte de gastos."
      ],
      "metadata": {
        "id": "15pYHFRQ0-AX"
      }
    },
    {
      "cell_type": "code",
      "source": [
        "bienes_raices_2022 = int(input('Ingrese la cantidad de bienes raíces en 2022: '))\n",
        "bienes_raices_2023 = int(input('Ingrese la cantidad de bienes raíces en 2023: '))\n",
        "\n",
        "variacion = ((bienes_raices_2023 - bienes_raices_2022) / bienes_raices_2022) * 100\n",
        "\n",
        "if variacion > 20:\n",
        "  print('Bonificacion para el equipo de ventas')\n",
        "elif 20 >= variacion > 2:\n",
        "  print('Pequeña bonificacion para el equipo de ventas')\n",
        "elif 2 >= variacion > -10:\n",
        "  print('Planificacion de politicas de incentivo a las ventas')\n",
        "else:\n",
        "  print('Recorte de gastos2')\n"
      ],
      "metadata": {
        "id": "4Kl3P8OO1E17",
        "outputId": "51c1e3a4-13fe-4176-b88c-04be63e66f7a",
        "colab": {
          "base_uri": "https://localhost:8080/"
        }
      },
      "execution_count": null,
      "outputs": [
        {
          "output_type": "stream",
          "name": "stdout",
          "text": [
            "Ingrese la cantidad de bienes raíces en 2022: 20\n",
            "Ingrese la cantidad de bienes raíces en 2023: 20\n",
            "Planificacion de politicas de incentivo a las ventas\n"
          ]
        }
      ]
    },
    {
      "cell_type": "code",
      "source": [
        "# Recolectamos las ventas de los dos años\n",
        "venta_2022 = float(input('Ingrese la cantidad de ventas en 2022: '))\n",
        "venta_2023 = float(input('Ingrese la cantidad de ventas en 2023: '))\n",
        "\n",
        "# Calculamos la variación porcentual entre las ventas de los años 2022 y 2023\n",
        "var_porcentual = 100 * (venta_2023 - venta_2022) / (venta_2022)\n",
        "\n",
        "# Análisis condicional de la variación porcentual para determinar la sugerencia a enviar\n",
        "if var_porcentual > 20:\n",
        "    print('Bonificación para el equipo de ventas.')\n",
        "elif 2 <= var_porcentual <= 20:\n",
        "    print('Pequeña bonificación para el equipo de ventas.')\n",
        "elif -10 <= var_porcentual < 2:\n",
        "    print('Planificación de políticas de incentivo a las ventas.')\n",
        "else:\n",
        "    print('Recorte de gastos.')"
      ],
      "metadata": {
        "id": "Rca8KEpSr3JZ",
        "outputId": "e62064f3-d3a4-419b-945a-b105d3fdce2a",
        "colab": {
          "base_uri": "https://localhost:8080/"
        }
      },
      "execution_count": null,
      "outputs": [
        {
          "output_type": "stream",
          "name": "stdout",
          "text": [
            "Ingrese la cantidad de ventas en 2022: 20\n",
            "Ingrese la cantidad de ventas en 2023: 20\n",
            "Planificación de políticas de incentivo a las ventas.\n"
          ]
        }
      ]
    },
    {
      "cell_type": "markdown",
      "source": [
        "# Estructuras de repetición"
      ],
      "metadata": {
        "id": "aL1vJPewvwvz"
      }
    },
    {
      "cell_type": "markdown",
      "source": [
        "Cuando tenemos que ejecutar un mismo bloque de comandos durante varias ocasiones no es nada práctico hacerlo a mano.\n",
        "\n",
        "**Situación**: Nos fue solicitado obtener e imprimir el promedio de 2 notas de **3 estudantes**:"
      ],
      "metadata": {
        "id": "VcPfCa8d-84t"
      }
    },
    {
      "cell_type": "code",
      "source": [
        "nota_1 = float(input('Digite la primera nota: '))\n",
        "nota_2 = float(input('Digite la segunda nota: '))\n",
        "print(f'El promedio del estudiante 1 es: {(nota_1 + nota_2) / 2}')\n",
        "\n",
        "nota_1 = float(input('Digite la primera nota: '))\n",
        "nota_2 = float(input('Digite la segunda nota: '))\n",
        "print(f'El promedio del estudiante 2 es: {(nota_1 + nota_2) / 2}')\n",
        "\n",
        "nota_1 = float(input('Digite la primera nota: '))\n",
        "nota_2 = float(input('Digite la segunda nota: '))\n",
        "print(f'El promedio del estudiante 3 es: {(nota_1 + nota_2) / 2}')"
      ],
      "metadata": {
        "id": "xcx21IGT9qA0",
        "outputId": "e562c941-688b-42d1-cd04-b28bc42ebb49",
        "colab": {
          "base_uri": "https://localhost:8080/"
        }
      },
      "execution_count": null,
      "outputs": [
        {
          "output_type": "stream",
          "name": "stdout",
          "text": [
            "Digite la primera nota: 9.7\n",
            "Digite la segunda nota: 7.8\n",
            "El promedio del estudiante 1 es: 8.75\n",
            "Digite la primera nota: 6.5\n",
            "Digite la segunda nota: 3.5\n",
            "El promedio del estudiante 2 es: 5.0\n",
            "Digite la primera nota: 7\n",
            "Digite la segunda nota: 8.5\n",
            "El promedio del estudiante 3 es: 7.75\n"
          ]
        }
      ]
    },
    {
      "cell_type": "markdown",
      "source": [
        "Ahora imaginemos una situación en que no son tan solo 3 estudiantes, sino 100 estudiantes. No sería nada interesante repetir el mismo código 100 veces, sino **ejecutar el mismo código 100 veces**.\n",
        "\n",
        "¡Esta estructura la logramos construir con lazos de repetición!"
      ],
      "metadata": {
        "id": "9puIuvUbFSFX"
      }
    },
    {
      "cell_type": "markdown",
      "source": [
        "## `WHILE`"
      ],
      "metadata": {
        "id": "uLO9-aE4-wx8"
      }
    },
    {
      "cell_type": "markdown",
      "source": [
        "El lazo `while` es una estructura de control de repetición en Python que permite ejecutar un bloque de código repetidamente mientras que una determinada condición sea verdadera. Su estructura es:\n",
        "\n",
        "\n",
        "\n",
        "```\n",
        "while condicion:\n",
        "    # bloque de codigo\n",
        "```\n",
        "\n",
        "Vamos a construir un ejemplo con un contador de 1 hasta 10.\n"
      ],
      "metadata": {
        "id": "rXZxDMiqHxm9"
      }
    },
    {
      "cell_type": "code",
      "source": [
        "contador = 1\n",
        "while contador <= 10:\n",
        "  print(contador)\n",
        "  contador += 1"
      ],
      "metadata": {
        "id": "Hd0ZSWxD9wCD",
        "outputId": "9d61fb67-acd9-449f-c4f4-51f7479b845c",
        "colab": {
          "base_uri": "https://localhost:8080/"
        }
      },
      "execution_count": null,
      "outputs": [
        {
          "output_type": "stream",
          "name": "stdout",
          "text": [
            "1\n",
            "2\n",
            "3\n",
            "4\n",
            "5\n",
            "6\n",
            "7\n",
            "8\n",
            "9\n",
            "10\n"
          ]
        }
      ]
    },
    {
      "cell_type": "code",
      "source": [
        "contado_1 = 30\n",
        "while contado_1 >= 1:\n",
        "  print(contado_1)\n",
        "  contado_1 -= 1"
      ],
      "metadata": {
        "id": "miFHNqp29nOL",
        "outputId": "d5686955-d6d1-4b53-e647-a92fa84401fa",
        "colab": {
          "base_uri": "https://localhost:8080/"
        }
      },
      "execution_count": null,
      "outputs": [
        {
          "output_type": "stream",
          "name": "stdout",
          "text": [
            "30\n",
            "29\n",
            "28\n",
            "27\n",
            "26\n",
            "25\n",
            "24\n",
            "23\n",
            "22\n",
            "21\n",
            "20\n",
            "19\n",
            "18\n",
            "17\n",
            "16\n",
            "15\n",
            "14\n",
            "13\n",
            "12\n",
            "11\n",
            "10\n",
            "9\n",
            "8\n",
            "7\n",
            "6\n",
            "5\n",
            "4\n",
            "3\n",
            "2\n",
            "1\n"
          ]
        }
      ]
    },
    {
      "cell_type": "code",
      "source": [
        "contador_2 = 30\n",
        "while contador_2 <= 100:\n",
        "  print(contador_2)\n",
        "  contador_2 += 1"
      ],
      "metadata": {
        "id": "AAUzJ8n2D15v",
        "outputId": "7bbdd989-a3ad-4147-e572-25579d129a77",
        "colab": {
          "base_uri": "https://localhost:8080/"
        }
      },
      "execution_count": null,
      "outputs": [
        {
          "output_type": "stream",
          "name": "stdout",
          "text": [
            "30\n",
            "31\n",
            "32\n",
            "33\n",
            "34\n",
            "35\n",
            "36\n",
            "37\n",
            "38\n",
            "39\n",
            "40\n",
            "41\n",
            "42\n",
            "43\n",
            "44\n",
            "45\n",
            "46\n",
            "47\n",
            "48\n",
            "49\n",
            "50\n",
            "51\n",
            "52\n",
            "53\n",
            "54\n",
            "55\n",
            "56\n",
            "57\n",
            "58\n",
            "59\n",
            "60\n",
            "61\n",
            "62\n",
            "63\n",
            "64\n",
            "65\n",
            "66\n",
            "67\n",
            "68\n",
            "69\n",
            "70\n",
            "71\n",
            "72\n",
            "73\n",
            "74\n",
            "75\n",
            "76\n",
            "77\n",
            "78\n",
            "79\n",
            "80\n",
            "81\n",
            "82\n",
            "83\n",
            "84\n",
            "85\n",
            "86\n",
            "87\n",
            "88\n",
            "89\n",
            "90\n",
            "91\n",
            "92\n",
            "93\n",
            "94\n",
            "95\n",
            "96\n",
            "97\n",
            "98\n",
            "99\n",
            "100\n"
          ]
        }
      ]
    },
    {
      "cell_type": "markdown",
      "source": [
        "Ahora vamos a colectar las notas y promedios de cada alumno dentro del lazo `while`. Haremos un ejemplo con 3 promedios."
      ],
      "metadata": {
        "id": "W4KZPBJuIrut"
      }
    },
    {
      "cell_type": "code",
      "source": [
        "contador = 1\n",
        "while contador <= 3:\n",
        "  nota_1 = float(input('Digite la primera nota: '))\n",
        "  nota_2 = float(input('Digite la segunda nota: '))\n",
        "  print(f'El promedio es: {(nota_1 + nota_2) / 2}')\n",
        "\n",
        "  contador += 1"
      ],
      "metadata": {
        "id": "9T5eCLFx9wk6",
        "outputId": "531a5ace-6b57-40bc-d397-13c3f85a6b18",
        "colab": {
          "base_uri": "https://localhost:8080/"
        }
      },
      "execution_count": null,
      "outputs": [
        {
          "output_type": "stream",
          "name": "stdout",
          "text": [
            "Digite la primera nota: 6.7\n",
            "Digite la segunda nota: 8.9\n",
            "El promedio es: 7.800000000000001\n",
            "Digite la primera nota: 9.9\n",
            "Digite la segunda nota: 10\n",
            "El promedio es: 9.95\n",
            "Digite la primera nota: 9.7\n",
            "Digite la segunda nota: 8.5\n",
            "El promedio es: 9.1\n"
          ]
        }
      ]
    },
    {
      "cell_type": "code",
      "source": [
        "contador_3 = 1\n",
        "while contador_3 <= 5:\n",
        "  nota_16 = float(input('Digite la primera nota: '))\n",
        "  nota_26 = float(input('Digite la segunda nota: '))\n",
        "  print(f'El promedio es: {(nota_16 + nota_26) / 2}')\n",
        "\n",
        "  contador_3 += 1"
      ],
      "metadata": {
        "id": "P6E0_dW-9lZ9",
        "outputId": "1412dcf2-793b-4c51-d600-53281e8eda4d",
        "colab": {
          "base_uri": "https://localhost:8080/"
        }
      },
      "execution_count": null,
      "outputs": [
        {
          "output_type": "stream",
          "name": "stdout",
          "text": [
            "Digite la primera nota: 8\n",
            "Digite la segunda nota: 8\n",
            "El promedio es: 8.0\n",
            "Digite la primera nota: 9\n",
            "Digite la segunda nota: 8\n",
            "El promedio es: 8.5\n",
            "Digite la primera nota: 9\n",
            "Digite la segunda nota: 9.7\n",
            "El promedio es: 9.35\n",
            "Digite la primera nota: 3.5\n",
            "Digite la segunda nota: 8.5\n",
            "El promedio es: 6.0\n",
            "Digite la primera nota: 4.9\n",
            "Digite la segunda nota: 10\n",
            "El promedio es: 7.45\n"
          ]
        }
      ]
    },
    {
      "cell_type": "markdown",
      "source": [
        "## `FOR`"
      ],
      "metadata": {
        "id": "WgAIaENMMfCP"
      }
    },
    {
      "cell_type": "markdown",
      "source": [
        "El lazo `for` es un tipo de estructura de control de flujo en Python que permite iterar sobre un conjunto de elementos. Su estructura es:\n",
        "\n",
        "\n",
        "\n",
        "```\n",
        "for elemento in conjunto:\n",
        "    # codigo a ser ejecutado para cada elemento\n",
        "```\n",
        "\n",
        "El lazo `for` itera sobre cada elemento del conjunto especificado y ejecuta el bloque de código dentro del lazo para cada elemento. Cuando el lazo llega al final del conjunto, este se interrumpe y el programa continúa la ejecución después del lazo.\n",
        "\n"
      ],
      "metadata": {
        "id": "HxrSZoRAMh-x"
      }
    },
    {
      "cell_type": "markdown",
      "source": [
        "El conjunto lo podemos generar con la función incorporada [`range()`](https://docs.python.org/3/library/functions.html#func-range). Se trata de una función capaz de generar una secuencia de números enteros. La estructura de esta función es:\n",
        "\n",
        "```\n",
        "range(inicio, fin, paso)\n",
        "```\n",
        "\n",
        "Según la documentación, `range()` genera una secuencia de números enteros a partir del valor del parámetro `inicio` hasta el valor del parámetro `fin`, de acuerdo con el valor del parámetro `paso`. Si `inicio` no es especificado, el valor por defecto es `0`. Si `paso` no es especificado, el valor por defecto es `1`.\n",
        "\n",
        "\n"
      ],
      "metadata": {
        "id": "6VgjyoQtPHBM"
      }
    },
    {
      "cell_type": "markdown",
      "source": [
        "Vamos a recrear el mismo contador `while` con el lazo `for`."
      ],
      "metadata": {
        "id": "ryn0hfdlUwC8"
      }
    },
    {
      "cell_type": "code",
      "source": [
        "for n in range(1,11):\n",
        "  print(n)\n"
      ],
      "metadata": {
        "id": "KkL1wUIj9jL4",
        "outputId": "793a6546-d593-4d95-be36-4565f6aabe90",
        "colab": {
          "base_uri": "https://localhost:8080/"
        }
      },
      "execution_count": null,
      "outputs": [
        {
          "output_type": "stream",
          "name": "stdout",
          "text": [
            "1\n",
            "2\n",
            "3\n",
            "4\n",
            "5\n",
            "6\n",
            "7\n",
            "8\n",
            "9\n",
            "10\n"
          ]
        }
      ]
    },
    {
      "cell_type": "code",
      "source": [
        "for n in range(1, 21, 2):\n",
        "   print(n)"
      ],
      "metadata": {
        "id": "HX_CjVjHGsAZ",
        "outputId": "8502e99d-9bbc-4607-a46c-59e8b92cdd72",
        "colab": {
          "base_uri": "https://localhost:8080/"
        }
      },
      "execution_count": null,
      "outputs": [
        {
          "output_type": "stream",
          "name": "stdout",
          "text": [
            "1\n",
            "3\n",
            "5\n",
            "7\n",
            "9\n",
            "11\n",
            "13\n",
            "15\n",
            "17\n",
            "19\n"
          ]
        }
      ]
    },
    {
      "cell_type": "code",
      "source": [
        "for n in range(30, 0, -1):\n",
        "   print(n)"
      ],
      "metadata": {
        "id": "UBcCB-FcHYMF",
        "outputId": "50c4a718-ea06-40b3-906c-bddd0f2de8cf",
        "colab": {
          "base_uri": "https://localhost:8080/"
        }
      },
      "execution_count": null,
      "outputs": [
        {
          "output_type": "stream",
          "name": "stdout",
          "text": [
            "30\n",
            "29\n",
            "28\n",
            "27\n",
            "26\n",
            "25\n",
            "24\n",
            "23\n",
            "22\n",
            "21\n",
            "20\n",
            "19\n",
            "18\n",
            "17\n",
            "16\n",
            "15\n",
            "14\n",
            "13\n",
            "12\n",
            "11\n",
            "10\n",
            "9\n",
            "8\n",
            "7\n",
            "6\n",
            "5\n",
            "4\n",
            "3\n",
            "2\n",
            "1\n"
          ]
        }
      ]
    },
    {
      "cell_type": "code",
      "source": [
        "for e in range(1,4):\n",
        "   nota_1 = float(input('Digite la primera nota: '))\n",
        "   nota_2 = float(input('Digite la segunda nota: '))\n",
        "   print(f'El promedio es: {(nota_1 + nota_2) / 2}')"
      ],
      "metadata": {
        "id": "uXIZnLSr9jOu",
        "outputId": "576b521f-24d6-4e07-ddc3-4c31f07ea45d",
        "colab": {
          "base_uri": "https://localhost:8080/"
        }
      },
      "execution_count": null,
      "outputs": [
        {
          "output_type": "stream",
          "name": "stdout",
          "text": [
            "Digite la primera nota: 5.5\n",
            "Digite la segunda nota: 6.9\n",
            "El promedio es: 6.2\n",
            "Digite la primera nota: 8.9\n",
            "Digite la segunda nota: 9\n",
            "El promedio es: 8.95\n",
            "Digite la primera nota: 8.8\n",
            "Digite la segunda nota: 9.8\n",
            "El promedio es: 9.3\n"
          ]
        }
      ]
    },
    {
      "cell_type": "code",
      "source": [
        "for i in range(1, 6):\n",
        "    if i == 4:\n",
        "        continue\n",
        "    print(i)"
      ],
      "metadata": {
        "id": "x9Ra1u8pIhJM",
        "outputId": "64972d5f-e49b-4d6e-d3f5-fd3bfa3bf02a",
        "colab": {
          "base_uri": "https://localhost:8080/"
        }
      },
      "execution_count": null,
      "outputs": [
        {
          "output_type": "stream",
          "name": "stdout",
          "text": [
            "1\n",
            "2\n",
            "3\n",
            "5\n"
          ]
        }
      ]
    },
    {
      "cell_type": "markdown",
      "source": [
        "# Practica 4"
      ],
      "metadata": {
        "id": "XA-MBOjmJDnF"
      }
    },
    {
      "cell_type": "markdown",
      "source": [
        "Entrenando la programación"
      ],
      "metadata": {
        "id": "EupO3LGTJJK9"
      }
    },
    {
      "cell_type": "markdown",
      "source": [
        "1 - Escribe un programa que solicite dos números enteros e imprima todos los números enteros entre ellos."
      ],
      "metadata": {
        "id": "DWsWCta1JNnR"
      }
    },
    {
      "cell_type": "code",
      "source": [
        "nummero_100 = int(input('Ingrese el primer numero: '))\n",
        "nummero_200 = int(input('Ingrese el segundo numero: '))\n",
        "\n",
        "for i in range(nummero_100, nummero_200):\n",
        "  print(i)"
      ],
      "metadata": {
        "id": "0OmVegHnvOtE",
        "outputId": "0184b20c-364e-47e4-818f-437240a7354b",
        "colab": {
          "base_uri": "https://localhost:8080/"
        }
      },
      "execution_count": null,
      "outputs": [
        {
          "output_type": "stream",
          "name": "stdout",
          "text": [
            "Ingrese el primer numero: 1\n",
            "Ingrese el segundo numero: 6\n",
            "1\n",
            "2\n",
            "3\n",
            "4\n",
            "5\n"
          ]
        }
      ]
    },
    {
      "cell_type": "code",
      "source": [
        "# Recolectamos los valores de inicio y fin\n",
        "inicio = int(input('Ingresa el primer número entero: '))\n",
        "fin = int(input('Ingresa el segundo número entero: '))\n",
        "\n",
        "# Verificamos si el valor de inicio es menor que el fin\n",
        "if inicio < fin:\n",
        "  # Podemos imprimir los enteros entre el valor menor y el valor mayor\n",
        "  for i in range(inicio + 1, fin):\n",
        "    print(i)\n",
        "elif inicio > fin:\n",
        "  for i in range(fin + 1, inicio):\n",
        "    print(i)\n",
        "else: # En caso de que los números sean iguales, no podemos imprimir ninguna secuencia.\n",
        "  print('Los números son iguales.')"
      ],
      "metadata": {
        "id": "piyfT7Z1gAL_",
        "outputId": "bdfd6eea-0458-4fb8-bac1-ed8b6e21ad0a",
        "colab": {
          "base_uri": "https://localhost:8080/"
        }
      },
      "execution_count": null,
      "outputs": [
        {
          "output_type": "stream",
          "name": "stdout",
          "text": [
            "Ingresa el primer número entero: 1\n",
            "Ingresa el segundo número entero: 6\n",
            "2\n",
            "3\n",
            "4\n",
            "5\n"
          ]
        }
      ]
    },
    {
      "cell_type": "markdown",
      "source": [
        "2 - Escribe un programa para calcular cuántos días tomará que la colonia de una bacteria A supere o iguale a la colonia de una bacteria B, basado en tasas de crecimiento del 3% y 1.5%, respectivamente. Supón que la colonia A comienza con 4 elementos y B con 10."
      ],
      "metadata": {
        "id": "fAF70dbtJRtm"
      }
    },
    {
      "cell_type": "code",
      "source": [
        "colonia_A = 4\n",
        "colonia_B = 10\n",
        "dias = 0\n",
        "\n",
        "while colonia_A <= colonia_B:\n",
        "  colonia_A *= 1.03\n",
        "  colonia_B *= 1.015\n",
        "  dias += 1\n",
        "\n",
        "print(f'Tomará {dias} días para que la colonia A supere a la colonia B.')"
      ],
      "metadata": {
        "id": "7LD5-kMqx8BO",
        "outputId": "c2444099-f706-4969-dd06-72319bb9db8d",
        "colab": {
          "base_uri": "https://localhost:8080/"
        }
      },
      "execution_count": null,
      "outputs": [
        {
          "output_type": "stream",
          "name": "stdout",
          "text": [
            "Tomará 63 días para que la colonia A supere a la colonia B.\n"
          ]
        }
      ]
    },
    {
      "cell_type": "code",
      "source": [
        "# Número inicial de bacterias\n",
        "colonia_a = 4\n",
        "colonia_b = 10\n",
        "\n",
        "# Tasas de crecimiento de las colonias\n",
        "tasa_a = 0.03\n",
        "tasa_b = 0.015\n",
        "\n",
        "# Contador de días\n",
        "días = 0\n",
        "\n",
        "# La condición que termina el bucle es cuando\n",
        "# la colonia A supera a la colonia B\n",
        "while colonia_a <= colonia_b:\n",
        "  # Usamos un operador de asignación con multiplicación\n",
        "  colonia_a *= 1 + tasa_a\n",
        "  colonia_b *= 1 + tasa_b\n",
        "  # Contamos los días en cada iteración\n",
        "  días += 1\n",
        "\n",
        "# Resultado final\n",
        "print(f'Necesitará {días} días para que la colonia A supere a la colonia B.')"
      ],
      "metadata": {
        "id": "QLxydWM_gU7K",
        "outputId": "e9ff2669-f4a3-4d23-9e35-f1b6e9e78e43",
        "colab": {
          "base_uri": "https://localhost:8080/"
        }
      },
      "execution_count": null,
      "outputs": [
        {
          "output_type": "stream",
          "name": "stdout",
          "text": [
            "Necesitará 63 días para que la colonia A supere a la colonia B.\n"
          ]
        }
      ]
    },
    {
      "cell_type": "markdown",
      "source": [
        "3 - Para procesar una cantidad de 15 datos de evaluaciones de usuarios de un servicio de la empresa, necesitamos verificar si las calificaciones son válidas. Por lo tanto, escribe un programa que recibirá calificaciones del 0 al 5 y verificará si son valores válidos. Si se ingresa una calificación superior a 5 o inferior a 0, se repetirá hasta que el usuario ingrese un valor válido."
      ],
      "metadata": {
        "id": "9U1xShtYJYIp"
      }
    },
    {
      "cell_type": "code",
      "source": [
        "evaluacion = int(input('Ingrese el dato: '))\n",
        "\n",
        "while evaluacion > 5 or evaluacion < 0:\n",
        "  print('Dato invalido')\n",
        "  evaluacion = int(input('Ingrese el dato: '))\n",
        "\n",
        "print('Dato Valido')"
      ],
      "metadata": {
        "id": "cLc5Zs3HJZN2",
        "outputId": "d79970e1-0ac9-473c-bb97-8a1cb7372adb",
        "colab": {
          "base_uri": "https://localhost:8080/"
        }
      },
      "execution_count": null,
      "outputs": [
        {
          "output_type": "stream",
          "name": "stdout",
          "text": [
            "Ingrese el dato: -3\n",
            "Dato invalido\n",
            "Ingrese el dato: 4\n",
            "Dato Valido\n"
          ]
        }
      ]
    },
    {
      "cell_type": "code",
      "source": [
        "# Bucle para recopilar las 15 notas\n",
        "for i in range(15):\n",
        "  nota = float(input(f'Ingresa la nota del usuario {i}: '))\n",
        "\n",
        "\n",
        "  # Verifica si la nota está entre 0 y 5\n",
        "  # Si no lo está, el bucle se repetirá hasta que se obtenga un valor válido\n",
        "  while (nota < 0) or (nota > 5):\n",
        "    nota = float(input(f'Nota no válida, ingresa nuevamente la nota del usuario {i}: '))\n",
        "\n",
        "print('Verificación completa. Todas las notas son válidas.')"
      ],
      "metadata": {
        "id": "u2am4ezOgkgv",
        "outputId": "039d1247-4b58-47ad-fc20-d5de223f4298",
        "colab": {
          "base_uri": "https://localhost:8080/"
        }
      },
      "execution_count": null,
      "outputs": [
        {
          "output_type": "stream",
          "name": "stdout",
          "text": [
            "Ingresa la nota del usuario 0: 4\n",
            "Ingresa la nota del usuario 1: 5\n",
            "Ingresa la nota del usuario 2: 5\n",
            "Ingresa la nota del usuario 3: 5\n",
            "Ingresa la nota del usuario 4: 5\n",
            "Ingresa la nota del usuario 5: 5\n",
            "Ingresa la nota del usuario 6: 5\n",
            "Ingresa la nota del usuario 7: 5\n",
            "Ingresa la nota del usuario 8: 5\n",
            "Ingresa la nota del usuario 9: 5\n",
            "Ingresa la nota del usuario 10: 5\n",
            "Ingresa la nota del usuario 11: 6\n",
            "Nota no válida, ingresa nuevamente la nota del usuario 11: 5\n",
            "Ingresa la nota del usuario 12: 5\n",
            "Ingresa la nota del usuario 13: 5\n",
            "Ingresa la nota del usuario 14: 5\n",
            "Verificación completa. Todas las notas son válidas.\n"
          ]
        }
      ]
    },
    {
      "cell_type": "markdown",
      "source": [
        "4 - Desarrolla un programa que lea un conjunto indefinido de temperaturas en grados Celsius y calcule su promedio. La lectura debe detenerse al ingresar el valor -273°C."
      ],
      "metadata": {
        "id": "ncWQx6ACJldd"
      }
    },
    {
      "cell_type": "code",
      "source": [
        "temperatura = float(input('Ingrese la temperatura en grados Celsius: '))\n",
        "temperatura_total = 0\n",
        "contador = 0\n",
        "\n",
        "while temperatura != -273:\n",
        "  temperatura_total += temperatura\n",
        "  contador += 1\n",
        "  temperatura = float(input('Ingrese la temperatura en grados Celsius: '))\n",
        "\n",
        "promedio = temperatura_total / contador\n"
      ],
      "metadata": {
        "id": "x_2K8RWSJZhj",
        "outputId": "91de0b87-ee7c-47cd-d06d-c56c9ffe9202",
        "colab": {
          "base_uri": "https://localhost:8080/"
        }
      },
      "execution_count": null,
      "outputs": [
        {
          "name": "stdout",
          "output_type": "stream",
          "text": [
            "Ingrese la temperatura en grados Celsius: -70\n",
            "Ingrese la temperatura en grados Celsius: 30\n",
            "Ingrese la temperatura en grados Celsius: 80\n",
            "Ingrese la temperatura en grados Celsius: -273\n"
          ]
        }
      ]
    },
    {
      "cell_type": "code",
      "source": [
        "# Recopilamos la temperatura\n",
        "temperatura = float(input('Ingresa la temperatura en grados Celsius: '))\n",
        "\n",
        "# Inicializamos un contador y una suma para calcular el promedio\n",
        "contador = 0\n",
        "suma = 0\n",
        "\n",
        "# Nuestro código se ejecuta hasta que el valor de temperatura sea igual a -273\n",
        "while temperatura != -273:\n",
        "    # La suma se actualiza sumando la temperatura a la variable suma\n",
        "    suma += temperatura\n",
        "    # Contamos la cantidad de valores recopilados con el contador\n",
        "    contador += 1\n",
        "    # Recopilamos nuevamente la temperatura\n",
        "    temperatura = float(input('Ingresa la temperatura en grados Celsius: '))\n",
        "\n",
        "promedio = suma / contador\n",
        "\n",
        "print(f'El promedio de las temperaturas es: {promedio}')"
      ],
      "metadata": {
        "id": "KWuYgdOAhiC9",
        "outputId": "19111201-0292-4498-fd72-47b74b577d6d",
        "colab": {
          "base_uri": "https://localhost:8080/"
        }
      },
      "execution_count": null,
      "outputs": [
        {
          "output_type": "stream",
          "name": "stdout",
          "text": [
            "Ingresa la temperatura en grados Celsius: 5\n",
            "Ingresa la temperatura en grados Celsius: -273\n",
            "El promedio de las temperaturas es: 5.0\n"
          ]
        }
      ]
    },
    {
      "cell_type": "markdown",
      "source": [
        "5 - Escribe un programa que calcule el factorial de un número entero proporcionado por el usuario. Recuerda que el factorial de un número entero es el producto de ese número por todos sus antecesores hasta llegar al número 1. Por ejemplo, el factorial de 5 es 5 x 4 x 3 x 2 x 1 = 120."
      ],
      "metadata": {
        "id": "C5lzoZxoJp3I"
      }
    },
    {
      "cell_type": "code",
      "source": [
        "variable = int(input('Ingrese un numero: '))\n",
        "\n",
        "\n",
        "factorial = 1\n",
        "for i in range(1, variable + 1):\n",
        "  factorial *= i\n",
        "\n",
        "print(f'El factorial de {variable} es: {factorial}')"
      ],
      "metadata": {
        "id": "WBSCuM_fJZt4",
        "outputId": "c2474411-c155-442c-f978-fee32c978751",
        "colab": {
          "base_uri": "https://localhost:8080/"
        }
      },
      "execution_count": null,
      "outputs": [
        {
          "output_type": "stream",
          "name": "stdout",
          "text": [
            "Ingrese un numero: 5\n",
            "El factorial de 5 es: 120\n"
          ]
        }
      ]
    },
    {
      "cell_type": "code",
      "source": [
        "# Solicita el número\n",
        "num = int(input('Ingresa un número entero: '))\n",
        "\n",
        "# Inicializa el cálculo\n",
        "factorial = 1\n",
        "\n",
        "# Nuestro contador comienza con el número máximo\n",
        "# y se realizará un conteo decreciente con el operador -=\n",
        "i = num\n",
        "while i > 0:\n",
        "    # Queremos multiplicar el valor factorial por el número\n",
        "    # y todos los números por debajo de él hasta 1\n",
        "    factorial *= i\n",
        "    i -= 1\n",
        "\n",
        "# Imprime el cálculo del factorial\n",
        "print(f'El factorial de {num} es {factorial}')\n",
        "\n"
      ],
      "metadata": {
        "id": "oWzn_99XhuH6",
        "outputId": "2eada432-7b38-4f37-df5f-f7f1e60cf7af",
        "colab": {
          "base_uri": "https://localhost:8080/"
        }
      },
      "execution_count": null,
      "outputs": [
        {
          "output_type": "stream",
          "name": "stdout",
          "text": [
            "Ingresa un número entero: 5\n",
            "El factorial de 5 es 120\n"
          ]
        }
      ]
    },
    {
      "cell_type": "markdown",
      "source": [
        "Momento de los proyectos"
      ],
      "metadata": {
        "id": "uT7RuqbSJxYe"
      }
    },
    {
      "cell_type": "markdown",
      "source": [
        "6 - Escribe un programa que genere la tabla de multiplicar de un número entero del 1 al 10, según la elección del usuario"
      ],
      "metadata": {
        "id": "tsZL-RSAJ1Xf"
      }
    },
    {
      "cell_type": "code",
      "source": [
        "numerO = int(input('Ingrese un numero: '))\n",
        "\n",
        "for i in range(1, 11):\n",
        "  print(f'{numerO} x {i} = {numerO * i}')"
      ],
      "metadata": {
        "id": "fOdTCsb3JZ2O",
        "outputId": "63cd3a1e-59bb-49d6-94fb-443405df2b43",
        "colab": {
          "base_uri": "https://localhost:8080/"
        }
      },
      "execution_count": null,
      "outputs": [
        {
          "output_type": "stream",
          "name": "stdout",
          "text": [
            "Ingrese un numero: 8\n",
            "8 x 1 = 8\n",
            "8 x 2 = 16\n",
            "8 x 3 = 24\n",
            "8 x 4 = 32\n",
            "8 x 5 = 40\n",
            "8 x 6 = 48\n",
            "8 x 7 = 56\n",
            "8 x 8 = 64\n",
            "8 x 9 = 72\n",
            "8 x 10 = 80\n"
          ]
        }
      ]
    },
    {
      "cell_type": "markdown",
      "source": [
        "7 - Los números primos tienen diversas aplicaciones en Ciencia de Datos, como en criptografía y seguridad. Un número primo es aquel que es divisible solo por sí mismo y por 1. Por lo tanto, crea un programa que solicite un número entero y determine si es un número primo o no."
      ],
      "metadata": {
        "id": "UfJu41I-J9oK"
      }
    },
    {
      "cell_type": "code",
      "source": [
        "primo = int(input('Ingrese un numero: '))\n",
        "\n",
        "for i in range(2, primo):\n",
        "  if primo % i == 0:\n",
        "    print(f'{primo} no es un numero primo')\n",
        "    break\n",
        "else:\n",
        "  print(f'{primo} es un numero primo')"
      ],
      "metadata": {
        "id": "4KWCCQoUJZ_B",
        "outputId": "05e0da24-bd66-4695-fef7-60c099850026",
        "colab": {
          "base_uri": "https://localhost:8080/"
        }
      },
      "execution_count": null,
      "outputs": [
        {
          "output_type": "stream",
          "name": "stdout",
          "text": [
            "Ingrese un numero: 6\n",
            "6 no es un numero primo\n"
          ]
        }
      ]
    },
    {
      "cell_type": "markdown",
      "source": [
        "8 - Vamos a comprender la distribución de edades de los pensionistas de una empresa de seguros. Escribe un programa que lea las edades de una cantidad no informada de clientes y muestre la distribución en los intervalos [0-25], [26-50], [51-75] y [76-100]. La entrada de datos se detendrá al ingresar un número negativo."
      ],
      "metadata": {
        "id": "RSI0yIjkKJjQ"
      }
    },
    {
      "cell_type": "code",
      "source": [
        "leer_cantidad = int(input('Ingrese la cantidad de personas: '))\n",
        "edades = []\n",
        "\n",
        "while leer_cantidad > 0:\n",
        "  edad = int(input('Ingrese la edad: '))\n",
        "  edades.append(edad)\n",
        "  leer_cantidad -= 1"
      ],
      "metadata": {
        "id": "fu-R4ZWRJaDv",
        "outputId": "6092811e-d3b0-453a-cd42-d40f7d335db7",
        "colab": {
          "base_uri": "https://localhost:8080/"
        }
      },
      "execution_count": null,
      "outputs": [
        {
          "name": "stdout",
          "output_type": "stream",
          "text": [
            "Ingrese la cantidad de personas: 4\n",
            "Ingrese la edad: 56\n",
            "Ingrese la edad: 25\n",
            "Ingrese la edad: 30\n",
            "Ingrese la edad: 67\n"
          ]
        }
      ]
    },
    {
      "cell_type": "code",
      "source": [
        "# Recopilamos las edades de los clientes\n",
        "edad = int(input('Ingresa la edad (o un número negativo para finalizar): '))\n",
        "\n",
        "# Inicializamos las variables de conteo\n",
        "contador_0_25 = 0 # contador de edades entre 0 y 25\n",
        "contador_26_50 = 0 # contador de edades entre 26 y 50\n",
        "contador_51_75 = 0 # contador de edades entre 51 y 75\n",
        "contador_76_100 = 0 # contador de edades entre 76 y 100\n",
        "\n",
        "# Nuestro código se ejecuta hasta que el valor de edad sea negativo\n",
        "while edad >= 0:\n",
        "    # Contamos cada caso\n",
        "    if edad >= 0 and edad <= 25:\n",
        "        contador_0_25 += 1\n",
        "    elif edad >= 26 and edad <= 50:\n",
        "        contador_26_50 += 1\n",
        "    elif edad >= 51 and edad <= 75:\n",
        "        contador_51_75 += 1\n",
        "    elif edad >= 76 and edad <= 100:\n",
        "        contador_76_100 += 1\n",
        "\n",
        "    # Repetimos el proceso de entrada de datos hasta que se ingrese un número negativo\n",
        "    edad = int(input('Ingresa la edad (o un número negativo para finalizar): '))\n",
        "\n",
        "# Mostramos los resultados\n",
        "print('Distribución de edades:')\n",
        "print('[0-25]:', contador_0_25)\n",
        "print('[26-50]:', contador_26_50)\n",
        "print('[51-75]:', contador_51_75)\n",
        "print('[76-100]:', contador_76_100)\n",
        "\n",
        "contador_0_25 = 0 # contador de edades entre 0 y 25\n",
        "contador_26_50 = 0 # contador de edades entre 26 y 50\n",
        "contador_51_75 = 0 # contador de edades entre 51 y 75\n",
        "contador_76_100 = 0 # contador de edades entre 76 y 100\n",
        "\n",
        "# Nuestro código se ejecuta hasta que el valor de edad sea negativo\n",
        "while edad >= 0:\n",
        "    # Contamos cada caso\n",
        "    if edad >= 0 and edad <= 25:\n",
        "        contador_0_25 += 1\n",
        "    elif edad >= 26 and edad <= 50:\n",
        "        contador_26_50 += 1\n",
        "    elif edad >= 51 and edad <= 75:\n",
        "        contador_51_75 += 1\n",
        "    elif edad >= 76 and edad <= 100:\n",
        "        contador_76_100 += 1\n",
        "\n",
        "    # Repetimos el proceso de entrada de datos hasta que se ingrese un número negativo\n",
        "    edad = int(input('Ingresa la edad (o un número negativo para finalizar): '))\n",
        "\n",
        "# Mostramos los resultados\n",
        "print('Distribución de edades:')\n",
        "print('[0-25]:', contador_0_25)\n",
        "print('[26-50]:', contador_26_50)\n",
        "print('[51-75]:', contador_51_75)\n",
        "print('[76-100]:', contador_76_100)"
      ],
      "metadata": {
        "id": "vV8NYJe2i9Oa",
        "outputId": "2ca7c372-067e-4e43-e828-c3da1bd54875",
        "colab": {
          "base_uri": "https://localhost:8080/"
        }
      },
      "execution_count": null,
      "outputs": [
        {
          "output_type": "stream",
          "name": "stdout",
          "text": [
            "Ingresa la edad (o un número negativo para finalizar): -8\n",
            "Distribución de edades:\n",
            "[0-25]: 0\n",
            "[26-50]: 0\n",
            "[51-75]: 0\n",
            "[76-100]: 0\n",
            "Distribución de edades:\n",
            "[0-25]: 0\n",
            "[26-50]: 0\n",
            "[51-75]: 0\n",
            "[76-100]: 0\n"
          ]
        }
      ]
    },
    {
      "cell_type": "markdown",
      "source": [
        "9 - En una elección para la gerencia de una empresa con 20 empleados, hay cuatro candidatos. Escribe un programa que calcule al ganador de la elección. La votación se realizó de la siguiente manera:\n",
        "\n",
        "Cada empleado votó por uno de los cuatro candidatos (representados por los números 1, 2, 3 y 4).\n",
        "\n",
        "También se contaron los votos nulos (representados por el número 5) y los votos en blanco (representados por el número 6).\n",
        "\n",
        "Al final de la votación, el programa debe mostrar el número total de votos para cada candidato, los votos nulos y los votos en blanco. Además, debe calcular y mostrar el porcentaje de votos nulos con respecto al total de votos y el porcentaje de votos en blanco con respecto al total de votos.\n",
        "\n"
      ],
      "metadata": {
        "id": "2SoG690VKPop"
      }
    },
    {
      "cell_type": "code",
      "source": [],
      "metadata": {
        "id": "GLC1BgejKOYp"
      },
      "execution_count": null,
      "outputs": []
    },
    {
      "cell_type": "code",
      "source": [
        "# Inicializamos las variables contadoras\n",
        "votos_candidato1 = 0\n",
        "votos_candidato2 = 0\n",
        "votos_candidato3 = 0\n",
        "votos_candidato4 = 0\n",
        "votos_nulos = 0\n",
        "votos_blanco = 0\n",
        "\n",
        "# Inicio del bucle para leer los votos\n",
        "for i in range(0, 20):\n",
        "    voto = int(input('Ingresa tu voto: '))\n",
        "    if voto == 1:\n",
        "        votos_candidato1 += 1\n",
        "    elif voto == 2:\n",
        "        votos_candidato2 += 1\n",
        "    elif voto == 3:\n",
        "        votos_candidato3 += 1\n",
        "    elif voto == 4:\n",
        "        votos_candidato4 += 1\n",
        "    elif voto == 5:\n",
        "        votos_nulos += 1\n",
        "    elif voto == 6:\n",
        "        votos_blanco += 1\n",
        "    else:\n",
        "        print(\"Voto inválido.\")\n",
        "\n",
        "print(f'Votos candidato 1: {votos_candidato1}')\n",
        "print(f'Votos candidato 2: {votos_candidato2}')\n",
        "print(f'Votos candidato 3: {votos_candidato3}')\n",
        "print(f'Votos candidato 4: {votos_candidato4}')\n",
        "print(f'Votos nulos: {votos_nulos}')\n",
        "print(f'Votos en blanco: {votos_blanco}')\n",
        "print(f'Porcentaje de votos nulos: {(votos_nulos / 20 * 100)}')\n",
        "print(f'Porcentaje de votos en blanco: {(votos_blanco / 20 * 100)}')"
      ],
      "metadata": {
        "id": "1_SCGWqBlCwz",
        "outputId": "181c3974-cdc8-45bc-abb4-823f91f15742",
        "colab": {
          "base_uri": "https://localhost:8080/"
        }
      },
      "execution_count": null,
      "outputs": [
        {
          "output_type": "stream",
          "name": "stdout",
          "text": [
            "Ingresa tu voto: 1\n",
            "Ingresa tu voto: 2\n",
            "Ingresa tu voto: 1\n",
            "Ingresa tu voto: 2\n",
            "Ingresa tu voto: 1\n",
            "Ingresa tu voto: 2\n",
            "Ingresa tu voto: 1\n",
            "Ingresa tu voto: 2\n",
            "Ingresa tu voto: 1\n",
            "Ingresa tu voto: 2\n",
            "Ingresa tu voto: 3\n",
            "Ingresa tu voto: 4\n",
            "Ingresa tu voto: 5\n",
            "Ingresa tu voto: 5\n",
            "Ingresa tu voto: 5\n",
            "Ingresa tu voto: 5\n",
            "Ingresa tu voto: 5\n",
            "Ingresa tu voto: 2\n",
            "Ingresa tu voto: 2\n",
            "Ingresa tu voto: 2\n",
            "Votos candidato 1: 5\n",
            "Votos candidato 2: 8\n",
            "Votos candidato 3: 1\n",
            "Votos candidato 4: 1\n",
            "Votos nulos: 5\n",
            "Votos en blanco: 0\n",
            "Porcentaje de votos nulos: 25.0\n",
            "Porcentaje de votos en blanco: 0.0\n"
          ]
        }
      ]
    },
    {
      "cell_type": "markdown",
      "source": [
        "# Estructuras de datos"
      ],
      "metadata": {
        "id": "8noP8OJ0Vhux"
      }
    },
    {
      "cell_type": "markdown",
      "source": [
        "Un conjunto de elementos es una colección de items, que son almacenados juntos de manera organizada. Algunos ejemplos de conjuntos de elementos en Python son las listas, los strings y los diccionarios."
      ],
      "metadata": {
        "id": "xpEUkefTu8fY"
      }
    },
    {
      "cell_type": "markdown",
      "source": [
        "## Listas"
      ],
      "metadata": {
        "id": "THSg4KYLwxIb"
      }
    },
    {
      "cell_type": "markdown",
      "source": [
        "Las listas pueden almacenar una colección de items en orden. Ellas son delimitadas por corchetes `[]` y sus elementos son separados por comas.\n",
        "\n",
        "Estas pueden almacenar cualquier tipo de items, incluyendo números, strings, objetos, otras listas, entre otros. También nos permiten almacenar items de tipos de datos diferentes juntos en una única lista."
      ],
      "metadata": {
        "id": "dzpsiqrOyJcK"
      }
    },
    {
      "cell_type": "code",
      "source": [
        "lista = ['Penélope Camacho',9.5,9.0,9.7,True]\n",
        "lista"
      ],
      "metadata": {
        "id": "DO3TBj7nAYeG",
        "colab": {
          "base_uri": "https://localhost:8080/"
        },
        "outputId": "3e983f06-daad-421f-b048-065e3c1a7209"
      },
      "execution_count": null,
      "outputs": [
        {
          "output_type": "execute_result",
          "data": {
            "text/plain": [
              "['Penélope Camacho', 9.5, 9.0, 9.7, True]"
            ]
          },
          "metadata": {},
          "execution_count": 114
        }
      ]
    },
    {
      "cell_type": "code",
      "source": [
        "type(lista)"
      ],
      "metadata": {
        "id": "DO2ubP9N9D_2",
        "outputId": "56647f65-2369-4be6-bfca-1bd62dc852fd",
        "colab": {
          "base_uri": "https://localhost:8080/"
        }
      },
      "execution_count": null,
      "outputs": [
        {
          "output_type": "execute_result",
          "data": {
            "text/plain": [
              "list"
            ]
          },
          "metadata": {},
          "execution_count": 115
        }
      ]
    },
    {
      "cell_type": "code",
      "source": [],
      "metadata": {
        "id": "Acp9ZudbnKPT"
      },
      "execution_count": null,
      "outputs": []
    },
    {
      "cell_type": "markdown",
      "source": [
        "Las listas son organizadas en Python porque **cada elemento de la lista tiene un índice que indica su posición al interior de la lista**. Los índices comienzan en 0 van hasta el tamaño de la lista menos 1."
      ],
      "metadata": {
        "id": "qUz3sJNl6LgK"
      }
    },
    {
      "cell_type": "markdown",
      "source": [
        "Tenemos entonces 5 elementos con índices que varían de 0 a 4, ordenadamente:\n",
        "\n",
        "```\n",
        "#             [0]           [1]   [2]   [3]    [4]\n",
        "lista = ['Penélope Camacho', 9.5 , 9.0 , 9.7 , True]\n",
        "```\n",
        "\n",
        "En Python tenemos también los índices **negativos** que se inician en el último elemento con el valor de `-1` y avanzan en el universo de los negativos hasta llegar al 1° elemento:\n",
        "\n",
        "```\n",
        "#             [-5]         [-4]  [-3]  [-2]   [-1]\n",
        "lista = ['Penélope Camacho', 9.5 , 9.0 , 9.7 , True]\n",
        "```\n",
        "\n",
        "Logramos seleccionar separadamente cada elemento a través de sus respectivos índices. Colocando el nombre de la lista y en seguida el índice que será seleccionado."
      ],
      "metadata": {
        "id": "rLf-Qg526hFD"
      }
    },
    {
      "cell_type": "code",
      "source": [
        "type(lista[-1])"
      ],
      "metadata": {
        "id": "4hco1Zqy88Kw",
        "outputId": "1d2ca4bc-e9cb-45cd-e6d0-e0ff3fb46c2f",
        "colab": {
          "base_uri": "https://localhost:8080/"
        }
      },
      "execution_count": null,
      "outputs": [
        {
          "output_type": "execute_result",
          "data": {
            "text/plain": [
              "bool"
            ]
          },
          "metadata": {},
          "execution_count": 116
        }
      ]
    },
    {
      "cell_type": "code",
      "source": [],
      "metadata": {
        "id": "M8lH0I2288Ph"
      },
      "execution_count": null,
      "outputs": []
    },
    {
      "cell_type": "markdown",
      "source": [
        "Una forma más dinámica de trabajar item a item en una lista es utilizando un lazo `for` para leer un elemento a la vez."
      ],
      "metadata": {
        "id": "6TaE1ijmBTCd"
      }
    },
    {
      "cell_type": "code",
      "source": [
        "for elemento in lista:\n",
        "  print(elemento)"
      ],
      "metadata": {
        "id": "rBx4Yu1786Sy",
        "outputId": "873aea86-7472-4013-fb08-9bf81265cf6e",
        "colab": {
          "base_uri": "https://localhost:8080/"
        }
      },
      "execution_count": null,
      "outputs": [
        {
          "output_type": "stream",
          "name": "stdout",
          "text": [
            "Penélope Camacho\n",
            "9.5\n",
            "10.0\n",
            "9.7\n",
            "True\n"
          ]
        }
      ]
    },
    {
      "cell_type": "markdown",
      "source": [
        "**Situación**: La nota `9.0` de Penélope necesita ser ajustada pues ganó 1 punto en su última nota por participación en clase. Entonces es necesario realizar un cambio en el índice `2` de `9.0` a `10.0`."
      ],
      "metadata": {
        "id": "Dh1_HnIVvucY"
      }
    },
    {
      "cell_type": "code",
      "source": [
        "lista[2] = 10.0\n"
      ],
      "metadata": {
        "id": "bVPoZg668z3T"
      },
      "execution_count": null,
      "outputs": []
    },
    {
      "cell_type": "code",
      "source": [
        "lista"
      ],
      "metadata": {
        "id": "Jo_PBQ0g8z7D",
        "outputId": "c569d44a-b713-4b3f-d87c-22ab3e5f2628",
        "colab": {
          "base_uri": "https://localhost:8080/"
        }
      },
      "execution_count": null,
      "outputs": [
        {
          "output_type": "execute_result",
          "data": {
            "text/plain": [
              "['Penélope Camacho', 9.5, 10.0, 9.7, True]"
            ]
          },
          "metadata": {},
          "execution_count": 68
        }
      ]
    },
    {
      "cell_type": "code",
      "source": [
        "promedio = (lista[1] + lista[2] + lista[3]) / 3\n",
        "promedio"
      ],
      "metadata": {
        "id": "TP9dcdSqZxvJ",
        "outputId": "7459b8e4-5922-4acb-f70b-6625f79b686e",
        "colab": {
          "base_uri": "https://localhost:8080/"
        }
      },
      "execution_count": null,
      "outputs": [
        {
          "output_type": "execute_result",
          "data": {
            "text/plain": [
              "9.733333333333333"
            ]
          },
          "metadata": {},
          "execution_count": 69
        }
      ]
    },
    {
      "cell_type": "markdown",
      "source": [
        "También podemos calcular el promedio del estudiante a partir de los datos que tenemos."
      ],
      "metadata": {
        "id": "53XduzXkycAf"
      }
    },
    {
      "cell_type": "code",
      "source": [
        "listaa = ['Diego Bustos', 9.0, 7.8, 10.0, 6, True]\n",
        "listaa"
      ],
      "metadata": {
        "id": "LSw9c4S7cqbM",
        "outputId": "d88997eb-484a-4187-a976-bb2b191ff420",
        "colab": {
          "base_uri": "https://localhost:8080/"
        }
      },
      "execution_count": null,
      "outputs": [
        {
          "output_type": "execute_result",
          "data": {
            "text/plain": [
              "['Diego Bustos', 9.0, 7.8, 10.0, 6, True]"
            ]
          },
          "metadata": {},
          "execution_count": 90
        }
      ]
    },
    {
      "cell_type": "code",
      "source": [
        "promedios = (listaa[1] + listaa[2] + listaa[3]) / 3\n",
        "promedios"
      ],
      "metadata": {
        "id": "neZCO8bUe5Or",
        "outputId": "d185a6fa-94bc-4de7-b522-8880827023dd",
        "colab": {
          "base_uri": "https://localhost:8080/"
        }
      },
      "execution_count": null,
      "outputs": [
        {
          "output_type": "execute_result",
          "data": {
            "text/plain": [
              "8.933333333333334"
            ]
          },
          "metadata": {},
          "execution_count": 91
        }
      ]
    },
    {
      "cell_type": "markdown",
      "source": [
        "## Manipulación de listas\n",
        "\n",
        "Las listas son muy útiles en Python porque nos permiten almacenar y acceder a una colección de items de manera organizada y rápida. Estas también ofrecen muchos métodos útiles para manipular los itens almacenados, como adicionar, remover, clasificar y buscar elementos."
      ],
      "metadata": {
        "id": "d-iYr10-y4qw"
      }
    },
    {
      "cell_type": "markdown",
      "source": [
        "#### Cantidad de elementos\n",
        "\n",
        "Usamos la función [`len()`](https://docs.python.org/3/library/functions.html#len) para descubrir la cantidad de elementos de un conjunto."
      ],
      "metadata": {
        "id": "ZLqx9A97XVB_"
      }
    },
    {
      "cell_type": "code",
      "source": [
        "len(listaa)"
      ],
      "metadata": {
        "id": "6q1Tmm7P8wQf",
        "outputId": "7b9fe1bb-c359-4954-8ab7-fc41e2ebe3a5",
        "colab": {
          "base_uri": "https://localhost:8080/"
        }
      },
      "execution_count": null,
      "outputs": [
        {
          "output_type": "execute_result",
          "data": {
            "text/plain": [
              "6"
            ]
          },
          "metadata": {},
          "execution_count": 92
        }
      ]
    },
    {
      "cell_type": "markdown",
      "source": [
        "#### Partición\n",
        "\n",
        "La partición de listas por indexación en Python es una técnica muy útil para seleccionar un subconjunto de elementos de una lista. Esta se realiza usando la sintaxis `lista[inicio:fin]`, donde `inicio` es el índice del primer elemento que será incluído en la partición `fin` es el índice del primer elemento que será excluído de la partición."
      ],
      "metadata": {
        "id": "Z5tpstlHJss3"
      }
    },
    {
      "cell_type": "code",
      "source": [
        "listaa[0:3]"
      ],
      "metadata": {
        "id": "NctvJTTU8uV9",
        "outputId": "50dd52cb-8d4d-4708-c907-15dfd1117f18",
        "colab": {
          "base_uri": "https://localhost:8080/"
        }
      },
      "execution_count": null,
      "outputs": [
        {
          "output_type": "execute_result",
          "data": {
            "text/plain": [
              "['Diego Bustos', 9.0, 7.8]"
            ]
          },
          "metadata": {},
          "execution_count": 30
        }
      ]
    },
    {
      "cell_type": "code",
      "source": [
        "listaa[:2]"
      ],
      "metadata": {
        "id": "bQZUwldj8uY2",
        "outputId": "0d3933a3-0624-4b75-a72e-6f06e821c778",
        "colab": {
          "base_uri": "https://localhost:8080/"
        }
      },
      "execution_count": null,
      "outputs": [
        {
          "output_type": "execute_result",
          "data": {
            "text/plain": [
              "['Diego Bustos', 9.0]"
            ]
          },
          "metadata": {},
          "execution_count": 31
        }
      ]
    },
    {
      "cell_type": "code",
      "source": [
        "listaa[3:]"
      ],
      "metadata": {
        "id": "_hcQPlvBeeJn",
        "outputId": "db0ce6e0-9c2f-4a90-deaa-fd1aa9aaa2f6",
        "colab": {
          "base_uri": "https://localhost:8080/"
        }
      },
      "execution_count": null,
      "outputs": [
        {
          "output_type": "execute_result",
          "data": {
            "text/plain": [
              "[10.0, True]"
            ]
          },
          "metadata": {},
          "execution_count": 32
        }
      ]
    },
    {
      "cell_type": "markdown",
      "source": [
        "#### [`append()`](https://docs.python.org/3/tutorial/datastructures.html#:~:text=of%20list%20objects%3A-,list.append(x),-Add%20an%20item)\n",
        "\n",
        "Añade un elemento al final de la lista."
      ],
      "metadata": {
        "id": "O0RRyabkRzZC"
      }
    },
    {
      "cell_type": "code",
      "source": [
        "listaa.append(promedio)"
      ],
      "metadata": {
        "id": "_Q0oODwa8spC"
      },
      "execution_count": null,
      "outputs": []
    },
    {
      "cell_type": "code",
      "source": [
        "listaa"
      ],
      "metadata": {
        "id": "RM894r2M8sse",
        "outputId": "e27d42f6-07be-4c16-a576-27c8a6eb4756",
        "colab": {
          "base_uri": "https://localhost:8080/"
        }
      },
      "execution_count": null,
      "outputs": [
        {
          "output_type": "execute_result",
          "data": {
            "text/plain": [
              "['Diego Bustos', 9.0, 7.8, 10.0, 6, True, 9.733333333333333]"
            ]
          },
          "metadata": {},
          "execution_count": 94
        }
      ]
    },
    {
      "cell_type": "markdown",
      "source": [
        "#### [`extend()`](https://docs.python.org/3/tutorial/datastructures.html#:~:text=list.extend(iterable))\n",
        "\n",
        "Añade varios elementos al final de la lista.\n",
        "\n",
        "Añadiremos las notas `[10.0,8.0,9.0]` En la lista de Penélope Camacho."
      ],
      "metadata": {
        "id": "uQV91XMsUOJD"
      }
    },
    {
      "cell_type": "code",
      "source": [
        "listaa.extend([10.0,8.0,9.0])"
      ],
      "metadata": {
        "id": "6Zk2MpMw8rQc"
      },
      "execution_count": null,
      "outputs": []
    },
    {
      "cell_type": "code",
      "source": [
        "listaa"
      ],
      "metadata": {
        "id": "NnoKkoWb8rTQ",
        "outputId": "0e2b9c3b-8597-4b3c-c164-5eec6df04fb1",
        "colab": {
          "base_uri": "https://localhost:8080/"
        }
      },
      "execution_count": null,
      "outputs": [
        {
          "output_type": "execute_result",
          "data": {
            "text/plain": [
              "['Diego Bustos', 9.0, 7.8, 10.0, 6, True, 9.733333333333333, 10.0, 8.0, 9.0]"
            ]
          },
          "metadata": {},
          "execution_count": 96
        }
      ]
    },
    {
      "cell_type": "markdown",
      "source": [
        "*A continuación te mostraremos lo que no puede realizarse con* `append`."
      ],
      "metadata": {
        "id": "IVJvkTwNUk6M"
      }
    },
    {
      "cell_type": "code",
      "source": [
        "listaa.append([10.0,8.0,9.0])"
      ],
      "metadata": {
        "id": "u3Eub2ZL8pp3"
      },
      "execution_count": null,
      "outputs": []
    },
    {
      "cell_type": "code",
      "source": [
        "listaa"
      ],
      "metadata": {
        "id": "tsKK5Ne58pvN",
        "outputId": "b3e5539f-7656-4983-80e4-b3d104c90c6c",
        "colab": {
          "base_uri": "https://localhost:8080/"
        }
      },
      "execution_count": null,
      "outputs": [
        {
          "output_type": "execute_result",
          "data": {
            "text/plain": [
              "['Diego Bustos',\n",
              " 9.0,\n",
              " 7.8,\n",
              " 10.0,\n",
              " 6,\n",
              " True,\n",
              " 9.733333333333333,\n",
              " 10.0,\n",
              " 8.0,\n",
              " 9.0,\n",
              " [10.0, 8.0, 9.0]]"
            ]
          },
          "metadata": {},
          "execution_count": 98
        }
      ]
    },
    {
      "cell_type": "markdown",
      "source": [
        "#### [`remove()`](https://docs.python.org/3/tutorial/datastructures.html#:~:text=append(x).-,list.remove(x),-Remove%20the%20first)\n",
        "\n",
        "Remueve un elemento específico de la lista."
      ],
      "metadata": {
        "id": "dPGM5gpyUX1z"
      }
    },
    {
      "cell_type": "code",
      "source": [
        "listaa.remove([10.0, 8.0, 9.0])"
      ],
      "metadata": {
        "id": "mmboODPc8nd5",
        "outputId": "4eccf7b9-dfc6-4711-bb50-cdcb6d72f665",
        "colab": {
          "base_uri": "https://localhost:8080/",
          "height": 141
        }
      },
      "execution_count": null,
      "outputs": [
        {
          "output_type": "error",
          "ename": "ValueError",
          "evalue": "list.remove(x): x not in list",
          "traceback": [
            "\u001b[0;31m---------------------------------------------------------------------------\u001b[0m",
            "\u001b[0;31mValueError\u001b[0m                                Traceback (most recent call last)",
            "\u001b[0;32m<ipython-input-101-01f776e9a8de>\u001b[0m in \u001b[0;36m<cell line: 0>\u001b[0;34m()\u001b[0m\n\u001b[0;32m----> 1\u001b[0;31m \u001b[0mlistaa\u001b[0m\u001b[0;34m.\u001b[0m\u001b[0mremove\u001b[0m\u001b[0;34m(\u001b[0m\u001b[0;34m[\u001b[0m\u001b[0;36m10.0\u001b[0m\u001b[0;34m,\u001b[0m \u001b[0;36m8.0\u001b[0m\u001b[0;34m,\u001b[0m \u001b[0;36m9.0\u001b[0m\u001b[0;34m]\u001b[0m\u001b[0;34m)\u001b[0m\u001b[0;34m\u001b[0m\u001b[0;34m\u001b[0m\u001b[0m\n\u001b[0m",
            "\u001b[0;31mValueError\u001b[0m: list.remove(x): x not in list"
          ]
        }
      ]
    },
    {
      "cell_type": "code",
      "source": [
        "listaa"
      ],
      "metadata": {
        "id": "T_w6vVgV8nh_",
        "outputId": "52fcbf08-8683-41f3-c8b4-4ed33330cb57",
        "colab": {
          "base_uri": "https://localhost:8080/"
        }
      },
      "execution_count": null,
      "outputs": [
        {
          "output_type": "execute_result",
          "data": {
            "text/plain": [
              "['Diego Bustos', 9.0, 7.8, 10.0, 6, True, 9.733333333333333, 10.0, 8.0, 9.0]"
            ]
          },
          "metadata": {},
          "execution_count": 102
        }
      ]
    },
    {
      "cell_type": "markdown",
      "source": [
        "## Diccionario"
      ],
      "metadata": {
        "id": "Rc22Vc08YDZ2"
      }
    },
    {
      "cell_type": "markdown",
      "source": [
        "Los diccionarios son un tipo de estructura de datos que almacenan pares de *llave-valor*. Estos son delimitados por llaves `{}` y los pares *llave-valor* son separados por comas.\n",
        "\n",
        "```\n",
        "diccionario = {llave: valor}\n",
        "```\n",
        "\n",
        "La **llave** es un elemento único que identifica a un valor en el diccionario, mientras que el **valor** es el item que será almacenado para la llave. Las llaves y sus respectivos valores se pueden emplear para **cualquier tipo de dato**.\n",
        "\n",
        "Los diccionarios son útiles para almacenar y acceder a los datos de manera organizada y rápida. Se trata de un tipo de conjunto de elementos en Python, pues almacenan una colección de items."
      ],
      "metadata": {
        "id": "PJ-cCKPjeWxL"
      }
    },
    {
      "cell_type": "code",
      "source": [
        "diccionario = {'Llave_1': 1,\n",
        "               'Llave_2': 2}\n",
        "\n",
        "diccionario\n"
      ],
      "metadata": {
        "id": "NDHhzooE8ld5",
        "outputId": "1244b694-c793-4c35-fde3-a776e9d66586",
        "colab": {
          "base_uri": "https://localhost:8080/"
        }
      },
      "execution_count": null,
      "outputs": [
        {
          "output_type": "execute_result",
          "data": {
            "text/plain": [
              "{'Llave_1': 1, 'Llave_2': 2}"
            ]
          },
          "metadata": {},
          "execution_count": 103
        }
      ]
    },
    {
      "cell_type": "code",
      "source": [
        "type(diccionario)"
      ],
      "metadata": {
        "id": "AVOzqzy-8lhh",
        "outputId": "eab76466-4f0c-4b26-f2ab-aa2361e8e435",
        "colab": {
          "base_uri": "https://localhost:8080/"
        }
      },
      "execution_count": null,
      "outputs": [
        {
          "output_type": "execute_result",
          "data": {
            "text/plain": [
              "dict"
            ]
          },
          "metadata": {},
          "execution_count": 61
        }
      ]
    },
    {
      "cell_type": "markdown",
      "source": [
        "---\n",
        "**Situación:**\n",
        "\n",
        "Vamos a crear un conjunto de datos con las informaciones de matrícula de un estudiante. Los datos son los siguientes:\n",
        "\n",
        "- matrícula: 2000168933\n",
        "- día de registro: 25\n",
        "- mes de registro: 10\n",
        "- grupo: 2E"
      ],
      "metadata": {
        "id": "_JbQ3KMKfkXU"
      }
    },
    {
      "cell_type": "code",
      "source": [
        "estudiante = {'matrícula': 2000168933,\n",
        "              'día de registro': 25,\n",
        "              'mes de registro': 10,\n",
        "              'grupo': '2E'\n",
        "              }\n",
        "\n",
        "estudiante"
      ],
      "metadata": {
        "id": "0lfOu_c38jED",
        "outputId": "f08834f2-7e2c-41b4-c4cb-a2a883e4ed24",
        "colab": {
          "base_uri": "https://localhost:8080/"
        }
      },
      "execution_count": null,
      "outputs": [
        {
          "output_type": "execute_result",
          "data": {
            "text/plain": [
              "{'matrícula': 2000168933,\n",
              " 'día de registro': 25,\n",
              " 'mes de registro': 10,\n",
              " 'grupo': '2E'}"
            ]
          },
          "metadata": {},
          "execution_count": 65
        }
      ]
    },
    {
      "cell_type": "code",
      "source": [
        "estudiante['matrícula']"
      ],
      "metadata": {
        "id": "XIuqpTTy8jHV",
        "outputId": "94de6f1f-ead2-4ad3-e21a-9ac4e4968c7d",
        "colab": {
          "base_uri": "https://localhost:8080/"
        }
      },
      "execution_count": null,
      "outputs": [
        {
          "output_type": "execute_result",
          "data": {
            "text/plain": [
              "2000168933"
            ]
          },
          "metadata": {},
          "execution_count": 68
        }
      ]
    },
    {
      "cell_type": "code",
      "source": [
        "estudiante['grupo']"
      ],
      "metadata": {
        "id": "7Bhzt_CEukM3",
        "outputId": "ee0fbb06-ebd0-4e0a-e416-4484e4e1b367",
        "colab": {
          "base_uri": "https://localhost:8080/",
          "height": 35
        }
      },
      "execution_count": null,
      "outputs": [
        {
          "output_type": "execute_result",
          "data": {
            "text/plain": [
              "'2G'"
            ],
            "application/vnd.google.colaboratory.intrinsic+json": {
              "type": "string"
            }
          },
          "metadata": {},
          "execution_count": 105
        }
      ]
    },
    {
      "cell_type": "markdown",
      "source": [
        "Es posible sustituir los valores dentro de una llave. Por ejemplo, recibimos la información de que el grupo del estudiante que registramos cambio a `'2G'` y ahora necesitamos cambiar el valor de la llave `'grupo'`."
      ],
      "metadata": {
        "id": "8ex5pt2ykDd2"
      }
    },
    {
      "cell_type": "code",
      "source": [
        "estudiante['grupo'] = '2G'\n",
        "\n",
        "estudiante"
      ],
      "metadata": {
        "id": "kQGlp36b8fyP",
        "outputId": "d935689f-c639-4fad-9044-04c554e24ea7",
        "colab": {
          "base_uri": "https://localhost:8080/"
        }
      },
      "execution_count": null,
      "outputs": [
        {
          "output_type": "execute_result",
          "data": {
            "text/plain": [
              "{'matrícula': 2000168933,\n",
              " 'día de registro': 25,\n",
              " 'mes de registro': 10,\n",
              " 'modalidad': 'EAD',\n",
              " 'grupo': '2G'}"
            ]
          },
          "metadata": {},
          "execution_count": 104
        }
      ]
    },
    {
      "cell_type": "code",
      "source": [],
      "metadata": {
        "id": "DnfH_qHi8f17"
      },
      "execution_count": null,
      "outputs": []
    },
    {
      "cell_type": "markdown",
      "source": [
        "También podemos añadir otros datos al diccionario. Vamos a añadir la información sobre la modalidad de estudio, nuestro estudiante estudiará inicialemente en la modalidad EAD.\n",
        "\n",
        "Definiremos una llave llamada `'modalidad'` con el valor `'EAD'`."
      ],
      "metadata": {
        "id": "wB0qRb56mQvv"
      }
    },
    {
      "cell_type": "code",
      "source": [
        "estudiante['modalidad'] = 'EAD'"
      ],
      "metadata": {
        "id": "EeLYdlIm8d8a"
      },
      "execution_count": null,
      "outputs": []
    },
    {
      "cell_type": "code",
      "source": [
        "estudiante"
      ],
      "metadata": {
        "id": "olDIavsm8d_o",
        "outputId": "21a75d94-9d1b-46ea-af8c-839d2b1995c1",
        "colab": {
          "base_uri": "https://localhost:8080/"
        }
      },
      "execution_count": null,
      "outputs": [
        {
          "output_type": "execute_result",
          "data": {
            "text/plain": [
              "{'matrícula': 2000168933,\n",
              " 'día de registro': 25,\n",
              " 'mes de registro': 10,\n",
              " 'grupo': '2G',\n",
              " 'modalidad': 'EAD'}"
            ]
          },
          "metadata": {},
          "execution_count": 73
        }
      ]
    },
    {
      "cell_type": "code",
      "source": [
        "len(estudiante)"
      ],
      "metadata": {
        "id": "WAheGD1sv90N",
        "outputId": "eb197eac-c424-4c14-d12d-38facdaa1f6b",
        "colab": {
          "base_uri": "https://localhost:8080/"
        }
      },
      "execution_count": null,
      "outputs": [
        {
          "output_type": "execute_result",
          "data": {
            "text/plain": [
              "5"
            ]
          },
          "metadata": {},
          "execution_count": 107
        }
      ]
    },
    {
      "cell_type": "markdown",
      "source": [
        "## Profundizando en diccionarios"
      ],
      "metadata": {
        "id": "LJ3o_inroxg_"
      }
    },
    {
      "cell_type": "markdown",
      "source": [
        "#### [`pop()`](https://python-reference.readthedocs.io/en/latest/docs/dict/pop.html)\n",
        "Remueve un item de un diccionario y lo representa en la salida."
      ],
      "metadata": {
        "id": "2N3GLlkSpBiu"
      }
    },
    {
      "cell_type": "code",
      "source": [
        "estudiante.pop('grupo')"
      ],
      "metadata": {
        "id": "ZsSCZx6G8b-T",
        "outputId": "24cdc51c-c806-40db-adcb-9fd838eb9293",
        "colab": {
          "base_uri": "https://localhost:8080/",
          "height": 35
        }
      },
      "execution_count": null,
      "outputs": [
        {
          "output_type": "execute_result",
          "data": {
            "text/plain": [
              "'2G'"
            ],
            "application/vnd.google.colaboratory.intrinsic+json": {
              "type": "string"
            }
          },
          "metadata": {},
          "execution_count": 108
        }
      ]
    },
    {
      "cell_type": "code",
      "source": [
        "estudiante"
      ],
      "metadata": {
        "id": "7lQ8_jpi8cBR",
        "outputId": "fff51c8b-69dc-4b86-8a87-eeed7534e615",
        "colab": {
          "base_uri": "https://localhost:8080/"
        }
      },
      "execution_count": null,
      "outputs": [
        {
          "output_type": "execute_result",
          "data": {
            "text/plain": [
              "{'matrícula': 2000168933,\n",
              " 'día de registro': 25,\n",
              " 'mes de registro': 10,\n",
              " 'modalidad': 'EAD'}"
            ]
          },
          "metadata": {},
          "execution_count": 109
        }
      ]
    },
    {
      "cell_type": "markdown",
      "source": [
        "#### [`items()`](https://python-reference.readthedocs.io/en/latest/docs/dict/items.html)\n",
        "Retorna una lista de pares `llave-valor` del diccionario."
      ],
      "metadata": {
        "id": "sYZGvJJYrW_y"
      }
    },
    {
      "cell_type": "code",
      "source": [
        "estudiante.items()"
      ],
      "metadata": {
        "id": "ncdycLV08an7",
        "outputId": "4299e16e-7575-4107-bb83-226df11fb1d1",
        "colab": {
          "base_uri": "https://localhost:8080/"
        }
      },
      "execution_count": null,
      "outputs": [
        {
          "output_type": "execute_result",
          "data": {
            "text/plain": [
              "dict_items([('matrícula', 2000168933), ('día de registro', 25), ('mes de registro', 10), ('modalidad', 'EAD')])"
            ]
          },
          "metadata": {},
          "execution_count": 110
        }
      ]
    },
    {
      "cell_type": "markdown",
      "source": [
        "#### [`keys()`](https://python-reference.readthedocs.io/en/latest/docs/dict/keys.html)\n",
        "Retorna una lista de las llaves del diccionario."
      ],
      "metadata": {
        "id": "Lb0utNFGrZBY"
      }
    },
    {
      "cell_type": "code",
      "source": [
        "estudiante.keys()"
      ],
      "metadata": {
        "id": "eZo0biaM8ZVs",
        "outputId": "56e42471-d1cf-4ebd-97d9-8ed9819d7def",
        "colab": {
          "base_uri": "https://localhost:8080/"
        }
      },
      "execution_count": null,
      "outputs": [
        {
          "output_type": "execute_result",
          "data": {
            "text/plain": [
              "dict_keys(['matrícula', 'día de registro', 'mes de registro', 'modalidad'])"
            ]
          },
          "metadata": {},
          "execution_count": 111
        }
      ]
    },
    {
      "cell_type": "markdown",
      "source": [
        "#### [`values()`](https://python-reference.readthedocs.io/en/latest/docs/dict/values.html)\n",
        "Retorna una lista de los valores del diccionario."
      ],
      "metadata": {
        "id": "qKyu3bf9rbtX"
      }
    },
    {
      "cell_type": "code",
      "source": [
        "estudiante.values()"
      ],
      "metadata": {
        "id": "-NxRT9C18Yvo",
        "outputId": "e2739b90-addc-497e-81a1-226cf647edb5",
        "colab": {
          "base_uri": "https://localhost:8080/"
        }
      },
      "execution_count": null,
      "outputs": [
        {
          "output_type": "execute_result",
          "data": {
            "text/plain": [
              "dict_values([2000168933, 25, 10, 'EAD'])"
            ]
          },
          "metadata": {},
          "execution_count": 112
        }
      ]
    },
    {
      "cell_type": "markdown",
      "source": [
        "### Lectura de valores con el lazo `for`"
      ],
      "metadata": {
        "id": "e3XVjR8Frp75"
      }
    },
    {
      "cell_type": "code",
      "source": [
        "for Llave in estudiante.keys():\n",
        "  print(Llave)"
      ],
      "metadata": {
        "id": "NYcjU-Ip8Xan",
        "outputId": "9d99472b-6174-4e96-8668-e9dc3517f9f8",
        "colab": {
          "base_uri": "https://localhost:8080/"
        }
      },
      "execution_count": null,
      "outputs": [
        {
          "output_type": "stream",
          "name": "stdout",
          "text": [
            "matrícula\n",
            "día de registro\n",
            "mes de registro\n",
            "modalidad\n"
          ]
        }
      ]
    },
    {
      "cell_type": "code",
      "source": [
        "for Llave, valor in estudiante.items():\n",
        "  print(Llave,'-->', valor)"
      ],
      "metadata": {
        "id": "aAnpP1Wv8XfJ",
        "outputId": "92cc3237-15bc-427e-db48-6dbb73d3191b",
        "colab": {
          "base_uri": "https://localhost:8080/"
        }
      },
      "execution_count": null,
      "outputs": [
        {
          "output_type": "stream",
          "name": "stdout",
          "text": [
            "matrícula --> 2000168933\n",
            "día de registro --> 25\n",
            "mes de registro --> 10\n",
            "modalidad --> EAD\n"
          ]
        }
      ]
    },
    {
      "cell_type": "markdown",
      "source": [
        "# Practica 5"
      ],
      "metadata": {
        "id": "p-3sRyqdzlgK"
      }
    },
    {
      "cell_type": "markdown",
      "source": [
        "Entrenando la programación"
      ],
      "metadata": {
        "id": "xZJ4c4U8zrnW"
      }
    },
    {
      "cell_type": "markdown",
      "source": [
        "1 - Crea un programa que tenga la siguiente lista con los gastos de una empresa de papel [2172.54, 3701.35, 3518.09, 3456.61, 3249.38, 2840.82, 3891.45, 3075.26, 2317.64, 3219.08]. Con estos valores, crea un programa que calcule el promedio de gastos. Sugerencia: usa las funciones integradas sum() y len()."
      ],
      "metadata": {
        "id": "EKuYCbk55rry"
      }
    },
    {
      "cell_type": "code",
      "source": [
        "gastos = [2172.54, 3701.35, 3518.09, 3456.61, 3249.38, 2840.82, 3891.45, 3075.26, 2317.64, 3219.08]\n",
        "valores = len(gastos)\n",
        "for i in range(valores):\n",
        "  promedio = sum(gastos) / len(gastos)\n",
        "print(f'El promedio de gastos es: {promedio}')\n"
      ],
      "metadata": {
        "id": "8iX__Fzd2iE8",
        "outputId": "1c81ce26-17e3-42ab-c53f-81be496a74fc",
        "colab": {
          "base_uri": "https://localhost:8080/"
        }
      },
      "execution_count": null,
      "outputs": [
        {
          "output_type": "stream",
          "name": "stdout",
          "text": [
            "El promedio de gastos es: 3144.222\n"
          ]
        }
      ]
    },
    {
      "cell_type": "markdown",
      "source": [
        "2 - Con los mismos datos de la pregunta anterior, determina cuántas compras se realizaron por encima de 3000 reales y calcula el porcentaje con respecto al total de compras."
      ],
      "metadata": {
        "id": "qJkI2LHx5vww"
      }
    },
    {
      "cell_type": "code",
      "source": [
        "gastos = [2172.54, 3701.35, 3518.09, 3456.61, 3249.38, 2840.82, 3891.45, 3075.26, 2317.64, 3219.08]\n",
        "valores = len(gastos)\n",
        "promedio = sum(gastos) / len(gastos)\n",
        "contador = 0\n",
        "for i in range(valores):\n",
        "  if gastos[i] > 3000:\n",
        "    contador += 1\n",
        "porcentaje = (contador / valores) * 100\n",
        "\n",
        "print(f'El promedio de gastos es: {promedio}')\n",
        "print(f'El numero de compras por encima de 3000 reales es: {contador}')\n",
        "print(f'El porcentaje de compras por encima de 3000 reales es: {porcentaje}')"
      ],
      "metadata": {
        "id": "g5OaXbAp2t2Q",
        "outputId": "5cf279dd-4ef2-4fc1-ca08-64719b4053f0",
        "colab": {
          "base_uri": "https://localhost:8080/"
        }
      },
      "execution_count": null,
      "outputs": [
        {
          "output_type": "stream",
          "name": "stdout",
          "text": [
            "El promedio de gastos es: 3144.222\n",
            "El numero de compras por encima de 3000 reales es: 7\n",
            "El porcentaje de compras por encima de 3000 reales es: 70.0\n"
          ]
        }
      ]
    },
    {
      "cell_type": "markdown",
      "source": [
        "3 - Crea un código que recoja en una lista 5 números enteros aleatorios e imprima la lista. Ejemplo: [1, 4, 7, 2, 4]."
      ],
      "metadata": {
        "id": "iKkH5vzq52jz"
      }
    },
    {
      "cell_type": "code",
      "source": [
        "nuMero = []\n",
        "for i in range(5):\n",
        "  numero = int(input('Ingrese un numero: '))\n",
        "  nuMero.append(numero)\n",
        "print(nuMero)\n"
      ],
      "metadata": {
        "id": "j8xAOA7k28UO",
        "outputId": "1428aa48-b5ca-465f-f54c-f51ae8f7cb1f",
        "colab": {
          "base_uri": "https://localhost:8080/"
        }
      },
      "execution_count": null,
      "outputs": [
        {
          "output_type": "stream",
          "name": "stdout",
          "text": [
            "Ingrese un numero: 5\n",
            "Ingrese un numero: 6\n",
            "Ingrese un numero: 7\n",
            "Ingrese un numero: 8\n",
            "Ingrese un numero: 9\n",
            "[5, 6, 7, 8, 9]\n"
          ]
        }
      ]
    },
    {
      "cell_type": "markdown",
      "source": [
        "4 - Recoge nuevamente 5 números enteros e imprime la lista en orden inverso al enviado."
      ],
      "metadata": {
        "id": "zzKZtzY056O2"
      }
    },
    {
      "cell_type": "code",
      "source": [
        "nuMero = []\n",
        "for i in range(5):\n",
        "  numero = int(input('Ingrese un numero: '))\n",
        "  nuMero.append(numero)\n",
        "  nuMero.reverse()\n",
        "print(nuMero)"
      ],
      "metadata": {
        "id": "cRFDm_hk5-6W",
        "outputId": "04fa8afc-0169-493c-f7b7-145f65a9c2a1",
        "colab": {
          "base_uri": "https://localhost:8080/"
        }
      },
      "execution_count": null,
      "outputs": [
        {
          "output_type": "stream",
          "name": "stdout",
          "text": [
            "Ingrese un numero: 5\n",
            "Ingrese un numero: 6\n",
            "Ingrese un numero: 7\n",
            "Ingrese un numero: 8\n",
            "Ingrese un numero: 9\n",
            "[9, 7, 5, 6, 8]\n"
          ]
        }
      ]
    },
    {
      "cell_type": "markdown",
      "source": [
        "5 - Crea un programa que, al ingresar un número cualquiera, genere una lista que contenga todos los números primos entre 1 y el número ingresado."
      ],
      "metadata": {
        "id": "ry5hn3786Swa"
      }
    },
    {
      "cell_type": "code",
      "source": [
        "numero_cualquiera = int(input('Ingrese un numero: '))\n",
        "primos = []\n",
        "for i in range(1, numero_cualquiera + 1):\n",
        "  for j in range(2, i):\n",
        "    if i % j == 0:\n",
        "      break\n",
        "  else:\n",
        "    primos.append(i)\n",
        "print(primos)"
      ],
      "metadata": {
        "id": "Q3KRO9_U5_CT",
        "outputId": "c09e3240-531a-4fcc-cfe2-77ffdc453697",
        "colab": {
          "base_uri": "https://localhost:8080/"
        }
      },
      "execution_count": null,
      "outputs": [
        {
          "output_type": "stream",
          "name": "stdout",
          "text": [
            "Ingrese un numero: 6\n",
            "[1, 2, 3, 5]\n"
          ]
        }
      ]
    },
    {
      "cell_type": "markdown",
      "source": [
        "6 - Escribe un programa que pida una fecha, especificando el día, mes y año, y determine si es válida para su análisis."
      ],
      "metadata": {
        "id": "y-bKVVxX6U_Y"
      }
    },
    {
      "cell_type": "code",
      "source": [
        "dia = int(input('Ingrese el dia: '))\n",
        "mes = int(input('Ingrese el mes: '))\n",
        "año = int(input('Ingrese el año: '))\n",
        "\n",
        "\n",
        "for i in range(1, 13):\n",
        "  if mes == i:\n",
        "    pass # Placeholder, you likely want more logic here based on the month\n",
        "\n",
        "if dia >= 1 and dia <= 31 and mes >= 1 and mes <= 12 and año >= 1 and año <= 9999:\n",
        "  print('La fecha es valida')\n",
        "else:\n",
        "  print('La fecha no es valida')\n"
      ],
      "metadata": {
        "id": "NNka9eHr5_Gg",
        "outputId": "10e709a4-880c-4296-d4f3-79d00e1534eb",
        "colab": {
          "base_uri": "https://localhost:8080/"
        }
      },
      "execution_count": null,
      "outputs": [
        {
          "output_type": "stream",
          "name": "stdout",
          "text": [
            "Ingrese el dia: 0\n",
            "Ingrese el mes: 2\n",
            "Ingrese el año: 2025\n",
            "La fecha no es valida\n"
          ]
        }
      ]
    },
    {
      "cell_type": "markdown",
      "source": [
        "## Momento para los proyectos"
      ],
      "metadata": {
        "id": "Xv9feAzL6dwb"
      }
    },
    {
      "cell_type": "markdown",
      "source": [
        "7 - Para un estudio sobre la multiplicación de bacterias en una colonia, se recopiló el número de bacterias multiplicadas por día y se puede observar a continuación: [1.2, 2.1, 3.3, 5.0, 7.8, 11.3, 16.6, 25.1, 37.8, 56.9]. Con estos valores, crea un código que genere una lista que contenga el porcentaje de crecimiento de bacterias por día, comparando el número de bacterias en cada día con el número de bacterias del día anterior. Sugerencia: para calcular el porcentaje de crecimiento, utiliza la siguiente ecuación: 100 * (muestra_actual - muestra_anterior) / muestra_anterior."
      ],
      "metadata": {
        "id": "Y2umU2Sa6icI"
      }
    },
    {
      "cell_type": "code",
      "source": [
        "colonia = [1.2, 2.1, 3.3, 5.0, 7.8, 11.3, 16.6, 25.1, 37.8, 56.9]\n",
        "\n",
        "porcentaje_crecimiento = []\n",
        "\n",
        "for i in range(len(colonia) - 1):\n",
        "  porcentaje = 100 * (colonia[i + 1] - colonia[i]) / colonia[i]\n",
        "\n",
        "  porcentaje_crecimiento.append(porcentaje)\n",
        "print('Porcentaje de crecimiento diario: ')\n",
        "print(porcentaje_crecimiento)"
      ],
      "metadata": {
        "id": "43gM9GnT5_Ks",
        "outputId": "ce5a3042-23c3-4b53-b125-545e72252e6c",
        "colab": {
          "base_uri": "https://localhost:8080/"
        }
      },
      "execution_count": 5,
      "outputs": [
        {
          "output_type": "stream",
          "name": "stdout",
          "text": [
            "Porcentaje de crecimiento diario: \n",
            "[75.00000000000001, 57.142857142857125, 51.51515151515153, 56.0, 44.87179487179489, 46.90265486725664, 51.20481927710843, 50.59760956175297, 50.52910052910054]\n"
          ]
        }
      ]
    },
    {
      "cell_type": "code",
      "source": [
        "# Datos de la colonia de bacterias por día\n",
        "datos = [1.2, 2.1, 3.3, 5.0, 7.8, 11.3, 16.6, 25.1, 37.8, 56.9]\n",
        "\n",
        "# Lista para guardar los porcentajes de crecimiento\n",
        "porcentajes_crecimiento = []\n",
        "\n",
        "# Recorremos los datos desde el segundo día (índice 1)\n",
        "for i in range(1, len(datos)):\n",
        "    crecimiento = 100 * (datos[i] - datos[i - 1]) / datos[i - 1]\n",
        "    porcentajes_crecimiento.append(crecimiento)\n",
        "\n",
        "# Imprimir resultados\n",
        "print(\"Porcentajes de crecimiento diario:\")\n",
        "print(porcentajes_crecimiento)\n"
      ],
      "metadata": {
        "id": "KZpPlhZYSG-6",
        "outputId": "ea97397c-1955-451f-893f-5b4a9bb97385",
        "colab": {
          "base_uri": "https://localhost:8080/"
        }
      },
      "execution_count": 4,
      "outputs": [
        {
          "output_type": "stream",
          "name": "stdout",
          "text": [
            "Porcentajes de crecimiento diario:\n",
            "[75.00000000000001, 57.142857142857125, 51.51515151515153, 56.0, 44.87179487179489, 46.90265486725664, 51.20481927710843, 50.59760956175297, 50.52910052910054]\n"
          ]
        }
      ]
    },
    {
      "cell_type": "markdown",
      "source": [
        "8 - Para una selección de productos alimenticios, debemos separar el conjunto de IDs proporcionados por números enteros, sabiendo que los productos con ID par son dulces y los que tienen ID impar son amargos. Crea un código que recoja 10 IDs. Luego, calcula y muestra la cantidad de productos dulces y amargos."
      ],
      "metadata": {
        "id": "gUM6AXqB6tDR"
      }
    },
    {
      "cell_type": "code",
      "source": [
        "IDS = []\n",
        "print('Ingrese 10 IDs: ')\n",
        "for i in range(10):\n",
        "  numero_ID = int(input(f\"ID #{i+1}: \"))\n",
        "  IDS.append(numero_ID)\n",
        "\n",
        "\n",
        "DULCES = 0\n",
        "Amargos = 0\n",
        "\n",
        "for i in IDS:\n",
        "  if i % 2 == 0:\n",
        "    DULCES += 1\n",
        "  else:\n",
        "    Amargos += 1\n",
        "print(f'La cantidad de productos dulces son: {DULCES}')\n",
        "print(f'La cantidad de productos amargos son: {Amargos}')\n",
        "\n"
      ],
      "metadata": {
        "id": "qUqDM4CA6AAU",
        "outputId": "37c61bfd-c7fa-431b-99cc-51548bb48357",
        "colab": {
          "base_uri": "https://localhost:8080/"
        }
      },
      "execution_count": 29,
      "outputs": [
        {
          "output_type": "stream",
          "name": "stdout",
          "text": [
            "Ingrese 10 IDs: \n",
            "ID #1: 1\n",
            "ID #2: 2\n",
            "ID #3: 3\n",
            "ID #4: 4\n",
            "ID #5: 5\n",
            "ID #6: 6\n",
            "ID #7: 7\n",
            "ID #8: 8\n",
            "ID #9: 9\n",
            "ID #10: 9\n",
            "La cantidad de productos dulces son: 4\n",
            "La cantidad de productos amargos son: 6\n"
          ]
        }
      ]
    },
    {
      "cell_type": "code",
      "source": [
        "# Lista para almacenar los IDs de los productos\n",
        "ids = []\n",
        "\n",
        "# Pedir 10 IDs al usuario\n",
        "print(\"Introduce 10 IDs de productos (números enteros):\")\n",
        "for i in range(10):\n",
        "    id_producto = int(input(f\"ID #{i+1}: \"))\n",
        "    ids.append(id_producto)\n",
        "\n",
        "# Inicializar contadores\n",
        "dulces = 0\n",
        "amargos = 0\n",
        "\n",
        "# Clasificar productos según su ID\n",
        "for id in ids:\n",
        "    if id % 2 == 0:\n",
        "        dulces += 1\n",
        "    else:\n",
        "        amargos += 1\n",
        "\n",
        "# Mostrar resultados\n",
        "print(f\"\\nCantidad de productos dulces (IDs pares): {dulces}\")\n",
        "print(f\"Cantidad de productos amargos (IDs impares): {amargos}\")\n"
      ],
      "metadata": {
        "id": "LFikr4cUcCL_",
        "outputId": "be9a7d9a-507c-4768-99d9-dbe120d9ade7",
        "colab": {
          "base_uri": "https://localhost:8080/"
        }
      },
      "execution_count": 21,
      "outputs": [
        {
          "output_type": "stream",
          "name": "stdout",
          "text": [
            "Introduce 10 IDs de productos (números enteros):\n",
            "ID #1: 1\n",
            "ID #2: 2\n",
            "ID #3: 3\n",
            "ID #4: 4\n",
            "ID #5: 5\n",
            "ID #6: 6\n",
            "ID #7: 7\n",
            "ID #8: 8\n",
            "ID #9: 9\n",
            "ID #10: 10\n",
            "\n",
            "Cantidad de productos dulces (IDs pares): 5\n",
            "Cantidad de productos amargos (IDs impares): 5\n"
          ]
        }
      ]
    },
    {
      "cell_type": "markdown",
      "source": [
        "9 - Desarrolla un programa que informe la puntuación de un estudiante de acuerdo con sus respuestas. Debe pedir la respuesta del estudiante para cada pregunta y verificar si la respuesta coincide con el resultado. Cada pregunta vale un punto y hay opciones A, B, C o D.\n",
        "\n",
        "\n",
        "Resultado del examen:\n",
        "1 - D\n",
        "\n",
        "2 - A\n",
        "\n",
        "3 - C\n",
        "\n",
        "4 - B\n",
        "\n",
        "5 - A\n",
        "\n",
        "6 - D\n",
        "\n",
        "7 - C\n",
        "\n",
        "8 - C\n",
        "\n",
        "9 - A\n",
        "\n",
        "10 - B"
      ],
      "metadata": {
        "id": "nkgUieee6yw3"
      }
    },
    {
      "cell_type": "code",
      "source": [
        "resultado_de_examen = {1: 'D', 2: 'A', 3: 'C', 4: 'B', 5: 'A', 6: 'D', 7: 'C', 8: 'C', 9: 'A', 10: 'B'}\n",
        "resultado_de_examen"
      ],
      "metadata": {
        "id": "iOtY54RT6AFg",
        "outputId": "ba0babf7-e96d-47e8-cfb8-c3994253744a",
        "colab": {
          "base_uri": "https://localhost:8080/"
        }
      },
      "execution_count": 46,
      "outputs": [
        {
          "output_type": "execute_result",
          "data": {
            "text/plain": [
              "{1: 'D',\n",
              " 2: 'A',\n",
              " 3: 'C',\n",
              " 4: 'B',\n",
              " 5: 'A',\n",
              " 6: 'D',\n",
              " 7: 'C',\n",
              " 8: 'C',\n",
              " 9: 'A',\n",
              " 10: 'B'}"
            ]
          },
          "metadata": {},
          "execution_count": 46
        }
      ]
    },
    {
      "cell_type": "code",
      "source": [
        "respuestas = str(input('Ingrese la letra: '))\n",
        "if respuestas == resultado_de_examen:\n",
        "  print('Aprobado')\n",
        "else:\n",
        "  print('Reprobado')"
      ],
      "metadata": {
        "id": "-DusRtnqtuOV",
        "outputId": "725f53b7-fa9b-4bba-cfd2-59488b3d11cf",
        "colab": {
          "base_uri": "https://localhost:8080/"
        }
      },
      "execution_count": 53,
      "outputs": [
        {
          "output_type": "stream",
          "name": "stdout",
          "text": [
            "Ingrese la letra: D\n",
            "Reprobado\n"
          ]
        }
      ]
    },
    {
      "cell_type": "markdown",
      "source": [
        "10 - Un instituto de meteorología desea realizar un estudio de la temperatura media de cada mes del año. Para ello, debes crear un código que recoja y almacene esas temperaturas medias en una lista. Luego, calcula el promedio anual de las temperaturas y muestra todas las temperaturas por encima del promedio anual y en qué mes ocurrieron, mostrando los meses por su nombre (Enero, Febrero, etc.)."
      ],
      "metadata": {
        "id": "V3sMWILz7fRn"
      }
    },
    {
      "cell_type": "code",
      "source": [],
      "metadata": {
        "id": "4jAK14en6AK0"
      },
      "execution_count": null,
      "outputs": []
    },
    {
      "cell_type": "markdown",
      "source": [
        "11 - Una empresa de comercio electrónico está interesada en analizar las ventas de sus productos. Los datos de ventas se han almacenado en un diccionario:\n",
        "\n",
        "{'Producto A': 300, 'Producto B': 80, 'Producto C': 60, 'Producto D': 200, 'Producto E': 250, 'Producto F': 30}\n",
        "\n",
        "Escribe un código que calcule el total de ventas y el producto más vendido."
      ],
      "metadata": {
        "id": "wgh5tBAQ7la0"
      }
    },
    {
      "cell_type": "code",
      "source": [
        "ventas_de_productos = {'Producto A': 300,\n",
        "                       'Producto B': 80,\n",
        "                       'Producto C': 60,\n",
        "                       'Producto D': 200,\n",
        "                       'Producto E': 250,\n",
        "                       'Producto F': 30}\n",
        "ventas_de_productos"
      ],
      "metadata": {
        "id": "1Kg40h8G7hYt",
        "outputId": "3e9391aa-be35-45e1-fdf9-d8306e236ff1",
        "colab": {
          "base_uri": "https://localhost:8080/"
        }
      },
      "execution_count": 38,
      "outputs": [
        {
          "output_type": "execute_result",
          "data": {
            "text/plain": [
              "{'Producto A': 300,\n",
              " 'Producto B': 80,\n",
              " 'Producto C': 60,\n",
              " 'Producto D': 200,\n",
              " 'Producto E': 250,\n",
              " 'Producto F': 30}"
            ]
          },
          "metadata": {},
          "execution_count": 38
        }
      ]
    },
    {
      "cell_type": "code",
      "source": [
        "total_ventas = sum(ventas_de_productos.values())\n",
        "total_ventas"
      ],
      "metadata": {
        "id": "geN8_n71qKPc",
        "outputId": "cf2ae986-69f8-446f-a98b-ee8ceef7fa9a",
        "colab": {
          "base_uri": "https://localhost:8080/"
        }
      },
      "execution_count": 39,
      "outputs": [
        {
          "output_type": "execute_result",
          "data": {
            "text/plain": [
              "920"
            ]
          },
          "metadata": {},
          "execution_count": 39
        }
      ]
    },
    {
      "cell_type": "code",
      "source": [
        "producto_más_vendido = max(ventas_de_productos, key=ventas_de_productos.get)\n",
        "producto_más_vendido"
      ],
      "metadata": {
        "id": "h7GjRHwmqUjJ",
        "outputId": "5ed7ae1b-0092-4c54-9de2-61cec9929c6c",
        "colab": {
          "base_uri": "https://localhost:8080/",
          "height": 35
        }
      },
      "execution_count": 40,
      "outputs": [
        {
          "output_type": "execute_result",
          "data": {
            "text/plain": [
              "'Producto A'"
            ],
            "application/vnd.google.colaboratory.intrinsic+json": {
              "type": "string"
            }
          },
          "metadata": {},
          "execution_count": 40
        }
      ]
    },
    {
      "cell_type": "markdown",
      "source": [
        "12 - Se realizó una encuesta de mercado para decidir cuál diseño de marca infantil es más atractivo para los niños. Los votos de la encuesta se pueden ver a continuación:\n",
        "\n",
        "Tabla de votos de la marca\n",
        "\n",
        "Diseño 1 - 1334 votos\n",
        "\n",
        "Diseño 2 - 982 votos\n",
        "\n",
        "Diseño 3 - 1751 votos\n",
        "\n",
        "Diseño 4 - 210 votos\n",
        "\n",
        "Diseño 5 - 1811 votos\n",
        "\n",
        "Adapta los datos proporcionados a una estructura de diccionario. A partir de ello, informa el diseño ganador y el porcentaje de votos recibidos."
      ],
      "metadata": {
        "id": "T4I_QGCy75H2"
      }
    },
    {
      "cell_type": "code",
      "source": [
        "diseño_de_marca_infantil = {'Diseño 1': 1334,\n",
        "                             'Diseño 2': 982,\n",
        "                             'Diseño 3': 1751,\n",
        "                             'Diseño 4': 210,\n",
        "                             'Diseño 5': 181}\n",
        "diseño_de_marca_infantil"
      ],
      "metadata": {
        "id": "ghbO6P7o7hg2",
        "outputId": "d059faee-2be4-40a8-8408-38ecd5f55532",
        "colab": {
          "base_uri": "https://localhost:8080/"
        }
      },
      "execution_count": 41,
      "outputs": [
        {
          "output_type": "execute_result",
          "data": {
            "text/plain": [
              "{'Diseño 1': 1334,\n",
              " 'Diseño 2': 982,\n",
              " 'Diseño 3': 1751,\n",
              " 'Diseño 4': 210,\n",
              " 'Diseño 5': 181}"
            ]
          },
          "metadata": {},
          "execution_count": 41
        }
      ]
    },
    {
      "cell_type": "code",
      "source": [
        "ganador_de_votos = max(diseño_de_marca_infantil, key=diseño_de_marca_infantil.get)\n",
        "ganador_de_votos"
      ],
      "metadata": {
        "id": "rObRpU_sr5E_",
        "outputId": "0b78a138-492e-44ea-a1dc-d79c48646008",
        "colab": {
          "base_uri": "https://localhost:8080/",
          "height": 35
        }
      },
      "execution_count": 42,
      "outputs": [
        {
          "output_type": "execute_result",
          "data": {
            "text/plain": [
              "'Diseño 3'"
            ],
            "application/vnd.google.colaboratory.intrinsic+json": {
              "type": "string"
            }
          },
          "metadata": {},
          "execution_count": 42
        }
      ]
    },
    {
      "cell_type": "code",
      "source": [
        "porcentaje_votos = (diseño_de_marca_infantil[ganador_de_votos] / sum(diseño_de_marca_infantil.values())) * 100\n",
        "porcentaje_votos"
      ],
      "metadata": {
        "id": "sXePV4YxsCvH",
        "outputId": "7cde31a6-1a95-4ff7-f647-c4bf6c97503d",
        "colab": {
          "base_uri": "https://localhost:8080/"
        }
      },
      "execution_count": 43,
      "outputs": [
        {
          "output_type": "execute_result",
          "data": {
            "text/plain": [
              "39.27770300583221"
            ]
          },
          "metadata": {},
          "execution_count": 43
        }
      ]
    },
    {
      "cell_type": "markdown",
      "source": [
        "13 - Los empleados de un departamento de tu empresa recibirán una bonificación del 10% de su salario debido a un excelente rendimiento del equipo. El departamento de finanzas ha solicitado tu ayuda para verificar las consecuencias financieras de esta bonificación en los recursos. Se te ha enviado una lista con los salarios que recibirán la bonificación: [1172, 1644, 2617, 5130, 5532, 6341, 6650, 7238, 7685, 7782, 7903]. La bonificación de cada empleado no puede ser inferior a 200. En el código, convierte cada uno de los salarios en claves de un diccionario y la bonificación de cada salario en el valor correspondiente. Luego, informa el gasto total en bonificaciones, cuántos empleados recibieron la bonificación mínima y cuál fue el valor más alto de la bonificación proporcionada."
      ],
      "metadata": {
        "id": "NIU7tEuI8KP0"
      }
    },
    {
      "cell_type": "code",
      "source": [],
      "metadata": {
        "id": "hye4hah47hlg"
      },
      "execution_count": null,
      "outputs": []
    },
    {
      "cell_type": "code",
      "source": [
        "# Lista de salarios\n",
        "salarios = [1172, 1644, 2617, 5130, 5532, 6341, 6650, 7238, 7685, 7782, 7903]\n",
        "\n",
        "# Crear diccionario de bonificaciones\n",
        "bonificaciones = {}\n",
        "for salario in salarios:\n",
        "    bonificacion = max(salario * 0.10, 200)  # Garantiza que sea al menos 200\n",
        "    bonificaciones[salario] = bonificacion\n",
        "\n",
        "# Calcular total de bonificaciones\n",
        "total_bonificaciones = sum(bonificaciones.values())\n",
        "\n",
        "# Contar cuántos empleados recibieron la bonificación mínima\n",
        "bonificacion_minima = 200\n",
        "empleados_minimos = list(bonificaciones.values()).count(bonificacion_minima)\n",
        "\n",
        "# Encontrar la mayor bonificación\n",
        "mayor_bonificacion = max(bonificaciones.values())\n",
        "\n",
        "# Mostrar resultados\n",
        "print(\"Diccionario de bonificaciones:\")\n",
        "for salario, bonificacion in bonificaciones.items():\n",
        "    print(f\"Salario: {salario}, Bonificación: {bonificacion:.2f}\")\n",
        "\n",
        "print(f\"\\nGasto total en bonificaciones: {total_bonificaciones:.2f}\")\n",
        "print(f\"Empleados que recibieron la bonificación mínima ({bonificacion_minima}): {empleados_minimos}\")\n",
        "print(f\"Mayor bonificación otorgada: {mayor_bonificacion:.2f}\")\n"
      ],
      "metadata": {
        "id": "wSUxWE3_ygr5",
        "outputId": "e99b6848-bf5c-48be-fdab-7df861d52c00",
        "colab": {
          "base_uri": "https://localhost:8080/"
        }
      },
      "execution_count": 54,
      "outputs": [
        {
          "output_type": "stream",
          "name": "stdout",
          "text": [
            "Diccionario de bonificaciones:\n",
            "Salario: 1172, Bonificación: 200.00\n",
            "Salario: 1644, Bonificación: 200.00\n",
            "Salario: 2617, Bonificación: 261.70\n",
            "Salario: 5130, Bonificación: 513.00\n",
            "Salario: 5532, Bonificación: 553.20\n",
            "Salario: 6341, Bonificación: 634.10\n",
            "Salario: 6650, Bonificación: 665.00\n",
            "Salario: 7238, Bonificación: 723.80\n",
            "Salario: 7685, Bonificación: 768.50\n",
            "Salario: 7782, Bonificación: 778.20\n",
            "Salario: 7903, Bonificación: 790.30\n",
            "\n",
            "Gasto total en bonificaciones: 6087.80\n",
            "Empleados que recibieron la bonificación mínima (200): 2\n",
            "Mayor bonificación otorgada: 790.30\n"
          ]
        }
      ]
    },
    {
      "cell_type": "markdown",
      "source": [
        "14 - Un equipo de científicos de datos está estudiando la diversidad biológica en un bosque. El equipo recopiló información sobre el número de especies de plantas y animales en cada área del bosque y almacenó estos datos en un diccionario. En él, la clave describe el área de los datos y los valores en las listas corresponden a las especies de plantas y animales en esas áreas, respectivamente.\n",
        "\n",
        "{'Área Norte': [2819, 7236], 'Área Leste': [1440, 9492], 'Área Sul': [5969, 7496], 'Área Oeste': [14446, 49688], 'Área Centro': [22558, 45148]}\n",
        "\n",
        "\n",
        "Escribe un código para calcular el promedio de especies por área e identificar el área con la mayor diversidad biológica. Sugerencia: utiliza las funciones incorporadas sum() y len()."
      ],
      "metadata": {
        "id": "_ErQT7s-8aOa"
      }
    },
    {
      "cell_type": "code",
      "source": [
        "plantas_animales = {'Área Norte': [2819, 7236],\n",
        "                    'Área Leste': [1440, 9492],\n",
        "                    'Área Sul': [5969, 7496],\n",
        "                    'Área Oeste': [14446, 49688],\n",
        "                    'Área Centro': [22558, 45148]}\n",
        "plantas_animales"
      ],
      "metadata": {
        "id": "Sfr83-mM7hp2",
        "outputId": "dddd5844-0970-4272-edc7-9935324e5f3b",
        "colab": {
          "base_uri": "https://localhost:8080/"
        }
      },
      "execution_count": 35,
      "outputs": [
        {
          "output_type": "execute_result",
          "data": {
            "text/plain": [
              "{'Área Norte': [2819, 7236],\n",
              " 'Área Leste': [1440, 9492],\n",
              " 'Área Sul': [5969, 7496],\n",
              " 'Área Oeste': [14446, 49688],\n",
              " 'Área Centro': [22558, 45148]}"
            ]
          },
          "metadata": {},
          "execution_count": 35
        }
      ]
    },
    {
      "cell_type": "code",
      "source": [
        "promedio_de_especies = {}\n",
        "for area, especies in plantas_animales.items():\n",
        "  promedio = sum(especies) / len(especies)\n",
        "  promedio_de_especies[area] = promedio\n",
        "promedio_de_especies"
      ],
      "metadata": {
        "id": "wkApms--opzS",
        "outputId": "073ca588-9b92-461d-afb8-4e8c2818934e",
        "colab": {
          "base_uri": "https://localhost:8080/"
        }
      },
      "execution_count": 36,
      "outputs": [
        {
          "output_type": "execute_result",
          "data": {
            "text/plain": [
              "{'Área Norte': 5027.5,\n",
              " 'Área Leste': 5466.0,\n",
              " 'Área Sul': 6732.5,\n",
              " 'Área Oeste': 32067.0,\n",
              " 'Área Centro': 33853.0}"
            ]
          },
          "metadata": {},
          "execution_count": 36
        }
      ]
    },
    {
      "cell_type": "code",
      "source": [
        "mayor_diversidad = max(promedio_de_especies, key=promedio_de_especies.get)\n",
        "mayor_diversidad"
      ],
      "metadata": {
        "id": "ew_IaAF9pBiU",
        "outputId": "31ac2c22-7c05-413d-a3d7-bbd575a3821f",
        "colab": {
          "base_uri": "https://localhost:8080/",
          "height": 35
        }
      },
      "execution_count": 37,
      "outputs": [
        {
          "output_type": "execute_result",
          "data": {
            "text/plain": [
              "'Área Centro'"
            ],
            "application/vnd.google.colaboratory.intrinsic+json": {
              "type": "string"
            }
          },
          "metadata": {},
          "execution_count": 37
        }
      ]
    },
    {
      "cell_type": "markdown",
      "source": [
        "15 - El departamento de Recursos Humanos de tu empresa te pidió ayuda para analizar las edades de los colaboradores de 4 sectores de la empresa. Para ello, te proporcionaron los siguientes datos:\n",
        "\n",
        "{'Setor A': [22, 26, 30, 30, 35, 38, 40, 56, 57, 65],\n",
        "\n",
        " 'Setor B': [22, 24, 26, 33, 41, 49, 50, 54, 60, 64],\n",
        "\n",
        " 'Setor C': [23, 26, 26, 29, 34, 35, 36, 41, 52, 56],\n",
        "\n",
        " 'Setor D': [19, 20, 25, 27, 34, 39, 42, 44, 50, 65]}\n",
        "\n",
        " Dado que cada sector tiene 10 colaboradores, construye un código que calcule la media de edad de cada sector, la edad media general entre todos los sectores y cuántas personas están por encima de la edad media general."
      ],
      "metadata": {
        "id": "9uRr4rxP8vYD"
      }
    },
    {
      "cell_type": "code",
      "source": [
        "edades_por_sector = {'Setor A': [22, 26, 30, 30, 35, 38, 40, 56, 57, 65],\n",
        "\n",
        "                     'Setor B': [22, 24, 26, 33, 41, 49, 50, 54, 60, 64],\n",
        "\n",
        "                     'Setor C': [23, 26, 26, 29, 34, 35, 36, 41, 52, 56],\n",
        "\n",
        "                     'Setor D': [19, 20, 25, 27, 34, 39, 42, 44, 50, 65]}\n",
        "edades_por_sector"
      ],
      "metadata": {
        "id": "LklMa9QD7huH",
        "outputId": "2cdb5ceb-2424-46c8-b2ab-112aed1dea9c",
        "colab": {
          "base_uri": "https://localhost:8080/"
        }
      },
      "execution_count": 31,
      "outputs": [
        {
          "output_type": "execute_result",
          "data": {
            "text/plain": [
              "{'Setor A': [22, 26, 30, 30, 35, 38, 40, 56, 57, 65],\n",
              " 'Setor B': [22, 24, 26, 33, 41, 49, 50, 54, 60, 64],\n",
              " 'Setor C': [23, 26, 26, 29, 34, 35, 36, 41, 52, 56],\n",
              " 'Setor D': [19, 20, 25, 27, 34, 39, 42, 44, 50, 65]}"
            ]
          },
          "metadata": {},
          "execution_count": 31
        }
      ]
    },
    {
      "cell_type": "code",
      "source": [
        "media  = {}\n",
        "for sector, edades in edades_por_sector.items():\n",
        "  media[sector] = sum(edades) / len(edades)\n",
        "media"
      ],
      "metadata": {
        "id": "Ytf6jm-Z7iDB",
        "outputId": "fbfb4ce0-19ca-4aa6-e0e7-a93aec22d19c",
        "colab": {
          "base_uri": "https://localhost:8080/"
        }
      },
      "execution_count": 32,
      "outputs": [
        {
          "output_type": "execute_result",
          "data": {
            "text/plain": [
              "{'Setor A': 39.9, 'Setor B': 42.3, 'Setor C': 35.8, 'Setor D': 36.5}"
            ]
          },
          "metadata": {},
          "execution_count": 32
        }
      ]
    },
    {
      "cell_type": "code",
      "source": [
        "media_general = sum(sum(edades) for edades in edades_por_sector.values()) / sum(len(edades) for edades in edades_por_sector.values())\n",
        "media_general"
      ],
      "metadata": {
        "id": "jMSkuxzQ7iIf",
        "outputId": "d41d6a01-5473-4363-d827-85a14261988f",
        "colab": {
          "base_uri": "https://localhost:8080/"
        }
      },
      "execution_count": 33,
      "outputs": [
        {
          "output_type": "execute_result",
          "data": {
            "text/plain": [
              "38.625"
            ]
          },
          "metadata": {},
          "execution_count": 33
        }
      ]
    },
    {
      "cell_type": "code",
      "source": [
        "encima_media_general = 0\n",
        "for edades in edades_por_sector.values():\n",
        "  for edad in edades:\n",
        "    if edad > media_general:\n",
        "      encima_media_general += 1\n",
        "encima_media_general\n"
      ],
      "metadata": {
        "id": "cL77HqHDi2dz",
        "outputId": "8b34b952-21ed-4d2b-8422-df5e13c173e8",
        "colab": {
          "base_uri": "https://localhost:8080/"
        }
      },
      "execution_count": 34,
      "outputs": [
        {
          "output_type": "execute_result",
          "data": {
            "text/plain": [
              "18"
            ]
          },
          "metadata": {},
          "execution_count": 34
        }
      ]
    }
  ]
}